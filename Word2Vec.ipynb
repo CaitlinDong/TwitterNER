{
 "cells": [
  {
   "cell_type": "code",
   "execution_count": 1,
   "metadata": {
    "collapsed": true
   },
   "outputs": [],
   "source": [
    "%matplotlib inline\n",
    "import numpy as np\n",
    "import pandas as pd\n",
    "\n",
    "import matplotlib.pyplot as plt\n",
    "import seaborn as sns\n",
    "sns.set_context(\"poster\")\n",
    "sns.set_style(\"ticks\")\n",
    "\n",
    "from itertools import chain\n",
    "\n",
    "from sklearn.metrics import make_scorer\n",
    "from sklearn.cross_validation import cross_val_score\n",
    "from sklearn.grid_search import RandomizedSearchCV\n",
    "\n",
    "import sklearn_crfsuite\n",
    "from sklearn_crfsuite import scorers\n",
    "from sklearn_crfsuite import metrics\n",
    "from sklearn.cross_validation import cross_val_score\n",
    "from sklearn.grid_search import RandomizedSearchCV\n",
    "\n",
    "import regex as re\n",
    "from collections import namedtuple, defaultdict, Counter, OrderedDict\n",
    "from IPython.display import display\n",
    "from joblib import load, dump, Parallel, delayed\n",
    "\n",
    "import os, string, sys\n",
    "\n",
    "from gensim.models import word2vec"
   ]
  },
  {
   "cell_type": "code",
   "execution_count": 2,
   "metadata": {
    "collapsed": true
   },
   "outputs": [],
   "source": [
    "class RegexFeatures(object):\n",
    "    PATTERNS = {\n",
    "        \"isInitCapitalWord\": re.compile(r'^[A-Z][a-z]+'),\n",
    "        \"isAllCapitalWord\": re.compile(r'^[A-Z][A-Z]+$'),\n",
    "        \"isAllSmallCase\": re.compile(r'^[a-z]+$'),\n",
    "        \"isWord\": re.compile(r'^[a-zA-Z][a-zA-Z]+$'),\n",
    "        \"isAlphaNumeric\": re.compile(r'^\\p{Alnum}+$'),\n",
    "        \"isSingleCapLetter\": re.compile(r'^[A-Z]$'),\n",
    "        \"containsDashes\": re.compile(r'.*--.*'),\n",
    "        \"containsDash\": re.compile(r'.*\\-.*'),\n",
    "        \"singlePunctuation\": re.compile(r'^\\p{Punct}$'),\n",
    "        \"repeatedPunctuation\": re.compile(r'^[\\.\\,!\\?\"\\':;_\\-]{2,}$'),\n",
    "        \"singleDot\": re.compile(r'[.]'),\n",
    "        \"singleComma\": re.compile(r'[,]'),\n",
    "        \"singleQuote\": re.compile(r'[\\']'),\n",
    "        \"isSpecialCharacter\": re.compile(r'^[#;:\\-/<>\\'\\\"()&]$'),\n",
    "        \"fourDigits\": re.compile(r'^\\d\\d\\d\\d$'),\n",
    "        \"isDigits\": re.compile(r'^\\d+$'),\n",
    "        \"isNumber\": re.compile(r'^((\\p{N}{,2}([,]?\\p{N}{3})+)(\\.\\p{N}+)?)$'),\n",
    "        \"containsDigit\": re.compile(r'.*\\d+.*'),\n",
    "        \"endsWithDot\": re.compile(r'\\p{Alnum}+\\.$'),\n",
    "        \"isURL\": re.compile(r'^http[s]?://'),\n",
    "        \"isMention\": re.compile(r'^(RT)?@[\\p{Alnum}_]+$'),\n",
    "        \"isHashtag\": re.compile(r'^#\\p{Alnum}+$'),\n",
    "        \"isMoney\": re.compile(r'^\\$((\\p{N}{,2}([,]?\\p{N}{3})+)(\\.\\p{N}+)?)$'),\n",
    "    }\n",
    "    def __init__(self):\n",
    "        print \"Initialized RegexFeature\"\n",
    "    @staticmethod\n",
    "    def process(word):\n",
    "        features = dict()\n",
    "        for k, p in RegexFeatures.PATTERNS.iteritems():\n",
    "            if p.match(word):\n",
    "                features[k] = True\n",
    "        return features\n",
    "    \n",
    "    \n",
    "def classification_report_to_df(report):\n",
    "    report_list = []\n",
    "    for i, line in enumerate(report.split(\"\\n\")):\n",
    "        if i == 0:\n",
    "            report_list.append([\"class\", \"precision\", \"recall\", \"f1-score\", \"support\"])\n",
    "        else:\n",
    "            line = line.strip()\n",
    "            if line:\n",
    "                if line.startswith(\"avg\"):\n",
    "                    line = line.replace(\"avg / total\", \"avg/total\")\n",
    "                line = re.split(r'\\s+', line)\n",
    "                report_list.append(tuple(line))\n",
    "    return pd.DataFrame(report_list[1:], columns=report_list[0])\n",
    "\n",
    "\n",
    "DATA_DIR=\"data/data/\"\n",
    "CLEANED_DIR=\"data/cleaned/\"\n",
    "\n",
    "Tag = namedtuple(\"Tag\", [\"token\", \"tag\"])\n",
    "\n",
    "def load_sequences(filename, sep=\"\\t\", notypes=False, test_data=False):\n",
    "    sequences = []\n",
    "    with open(filename) as fp:\n",
    "        seq = []\n",
    "        for line in fp:\n",
    "            line = line.strip()\n",
    "            if line:\n",
    "                line = line.split(sep)\n",
    "                if test_data:\n",
    "                    assert len(line) == 1\n",
    "                    line.append(\"?\")\n",
    "                if notypes:\n",
    "                    line[1] = line[1][0]\n",
    "                seq.append(Tag(*line))\n",
    "            else:\n",
    "                sequences.append(seq)\n",
    "                seq = []\n",
    "        if seq:\n",
    "            sequences.append(seq)\n",
    "    return sequences\n",
    "\n",
    "\n",
    "def load_vocab(filename):\n",
    "    vocab = set()\n",
    "    with open(filename) as fp:\n",
    "        for line in fp:\n",
    "            line = line.strip()\n",
    "            vocab.add(line)\n",
    "    return vocab      \n",
    "\n",
    "    \n",
    "def print_transitions(trans_features):\n",
    "    for (label_from, label_to), weight in trans_features:\n",
    "        print(\"%-6s -> %-7s %0.6f\" % (label_from, label_to, weight))\n",
    "        \n",
    "def print_state_features(state_features):\n",
    "    for (attr, label), weight in state_features:\n",
    "        print(\"%0.6f %-8s %s\" % (weight, label, attr)) \n",
    "        \n",
    "        \n",
    "def plot_cm(y_test, y_pred, labels=[], axis=1):\n",
    "    labels_s = dict((k,i) for i,k in enumerate(labels))\n",
    "    cm = np.zeros((len(labels), len(labels)))\n",
    "    for i,j in zip(sum(y_test, []), sum(y_pred, [])):\n",
    "        i = labels_s[i]\n",
    "        j = labels_s[j]\n",
    "        cm[i,j] += 1\n",
    "    with plt.rc_context(rc={'xtick.labelsize': 12, 'ytick.labelsize': 12,\n",
    "                       'figure.figsize': (16,14)}):\n",
    "        sns.heatmap(cm * 100/ cm.sum(axis=axis, keepdims=True),\n",
    "                    #cmap=sns.cubehelix_palette(n_colors=100, rot=-.4, as_cmap=True),\n",
    "                    cmap=\"Greys\",\n",
    "                    xticklabels=labels,\n",
    "                    yticklabels=labels)\n",
    "        plt.ylabel(\"True labels\")\n",
    "        plt.xlabel(\"Predicted labels\")\n",
    "        title = \"Precision Plot\"\n",
    "        if axis== 0:\n",
    "            title = \"Recall Plot\"\n",
    "        plt.title(title)\n",
    "    print cm.shape\n",
    "    return cm\n",
    "\n",
    "\n",
    "def print_sequences(sequences, predictions, filename, test_data=False, notypes=False):\n",
    "    with open(filename, \"wb+\") as fp:\n",
    "        for seq, pred in zip(sequences, predictions):\n",
    "            for t, p in zip(seq, pred):\n",
    "                token, tag = t\n",
    "                if tag[0] == \"U\":\n",
    "                    tag = \"B%s\" % tag[1:]\n",
    "                if tag[0] == \"E\":\n",
    "                    tag = \"I%s\" % tag[1:]\n",
    "                if p[0] == \"U\":\n",
    "                    p = \"B%s\" % p[1:]\n",
    "                if p[0] == \"E\":\n",
    "                    p = \"I%s\" % p[1:]\n",
    "                if notypes:\n",
    "                    tag = tag[0]\n",
    "                    p = p[0]\n",
    "                if test_data:\n",
    "                    line = \"\\t\".join((token, p))\n",
    "                else:\n",
    "                    line = \"\\t\".join((token, tag, p))\n",
    "                print >> fp, line\n",
    "            print >> fp, \"\"\n",
    "    print \"Done\""
   ]
  },
  {
   "cell_type": "code",
   "execution_count": 3,
   "metadata": {
    "collapsed": true
   },
   "outputs": [],
   "source": [
    "WORD_SPLITTER = re.compile(r'[\\p{Punct}\\s]+')\n",
    "class DictionaryFeatures:\n",
    "    def __init__(self, dictDir):\n",
    "        self.word2dictionaries = {}\n",
    "        self.word2hashtagdictionaries = {}\n",
    "        self.dictionaries = []\n",
    "        i = 0\n",
    "        for d in os.listdir(dictDir):\n",
    "            print >> sys.stderr, \"read dict %s\"%d\n",
    "            self.dictionaries.append(d)\n",
    "            if d == '.svn':\n",
    "                continue\n",
    "            for line in open(dictDir + \"/\" + d):\n",
    "                word = line.rstrip('\\n')\n",
    "                word = word.strip(' ').lower()\n",
    "                word = WORD_SPLITTER.sub(\" \", word)\n",
    "                word_hashtag = \"\".join(WORD_SPLITTER.split(word))\n",
    "                if not self.word2dictionaries.has_key(word):\n",
    "                    self.word2dictionaries[word] = str(i)\n",
    "                else:   \n",
    "                    self.word2dictionaries[word] += \"\\t%s\" % i\n",
    "                if not self.word2hashtagdictionaries.has_key(word_hashtag):\n",
    "                    self.word2hashtagdictionaries[word_hashtag] = str(i)\n",
    "                else:\n",
    "                    self.word2hashtagdictionaries[word_hashtag] += \"\\t%s\" % i\n",
    "            i += 1\n",
    "    \n",
    "    MAX_WINDOW_SIZE=6\n",
    "    def GetDictFeatures(self, words, i):\n",
    "        features = []\n",
    "        phrase = ' '.join(words[i:i+1]).lower().strip(string.punctuation)\n",
    "        phrase = WORD_SPLITTER.sub(\" \", phrase)\n",
    "        if self.word2dictionaries.has_key(phrase):\n",
    "            for j in self.word2dictionaries[phrase].split('\\t'):\n",
    "                features.append('DICT=%s' % self.dictionaries[int(j)])\n",
    "        for window in range(1, self.MAX_WINDOW_SIZE+1):\n",
    "            ## Forward\n",
    "            start=i\n",
    "            end =i + window + 1\n",
    "            if start > -1 and end < len(words) + 1:\n",
    "                phrase = ' '.join(words[start:end]).lower().strip(string.punctuation)\n",
    "                phrase = WORD_SPLITTER.sub(\" \", phrase)\n",
    "                if self.word2dictionaries.has_key(phrase):\n",
    "                    for j in self.word2dictionaries[phrase].split('\\t'):\n",
    "                        features.append('DICTFWD[+%s]=%s' % (window, self.dictionaries[int(j)]))\n",
    "            ## Backward\n",
    "            start = i - window\n",
    "            end =i+1\n",
    "            if start > -1 and end < len(words) + 1:\n",
    "                phrase = ' '.join(words[start:end]).lower().strip(string.punctuation)\n",
    "                phrase = WORD_SPLITTER.sub(\" \", phrase)\n",
    "                if self.word2dictionaries.has_key(phrase):\n",
    "                    for j in self.word2dictionaries[phrase].split('\\t'):\n",
    "                        features.append('DICTBCK[-%s]=%s' % (window, self.dictionaries[int(j)]))\n",
    "            ## Window        \n",
    "            start = i - window\n",
    "            end =i+window+1\n",
    "            if start > -1 and end < len(words) + 1:\n",
    "                phrase = ' '.join(words[start:end]).lower().strip(string.punctuation)\n",
    "                phrase = WORD_SPLITTER.sub(\" \", phrase)\n",
    "                if self.word2dictionaries.has_key(phrase):\n",
    "                    for j in self.word2dictionaries[phrase].split('\\t'):\n",
    "                        features.append('DICTWIN[%s]=%s' % (window, self.dictionaries[int(j)]))\n",
    "                        \n",
    "        \"\"\"\n",
    "        for window in range(1,self.MAX_WINDOW_SIZE):\n",
    "            start=max(i-window+1, 0)\n",
    "            end = start + window\n",
    "            phrase = ' '.join(words[start:end]).lower().strip(string.punctuation)\n",
    "            phrase = WORD_SPLITTER.sub(\" \", phrase)\n",
    "            if self.word2dictionaries.has_key(phrase):\n",
    "                for j in self.word2dictionaries[phrase].split('\\t'):\n",
    "                    features.append('DICT=%s' % self.dictionaries[int(j)])\n",
    "                    if window > 1:\n",
    "                        features.append('DICTWIN[%s]=%s' % (window, self.dictionaries[int(j)]))\n",
    "                        \n",
    "        \"\"\"                \n",
    "        return list(set(features))\n",
    "    \n",
    "    def GetHashtagDictFeatures(self, word):\n",
    "        features = []\n",
    "        if len(word) < 2 or word[0] != \"#\":\n",
    "            return features\n",
    "        word = word[1:].lower().strip(string.punctuation)\n",
    "        if self.word2hashtagdictionaries.has_key(word):\n",
    "            for j in self.word2hashtagdictionaries[word].split('\\t'):\n",
    "                features.append('DICT_HASHTAG=%s' % self.dictionaries[int(j)])\n",
    "        return list(set(features))\n"
   ]
  },
  {
   "cell_type": "code",
   "execution_count": 4,
   "metadata": {
    "collapsed": false
   },
   "outputs": [
    {
     "name": "stdout",
     "output_type": "stream",
     "text": [
      "8023\n"
     ]
    }
   ],
   "source": [
    "train_sequences = load_sequences(\"data/cleaned/train.BIEOU.tsv\", sep=\"\\t\", notypes=False)\n",
    "dev_sequences = (load_sequences(\"data/cleaned/dev.BIEOU.tsv\", sep=\"\\t\", notypes=False) \n",
    "                 + load_sequences(\"data/cleaned/dev_2015.BIEOU.tsv\", sep=\"\\t\", notypes=False))\n",
    "\n",
    "vocab = load_vocab(\"vocab.no_extras.txt\")\n",
    "print len(vocab)"
   ]
  },
  {
   "cell_type": "code",
   "execution_count": 5,
   "metadata": {
    "collapsed": true
   },
   "outputs": [],
   "source": [
    "all_sentences = [[t[0] for t in seq] for seq in (train_sequences+dev_sequences)]"
   ]
  },
  {
   "cell_type": "code",
   "execution_count": 6,
   "metadata": {
    "collapsed": false
   },
   "outputs": [
    {
     "name": "stdout",
     "output_type": "stream",
     "text": [
      "isHashtag 1002\n",
      "isMoney 8\n",
      "repeatedPunctuation 1388\n",
      "isURL 1159\n",
      "isMention 2243\n",
      "isNumber 393\n"
     ]
    }
   ],
   "source": [
    "other_entities = {\n",
    "    \"isHashtag\": [],\n",
    "    \"isMention\": [],\n",
    "    \"isURL\": [],\n",
    "    \"isMoney\": [],\n",
    "    \"isNumber\": [],\n",
    "    \"repeatedPunctuation\": []\n",
    "}\n",
    "for seq in all_sentences:\n",
    "    for t in seq:\n",
    "        for k in other_entities.keys():\n",
    "            if RegexFeatures.PATTERNS[k].match(t):\n",
    "                other_entities[k].append(t)\n",
    "for k, v in other_entities.iteritems():\n",
    "    print k, len(v)"
   ]
  },
  {
   "cell_type": "code",
   "execution_count": 7,
   "metadata": {
    "collapsed": false
   },
   "outputs": [
    {
     "data": {
      "text/plain": [
       "{'isHashtag': '__isHashtag__',\n",
       " 'isMention': '__isMention__',\n",
       " 'isMoney': '__isMoney__',\n",
       " 'isNumber': '__isNumber__',\n",
       " 'isURL': '__isURL__',\n",
       " 'repeatedPunctuation': '__repeatedPunctuation__'}"
      ]
     },
     "execution_count": 7,
     "metadata": {},
     "output_type": "execute_result"
    }
   ],
   "source": [
    "ENTITY_MAPPINGS={k: \"__%s__\" % k for k in other_entities.keys()}\n",
    "ENTITY_MAPPINGS"
   ]
  },
  {
   "cell_type": "code",
   "execution_count": 8,
   "metadata": {
    "collapsed": true
   },
   "outputs": [],
   "source": [
    "def preprocess_token(x, to_lower=False):\n",
    "    for k in ENTITY_MAPPINGS.keys():\n",
    "        if RegexFeatures.PATTERNS[k].match(x):\n",
    "            return ENTITY_MAPPINGS[k]\n",
    "    if to_lower:\n",
    "        x = x.lower()\n",
    "    return x"
   ]
  },
  {
   "cell_type": "code",
   "execution_count": 9,
   "metadata": {
    "collapsed": true
   },
   "outputs": [],
   "source": [
    "word2vec_sentences = [[preprocess_token(t[0], to_lower=True) for t in seq] for seq in (train_sequences+dev_sequences)]"
   ]
  },
  {
   "cell_type": "code",
   "execution_count": 10,
   "metadata": {
    "collapsed": false
   },
   "outputs": [
    {
     "data": {
      "text/plain": [
       "['__isMention__',\n",
       " '__isMention__',\n",
       " 'they',\n",
       " 'will',\n",
       " 'be',\n",
       " 'all',\n",
       " 'done',\n",
       " 'by',\n",
       " 'sunday',\n",
       " 'trust',\n",
       " 'me',\n",
       " '*wink*']"
      ]
     },
     "execution_count": 10,
     "metadata": {},
     "output_type": "execute_result"
    }
   ],
   "source": [
    "word2vec_sentences[0]"
   ]
  },
  {
   "cell_type": "code",
   "execution_count": 11,
   "metadata": {
    "collapsed": false
   },
   "outputs": [
    {
     "data": {
      "text/plain": [
       "'__isMention__'"
      ]
     },
     "execution_count": 11,
     "metadata": {},
     "output_type": "execute_result"
    }
   ],
   "source": [
    "preprocess_token(\"@guild_gamer\")"
   ]
  },
  {
   "cell_type": "code",
   "execution_count": 12,
   "metadata": {
    "collapsed": false
   },
   "outputs": [],
   "source": [
    "model = word2vec.Word2Vec(word2vec_sentences, size=50, window=10, sg=1, hs=0, min_count=1, negative=10, workers=-1, iter=5)"
   ]
  },
  {
   "cell_type": "code",
   "execution_count": 13,
   "metadata": {
    "collapsed": false
   },
   "outputs": [
    {
     "name": "stdout",
     "output_type": "stream",
     "text": [
      "[('woohoo', 1.1921510696411133), ('sense', 1.1719330549240112), ('stuf', 1.1321699619293213), ('magshipping', 1.1089348793029785), ('daughter', 1.0918971300125122), ('workshops', 1.0673930644989014), ('assuming', 1.0667248964309692), ('leo', 1.06049644947052), ('club', 1.045501470565796), ('theyll', 1.04293954372406)]\n",
      "[('belgium', 0.7511849403381348), ('witty', 0.7426531314849854), ('casse', 0.7351176738739014), ('changed', 0.7312736511230469), ('amendment', 0.7266189455986023), ('extras', 0.7251930236816406), ('purse', 0.7246640920639038), ('niiiiiiiiiight', 0.7233899831771851), ('coolin', 0.7197006940841675), ('unreal', 0.7180455923080444)]\n"
     ]
    }
   ],
   "source": [
    "print model.most_similar_cosmul(positive=[\"guy\", \"women\"], negative=[\"man\"])\n",
    "print model.most_similar_cosmul(positive=[\"raining\"])"
   ]
  },
  {
   "cell_type": "code",
   "execution_count": 14,
   "metadata": {
    "collapsed": false
   },
   "outputs": [
    {
     "name": "stdout",
     "output_type": "stream",
     "text": [
      "[('sense', 0.504571795463562), ('leo', 0.4583565592765808), ('workshops', 0.4541390538215637), ('woohoo', 0.45328354835510254), ('club', 0.447057843208313), ('astonishing', 0.4353468716144562), ('gods', 0.4219190180301666), ('stuf', 0.4147311747074127), ('rsw', 0.4133324921131134), ('ever', 0.40247926115989685)]\n",
      "[('belgium', 0.5023713707923889), ('witty', 0.4853076636791229), ('casse', 0.47023677825927734), ('changed', 0.46254879236221313), ('amendment', 0.4532393515110016), ('extras', 0.45038753747940063), ('purse', 0.4493296444416046), ('niiiiiiiiiight', 0.44678133726119995), ('coolin', 0.4394027888774872), ('unreal', 0.4360924959182739)]\n"
     ]
    }
   ],
   "source": [
    "print model.most_similar(positive=[\"guy\", \"women\"], negative=[\"man\"])\n",
    "print model.most_similar(positive=[\"raining\"])"
   ]
  },
  {
   "cell_type": "code",
   "execution_count": 15,
   "metadata": {
    "collapsed": false
   },
   "outputs": [
    {
     "name": "stdout",
     "output_type": "stream",
     "text": [
      "['raining', 'foul', 'dongwoon/hq', 'woods', 'hanging', 'snowing', 'rimutakas', 'otra', 'opener', 'lord', 'regional', 'kalaingar', 'yellow', 'bringing', 'four', 'slooooooots', 'wednesday', 'bugatti', 'greaaaat', 'solid', 'humeur', 'south-west', 'glassy', 'nigh', 'tired', 'katara', 'complainers', '27-', 'kreeg', 'second', 'inanimate', 'errors', 'inglewood', 'boogie', 'contributed', 'roadhouse', 'fossil', 'cars', 'increasing', 'jessum', 'hero', 'dahl', 'legendary/novelties', 'suga', 'here', 'onga', 'reported', 'china', 'kids', 'elaborate', 'reports', 'chewables', \"i'd\", 'military', \"i'm\", 'golden', 'replace', 'brought', 'motoland', 'txt', 'unit', 'dna', 'spoke', '42', 'overshadow', 'explorers', 'dnt', 'gabourey', 'music', 'telegraph', 'strike', 'musik', 'until', 'playboy', 'holy', 'relax', 'successful', 'brings', 'miren', 'yahoo', 'hurt', '99', 'glass', 'thinkpad', '90', '93', 'hold', '94', 'hola', 'hayfever/headcold/sinusinfection', 'listenin', 'wippenberg', 'blade', 'casitas', 'temperatures', 'homeworkkk', 'example', 'coolum', 'household', 'wann']\n"
     ]
    }
   ],
   "source": [
    "print model.vocab.keys()[:100]"
   ]
  },
  {
   "cell_type": "code",
   "execution_count": 16,
   "metadata": {
    "collapsed": false
   },
   "outputs": [
    {
     "data": {
      "text/plain": [
       "10092"
      ]
     },
     "execution_count": 16,
     "metadata": {},
     "output_type": "execute_result"
    }
   ],
   "source": [
    "len(model.vocab)"
   ]
  },
  {
   "cell_type": "code",
   "execution_count": 17,
   "metadata": {
    "collapsed": false
   },
   "outputs": [
    {
     "name": "stdout",
     "output_type": "stream",
     "text": [
      "__isMention__ 2243\n",
      ". 2118\n",
      ", 1441\n",
      "the 1431\n",
      "__repeatedPunctuation__ 1388\n",
      ": 1354\n",
      "i 1216\n",
      "to 1189\n",
      "__isURL__ 1159\n",
      "a 1015\n"
     ]
    }
   ],
   "source": [
    "for k,v in sorted(model.vocab.iteritems(), key=lambda x: x[1].count, reverse=True)[:10]:\n",
    "    print k, v.count"
   ]
  },
  {
   "cell_type": "code",
   "execution_count": 18,
   "metadata": {
    "collapsed": false
   },
   "outputs": [
    {
     "data": {
      "text/plain": [
       "2"
      ]
     },
     "execution_count": 18,
     "metadata": {},
     "output_type": "execute_result"
    }
   ],
   "source": [
    "model.vocab.values()[0].count"
   ]
  },
  {
   "cell_type": "code",
   "execution_count": 19,
   "metadata": {
    "collapsed": false
   },
   "outputs": [
    {
     "data": {
      "text/plain": [
       "[('belgium', 0.5023713707923889),\n",
       " ('witty', 0.4853076636791229),\n",
       " ('casse', 0.47023677825927734),\n",
       " ('changed', 0.46254879236221313),\n",
       " ('amendment', 0.4532393515110016),\n",
       " ('extras', 0.45038753747940063),\n",
       " ('purse', 0.4493296444416046),\n",
       " ('niiiiiiiiiight', 0.44678133726119995),\n",
       " ('coolin', 0.4394027888774872),\n",
       " ('unreal', 0.4360924959182739)]"
      ]
     },
     "execution_count": 19,
     "metadata": {},
     "output_type": "execute_result"
    }
   ],
   "source": [
    "model.similar_by_word(\"raining\")"
   ]
  },
  {
   "cell_type": "code",
   "execution_count": 20,
   "metadata": {
    "collapsed": false
   },
   "outputs": [
    {
     "data": {
      "text/plain": [
       "array([ 0.00251598, -0.00186065, -0.00985688, -0.00552237,  0.00261794,\n",
       "       -0.00577983,  0.00162547, -0.00306061,  0.00332804, -0.00720967,\n",
       "        0.00692851,  0.00251646, -0.00720343,  0.00313723,  0.00691626,\n",
       "       -0.00916594,  0.00503378,  0.00781422,  0.00885693, -0.00727555,\n",
       "        0.00305824,  0.00492674, -0.00703523, -0.00974156, -0.00822543,\n",
       "        0.00263465, -0.00116582, -0.00107611,  0.00336891,  0.00732394,\n",
       "       -0.00336881,  0.00855461,  0.00243005, -0.00205823,  0.00868445,\n",
       "        0.00560661, -0.00610446, -0.00044921, -0.0018357 , -0.0064352 ,\n",
       "       -0.00039243, -0.00748058, -0.00996461,  0.00338018, -0.00744658,\n",
       "       -0.00885487,  0.00690349, -0.00815806,  0.00835999,  0.00440392], dtype=float32)"
      ]
     },
     "execution_count": 20,
     "metadata": {},
     "output_type": "execute_result"
    }
   ],
   "source": [
    "model[\"raining\"]"
   ]
  },
  {
   "cell_type": "markdown",
   "metadata": {},
   "source": [
    "## Glove mappings"
   ]
  },
  {
   "cell_type": "code",
   "execution_count": 21,
   "metadata": {
    "collapsed": true
   },
   "outputs": [],
   "source": [
    "GLOVE_TWEET_MAPPINGS={\n",
    "    \"<user>\": \"isMention\",\n",
    "    \"<hashtag>\": \"isHashtag\",\n",
    "    \"<number>\": \"isDigit\",\n",
    "    \"<url>\": \"isURL\",\n",
    "    \"<allcaps>\": \"isAllCapitalWord\",\n",
    "}\n",
    "\n",
    "def process_glovevectors(filename):\n",
    "    words, dim = 0, 0\n",
    "    with open(filename) as fp:\n",
    "        for line in fp:\n",
    "            #line = line.strip().split(\" \")\n",
    "            words+= 1\n",
    "    line = line.strip().split(\" \")\n",
    "    dim = len(line) - 1\n",
    "    print \"Words: {}, dim: {}\".format(words, dim)\n",
    "    with open(filename) as fp, open(\"{}.processed.txt\".format(filename), \"wb+\") as fp1:\n",
    "        print >> fp1, words, dim\n",
    "        for line in fp:\n",
    "            line = line.strip().split(\" \", 1)\n",
    "            line[0] = dict.get(GLOVE_TWEET_MAPPINGS, line[0], line[0])\n",
    "            print >> fp1, line[0], line[1]\n",
    "    print \"Done\"\n",
    "        "
   ]
  },
  {
   "cell_type": "markdown",
   "metadata": {},
   "source": [
    "process_glovevectors(\"/home/entity/Downloads/GloVe/glove.twitter.27B.200d.txt\")\n",
    "\"\"\"\n",
    "Words: 1193514, dim: 50\n",
    "Done\n",
    "\"\"\""
   ]
  },
  {
   "cell_type": "code",
   "execution_count": 22,
   "metadata": {
    "collapsed": true
   },
   "outputs": [],
   "source": [
    "model_glove = word2vec.Word2Vec(word2vec_sentences, size=200, window=10, sg=1, hs=0, min_count=1, negative=10, workers=-1, iter=5)"
   ]
  },
  {
   "cell_type": "code",
   "execution_count": 23,
   "metadata": {
    "collapsed": false
   },
   "outputs": [],
   "source": [
    "model_glove.intersect_word2vec_format(\"/home/entity/Downloads/GloVe/glove.twitter.27B.200d.txt.processed.txt\", binary=False)"
   ]
  },
  {
   "cell_type": "code",
   "execution_count": 25,
   "metadata": {
    "collapsed": true
   },
   "outputs": [],
   "source": [
    "#for i in xrange(5):\n",
    "#   model_glove.train(word2vec_sentences, total_examples=len(word2vec_sentences))"
   ]
  },
  {
   "cell_type": "code",
   "execution_count": 24,
   "metadata": {
    "collapsed": false
   },
   "outputs": [
    {
     "name": "stdout",
     "output_type": "stream",
     "text": [
      "[('queen', 0.8635461926460266), ('prince', 0.8147591352462769), ('kings', 0.8053629994392395), ('african', 0.8034176826477051), ('collection', 0.798965334892273), ('princess', 0.798250138759613), ('national', 0.7926250696182251), ('queens', 0.7904215455055237), ('our', 0.7895063161849976), ('olympic', 0.7883803248405457)]\n",
      "[('snowing', 0.9088315367698669), ('rain', 0.8637869358062744), ('pouring', 0.831719160079956), ('rains', 0.828848659992218), ('rainy', 0.8258071541786194), ('cold', 0.8168103098869324), ('snow', 0.8152739405632019), ('outside', 0.8126229643821716), ('weather', 0.8116411566734314), ('degrees', 0.7995356917381287)]\n"
     ]
    }
   ],
   "source": [
    "print model_glove.most_similar_cosmul(positive=[\"king\", \"women\"], negative=[\"man\"])\n",
    "print model_glove.most_similar_cosmul(positive=[\"raining\"])"
   ]
  },
  {
   "cell_type": "code",
   "execution_count": 25,
   "metadata": {
    "collapsed": false
   },
   "outputs": [
    {
     "name": "stdout",
     "output_type": "stream",
     "text": [
      "[('queen', 0.5662633776664734), ('prince', 0.5070953965187073), ('kings', 0.4812127351760864), ('african', 0.4752596914768219), ('ladies', 0.4659445881843567), ('princess', 0.46278631687164307), ('collection', 0.4574244022369385), ('our', 0.4551507830619812), ('black', 0.4548451602458954), ('national', 0.4532495439052582)]\n",
      "[('snowing', 0.8176649212837219), ('rain', 0.7275755405426025), ('pouring', 0.6634398698806763), ('rains', 0.6576988697052002), ('rainy', 0.6516159176826477), ('cold', 0.6336221098899841), ('snow', 0.6305493712425232), ('outside', 0.6252474188804626), ('weather', 0.6232839226722717), ('degrees', 0.5990728735923767)]\n"
     ]
    }
   ],
   "source": [
    "print model_glove.most_similar(positive=[\"king\", \"women\"], negative=[\"man\"])\n",
    "print model_glove.most_similar(positive=[\"raining\"])"
   ]
  },
  {
   "cell_type": "markdown",
   "metadata": {},
   "source": [
    "## Label correlations"
   ]
  },
  {
   "cell_type": "code",
   "execution_count": 26,
   "metadata": {
    "collapsed": true
   },
   "outputs": [],
   "source": [
    "label_co_occurences = [[t[1][2:] for t in seq if t[1] != \"O\"] for seq in (train_sequences)]"
   ]
  },
  {
   "cell_type": "code",
   "execution_count": 27,
   "metadata": {
    "collapsed": false
   },
   "outputs": [
    {
     "name": "stdout",
     "output_type": "stream",
     "text": [
      "{'product': 5, 'facility': 3, 'movie': 7, 'company': 4, 'sportsteam': 8, 'musicartist': 6, 'person': 0, 'other': 1, 'geo-loc': 2, 'tvshow': 9}\n",
      "Counter({'person': 664, 'other': 545, 'geo-loc': 325, 'facility': 209, 'company': 207, 'product': 177, 'musicartist': 116, 'movie': 80, 'sportsteam': 74, 'tvshow': 65})\n"
     ]
    }
   ],
   "source": [
    "cat_types = Counter(t for seq in label_co_occurences for t in seq)\n",
    "cat_ids = {k[0]: i for i, k in enumerate(cat_types.most_common())}\n",
    "cat_names = [k[0] for k in cat_types.most_common()]\n",
    "print cat_ids\n",
    "print cat_types"
   ]
  },
  {
   "cell_type": "markdown",
   "metadata": {},
   "source": [
    "## Label specific vectors"
   ]
  },
  {
   "cell_type": "code",
   "execution_count": 28,
   "metadata": {
    "collapsed": true
   },
   "outputs": [],
   "source": [
    "def get_non_label_words(t):\n",
    "    if t[1] != \"O\":\n",
    "        return \"LABEL{}\".format(t[1][1:])\n",
    "    return preprocess_token(t[0], to_lower=True)"
   ]
  },
  {
   "cell_type": "code",
   "execution_count": 29,
   "metadata": {
    "collapsed": true
   },
   "outputs": [],
   "source": [
    "label_specific_sentences = [[get_non_label_words(t) for t in seq] for seq in (train_sequences)]"
   ]
  },
  {
   "cell_type": "code",
   "execution_count": 30,
   "metadata": {
    "collapsed": true
   },
   "outputs": [],
   "source": [
    "model_label_specific = word2vec.Word2Vec(label_specific_sentences,\n",
    "                                         size=200, window=10, sg=1, hs=0, min_count=1, negative=10, workers=-1, iter=20)"
   ]
  },
  {
   "cell_type": "code",
   "execution_count": 31,
   "metadata": {
    "collapsed": false
   },
   "outputs": [
    {
     "data": {
      "text/plain": [
       "[('whom', 0.260114461183548),\n",
       " ('compared', 0.2354053407907486),\n",
       " ('generating', 0.22560346126556396),\n",
       " ('killed', 0.22056035697460175),\n",
       " ('boi', 0.21400518715381622),\n",
       " ('theater', 0.21115967631340027),\n",
       " ('la', 0.21090877056121826),\n",
       " ('ld', 0.20020537078380585),\n",
       " ('fights', 0.20011183619499207),\n",
       " ('where', 0.19708319008350372)]"
      ]
     },
     "execution_count": 31,
     "metadata": {},
     "output_type": "execute_result"
    }
   ],
   "source": [
    "model_label_specific.most_similar(\"LABEL-product\")"
   ]
  },
  {
   "cell_type": "code",
   "execution_count": 33,
   "metadata": {
    "collapsed": false
   },
   "outputs": [],
   "source": [
    "import copy"
   ]
  },
  {
   "cell_type": "code",
   "execution_count": 34,
   "metadata": {
    "collapsed": false
   },
   "outputs": [],
   "source": [
    "model_label_specific.intersect_word2vec_format(\"/home/entity/Downloads/GloVe/glove.twitter.27B.200d.txt.processed.txt\",\n",
    "                                               binary=False)\n",
    "for i in xrange(5):\n",
    "    model_label_specific.train(label_specific_sentences, total_examples=len(label_specific_sentences))"
   ]
  },
  {
   "cell_type": "code",
   "execution_count": 35,
   "metadata": {
    "collapsed": false
   },
   "outputs": [
    {
     "data": {
      "text/plain": [
       "[('soup', 0.26856234669685364),\n",
       " ('dishes', 0.26497727632522583),\n",
       " ('workz', 0.2624945640563965),\n",
       " ('flowing', 0.25266361236572266),\n",
       " ('persian', 0.2509954571723938),\n",
       " ('mixing', 0.24889320135116577),\n",
       " ('oily', 0.23985573649406433),\n",
       " ('dry', 0.2286411076784134),\n",
       " ('english', 0.22728340327739716),\n",
       " ('puking', 0.22508037090301514)]"
      ]
     },
     "execution_count": 35,
     "metadata": {},
     "output_type": "execute_result"
    }
   ],
   "source": [
    "model_label_specific.most_similar(\"LABEL-sportsteam\")"
   ]
  },
  {
   "cell_type": "markdown",
   "metadata": {},
   "source": [
    "## Cluster word embeddings"
   ]
  },
  {
   "cell_type": "code",
   "execution_count": 36,
   "metadata": {
    "collapsed": true
   },
   "outputs": [],
   "source": [
    "from sklearn.cluster import AgglomerativeClustering"
   ]
  },
  {
   "cell_type": "code",
   "execution_count": 37,
   "metadata": {
    "collapsed": true
   },
   "outputs": [],
   "source": [
    "wv_clusters = AgglomerativeClustering(n_clusters=50, affinity=\"cosine\", linkage=\"average\")"
   ]
  },
  {
   "cell_type": "code",
   "execution_count": 38,
   "metadata": {
    "collapsed": false
   },
   "outputs": [
    {
     "data": {
      "text/plain": [
       "AgglomerativeClustering(affinity='cosine', compute_full_tree='auto',\n",
       "            connectivity=None, linkage='average',\n",
       "            memory=Memory(cachedir=None), n_clusters=50, n_components=None,\n",
       "            pooling_func=<function mean at 0x7f9ec80b2cf8>)"
      ]
     },
     "execution_count": 38,
     "metadata": {},
     "output_type": "execute_result"
    }
   ],
   "source": [
    "wv_clusters.fit(model_label_specific.syn0norm)"
   ]
  },
  {
   "cell_type": "code",
   "execution_count": 39,
   "metadata": {
    "collapsed": true
   },
   "outputs": [],
   "source": [
    "wv_cluster_ids = wv_clusters.fit_predict(model_label_specific.syn0norm)"
   ]
  },
  {
   "cell_type": "code",
   "execution_count": 40,
   "metadata": {
    "collapsed": false
   },
   "outputs": [],
   "source": [
    "wv_cluster_mappings = {k: wv_cluster_ids[v.index] for k,v in model_label_specific.vocab.iteritems()}"
   ]
  },
  {
   "cell_type": "code",
   "execution_count": 41,
   "metadata": {
    "collapsed": false
   },
   "outputs": [
    {
     "data": {
      "text/plain": [
       "[('*sighs*', 4),\n",
       " ('co-ass', 4),\n",
       " ('eyes*wat', 4),\n",
       " ('25%', 4),\n",
       " ('radio.woai.com', 4),\n",
       " ('104&amp;#xb0', 4),\n",
       " (\"g'mar\", 4),\n",
       " ('i`ll', 4),\n",
       " ('(shit', 4),\n",
       " ('p-i-m-p', 4)]"
      ]
     },
     "execution_count": 41,
     "metadata": {},
     "output_type": "execute_result"
    }
   ],
   "source": [
    "filter(lambda x: x[1] == 4, wv_cluster_mappings.iteritems())[:10]"
   ]
  },
  {
   "cell_type": "code",
   "execution_count": 42,
   "metadata": {
    "collapsed": true
   },
   "outputs": [],
   "source": [
    "del model_label_specific"
   ]
  },
  {
   "cell_type": "markdown",
   "metadata": {},
   "source": [
    "## Word clusters - Brown and Clark"
   ]
  },
  {
   "cell_type": "code",
   "execution_count": 43,
   "metadata": {
    "collapsed": true
   },
   "outputs": [],
   "source": [
    "def read_brown_clusters(filename):\n",
    "    cluster_vocab={}\n",
    "    with open(filename) as fp:\n",
    "        for line in fp:\n",
    "            cid, word, counts = line.strip().split(\"\\t\")\n",
    "            cluster_vocab[word] = cid\n",
    "    return cluster_vocab       \n",
    "        \n",
    "    \n",
    "def read_clark_clusters(filename):\n",
    "    cluster_vocab={}\n",
    "    with open(filename) as fp:\n",
    "        for line in fp:\n",
    "            try:\n",
    "                word, cid, prob = line.strip().split(\" \")\n",
    "                cluster_vocab[word] = (cid, float(prob))\n",
    "            except:\n",
    "                print \"skipping line: \", line\n",
    "    return cluster_vocab"
   ]
  },
  {
   "cell_type": "code",
   "execution_count": 44,
   "metadata": {
    "collapsed": false
   },
   "outputs": [],
   "source": [
    "cluster_vocab = read_brown_clusters(\"/home/entity/Downloads/GloVe/50mpaths2\")"
   ]
  },
  {
   "cell_type": "markdown",
   "metadata": {},
   "source": [
    "## Run once for creating data for brown clusters"
   ]
  },
  {
   "cell_type": "code",
   "execution_count": 29,
   "metadata": {
    "collapsed": false
   },
   "outputs": [
    {
     "name": "stdout",
     "output_type": "stream",
     "text": [
      "@SammieLynnsMom @tg10781 they will be all done by Sunday trust me *wink*\r\n",
      "Made it back home to GA . It sucks not to be at Disney world , but its good to be home . Time to start planning the next Disney World trip .\r\n",
      "' Breaking Dawn ' Returns to Vancouver on January 11th http://bit.ly/dbDMs8\r\n",
      "@ls_n perhaps , but folks may find something in the gallery that is helpful in their day-to-day work as well . Even just to use it .\r\n",
      "@Carr0t aye been tonight - excellent\r\n",
      "RT @LilTwist : RT this if you want me to go back live on Ustream later tonight\r\n",
      "@Hollly_ 16 b 17 in feb\r\n",
      "RT @obsidianchao : OF FUCKING COURSE . I GET HOME AND MY BROTHER IS ON THE MOTHER FUCKING XBOX . Worst fucking day ever .\r\n",
      "I haven't driven to bc in years , and I am just stunned by how beautiful the drive is .\r\n",
      "@daraobriain hmmm . Cant wait . Comin on Thursday . First time to the Apollo .\r\n"
     ]
    }
   ],
   "source": [
    "with open(\"all_sequences.txt\", \"wb+\") as fp:\n",
    "    for seq in all_sentences:\n",
    "        print >> fp, \" \".join(seq)\n",
    "! head all_sequences.txt"
   ]
  },
  {
   "cell_type": "code",
   "execution_count": 33,
   "metadata": {
    "collapsed": false
   },
   "outputs": [
    {
     "name": "stdout",
     "output_type": "stream",
     "text": [
      "Logging to word_clusters/log\r\n"
     ]
    }
   ],
   "source": [
    "! /home/entity/Downloads/brown-cluster/wcluster --text all_sequences.txt --c 100 --output_dir word_clusters"
   ]
  },
  {
   "cell_type": "code",
   "execution_count": 34,
   "metadata": {
    "collapsed": false
   },
   "outputs": [
    {
     "name": "stdout",
     "output_type": "stream",
     "text": [
      "__isMention__ __isMention__ they will be all done by sunday trust me *wink*\r\n",
      "made it back home to ga . it sucks not to be at disney world , but its good to be home . time to start planning the next disney world trip .\r\n",
      "' breaking dawn ' returns to vancouver on january 11th __isURL__\r\n",
      "__isMention__ perhaps , but folks may find something in the gallery that is helpful in their day-to-day work as well . even just to use it .\r\n",
      "__isMention__ aye been tonight - excellent\r\n",
      "rt __isMention__ : rt this if you want me to go back live on ustream later tonight\r\n",
      "__isMention__ 16 b 17 in feb\r\n",
      "rt __isMention__ : of fucking course . i get home and my brother is on the mother fucking xbox . worst fucking day ever .\r\n",
      "i haven't driven to bc in years , and i am just stunned by how beautiful the drive is .\r\n",
      "__isMention__ hmmm . cant wait . comin on thursday . first time to the apollo .\r\n"
     ]
    }
   ],
   "source": [
    "with open(\"word2vec_sentences.txt\", \"wb+\") as fp:\n",
    "    for seq in word2vec_sentences:\n",
    "        print >> fp, \" \".join(seq)\n",
    "! head word2vec_sentences.txt"
   ]
  },
  {
   "cell_type": "code",
   "execution_count": 35,
   "metadata": {
    "collapsed": false
   },
   "outputs": [
    {
     "name": "stdout",
     "output_type": "stream",
     "text": [
      "Logging to word_clusters_wv/log\r\n"
     ]
    }
   ],
   "source": [
    "! /home/entity/Downloads/brown-cluster/wcluster --text word2vec_sentences.txt --c 100 --output_dir word_clusters_wv"
   ]
  },
  {
   "cell_type": "markdown",
   "metadata": {},
   "source": [
    "## Load trained brown clusters"
   ]
  },
  {
   "cell_type": "code",
   "execution_count": 45,
   "metadata": {
    "collapsed": true
   },
   "outputs": [],
   "source": [
    "cluster_vocab_data = read_brown_clusters(\"word_clusters/paths\")\n",
    "cluster_vocab_wv = read_brown_clusters(\"word_clusters_wv/paths\")"
   ]
  },
  {
   "cell_type": "markdown",
   "metadata": {},
   "source": [
    "## Run once for generating clark clusters"
   ]
  },
  {
   "cell_type": "code",
   "execution_count": 62,
   "metadata": {
    "collapsed": false
   },
   "outputs": [
    {
     "name": "stdout",
     "output_type": "stream",
     "text": [
      "@SammieLynnsMom\r\n",
      "@tg10781\r\n",
      "they\r\n",
      "will\r\n",
      "be\r\n",
      "all\r\n",
      "done\r\n",
      "by\r\n",
      "Sunday\r\n",
      "trust\r\n"
     ]
    }
   ],
   "source": [
    "with open(\"all_sequences.clark.txt\", \"wb+\") as fp:\n",
    "    for seq in all_sentences:\n",
    "        print >> fp, \"\\n\".join(seq)\n",
    "        print >> fp, \"\\n\"\n",
    "! head all_sequences.clark.txt"
   ]
  },
  {
   "cell_type": "code",
   "execution_count": 65,
   "metadata": {
    "collapsed": true
   },
   "outputs": [],
   "source": [
    "! /home/entity/Downloads/clark_pos_induction/src/bin/cluster_neyessenmorph -s 10 -m 1 -i 10 -x all_sequences.clark.txt all_sequences.clark.txt 32 > all_sequences.clark_clusters.32.txt 2> clark.err"
   ]
  },
  {
   "cell_type": "markdown",
   "metadata": {},
   "source": [
    "## Load clark clusters"
   ]
  },
  {
   "cell_type": "code",
   "execution_count": 46,
   "metadata": {
    "collapsed": false
   },
   "outputs": [
    {
     "name": "stdout",
     "output_type": "stream",
     "text": [
      "skipping line:   17 0.955895\n",
      "\n"
     ]
    }
   ],
   "source": [
    "cluster_vocab_clark = read_clark_clusters(\"all_sequences.clark_clusters.32.txt\")"
   ]
  },
  {
   "cell_type": "markdown",
   "metadata": {},
   "source": [
    "## Read dictionary features"
   ]
  },
  {
   "cell_type": "code",
   "execution_count": 110,
   "metadata": {
    "collapsed": false
   },
   "outputs": [
    {
     "name": "stderr",
     "output_type": "stream",
     "text": [
      "read dict time.holiday\n",
      "read dict location.country\n",
      "read dict award.award\n",
      "read dict location\n",
      "read dict movies.txt.results.txt\n",
      "read dict lastname.5000\n",
      "read dict sports.sports_team\n",
      "read dict tv.tv_program\n",
      "read dict book.newspaper\n",
      "read dict internet.website\n",
      "read dict base.events.festival_series\n",
      "read dict products.txt.results.txt\n",
      "read dict persons.txt.results.txt\n",
      "read dict tv.tv_network\n",
      "read dict cvg.computer_videogame\n",
      "read dict business.consumer_product\n",
      "read dict people.family_name\n",
      "read dict tvshows.txt.results.txt\n",
      "read dict government.government_agency\n",
      "read dict venues\n",
      "read dict broadcast.tv_channel\n",
      "read dict music_artists.txt.results.txt\n",
      "read dict automotive.make\n",
      "read dict product\n",
      "read dict business.consumer_company\n",
      "read dict music_artists.txt\n",
      "read dict venture_capital.venture_funded_company\n",
      "read dict cvg.cvg_developer\n",
      "read dict architecture.museum\n",
      "read dict lower.5000\n",
      "read dict automotive.model\n",
      "read dict companynames.txt.results.txt\n",
      "read dict musicartist_namevariants.unique.txt\n",
      "read dict time.recurring_event\n",
      "read dict cities.txt.results.txt\n",
      "read dict sports.sports_league\n",
      "read dict firstname.5k\n",
      "read dict business.brand\n",
      "read dict buildings.txt.results.txt\n",
      "read dict musicartist_names.unique.txt\n",
      "read dict english.stop\n",
      "read dict all_geonames.txt\n",
      "read dict education.university\n",
      "read dict cvg.cvg_platform\n",
      "read dict sportsteams.txt.results.txt\n",
      "read dict cap.1000\n",
      "read dict business.sponsor\n",
      "read dict transportation.road\n"
     ]
    }
   ],
   "source": [
    "dict_features = DictionaryFeatures(\"./data/cleaned/custom_lexicons/\")"
   ]
  },
  {
   "cell_type": "markdown",
   "metadata": {},
   "source": [
    "## Predict tweet type"
   ]
  },
  {
   "cell_type": "code",
   "execution_count": 111,
   "metadata": {
    "collapsed": true
   },
   "outputs": [],
   "source": [
    "def tweet_features(sent, word2vec_model=None, cluster_vocabs=None, WORD_IDX=0):\n",
    "    features = {}\n",
    "    sent_length = len(sent) * 1.\n",
    "    for widx, word in enumerate(sent):\n",
    "        word = word[WORD_IDX]\n",
    "        lookup_key = preprocess_token(word, to_lower=True)\n",
    "        if word2vec_model and lookup_key in word2vec_model:\n",
    "            for i,v in enumerate(word2vec_model[lookup_key]):\n",
    "                features[\"_GLOBAL_WORDVEC_%s\" % i] = dict.get(features, \"_GLOBAL_WORDVEC_%s\" % i, 0) + v\n",
    "        if cluster_vocabs and lookup_key in cluster_vocabs:\n",
    "            v = dict.get(cluster_vocabs, lookup_key)\n",
    "            features[\"_GLOBAL_CLUSTER_=%s\" % v] = dict.get(features, \"_GLOBAL_CLUSTER_=%s\" % v, 0) + 1\n",
    "        if dict_features:\n",
    "            d_features = dict_features.GetDictFeatures([k[WORD_IDX] for k in sent], widx)\n",
    "            for k in d_features:\n",
    "                features[k] = dict.get(features, k, 0) + 1\n",
    "            d_hashtag_features = dict_features.GetHashtagDictFeatures(word)\n",
    "            for k in d_hashtag_features:\n",
    "                features[k] = dict.get(features, k, 0) + 1\n",
    "    #features = {k: v / sent_length for k,v in features.iteritems()}\n",
    "    return features"
   ]
  },
  {
   "cell_type": "code",
   "execution_count": 112,
   "metadata": {
    "collapsed": true
   },
   "outputs": [],
   "source": [
    "from sklearn.feature_extraction import DictVectorizer"
   ]
  },
  {
   "cell_type": "code",
   "execution_count": 113,
   "metadata": {
    "collapsed": false
   },
   "outputs": [],
   "source": [
    "tweet_train_data = [tweet_features(sent, word2vec_model=model_glove, cluster_vocabs=cluster_vocab)\n",
    "                   for sent in train_sequences]\n",
    "tweet_test_data = [tweet_features(sent, word2vec_model=model_glove, cluster_vocabs=cluster_vocab)\n",
    "                   for sent in dev_sequences]\n"
   ]
  },
  {
   "cell_type": "code",
   "execution_count": 114,
   "metadata": {
    "collapsed": true
   },
   "outputs": [],
   "source": [
    "feature2matrix = DictVectorizer()\n",
    "tweet_X_train = feature2matrix.fit_transform(tweet_train_data)\n",
    "tweet_X_test = feature2matrix.transform(tweet_test_data)"
   ]
  },
  {
   "cell_type": "code",
   "execution_count": 115,
   "metadata": {
    "collapsed": true
   },
   "outputs": [],
   "source": [
    "from sklearn.linear_model import LogisticRegression\n",
    "from sklearn.metrics import classification_report\n",
    "from sklearn.svm import LinearSVC"
   ]
  },
  {
   "cell_type": "code",
   "execution_count": 116,
   "metadata": {
    "collapsed": true
   },
   "outputs": [],
   "source": [
    "def is_tweet_type(sent, cat_type):\n",
    "    for t in sent:\n",
    "        if t.tag != \"O\":\n",
    "            if t.tag[2:] == cat_type:\n",
    "                return 1\n",
    "    return 0\n",
    "            "
   ]
  },
  {
   "cell_type": "code",
   "execution_count": 117,
   "metadata": {
    "collapsed": false
   },
   "outputs": [
    {
     "name": "stdout",
     "output_type": "stream",
     "text": [
      "Processing: person\n",
      "             precision    recall  f1-score   support\n",
      "\n",
      "          0       0.94      0.93      0.93      1231\n",
      "          1       0.56      0.58      0.57       189\n",
      "\n",
      "avg / total       0.89      0.88      0.89      1420\n",
      "\n",
      "Processing: other\n",
      "             precision    recall  f1-score   support\n",
      "\n",
      "          0       0.91      0.90      0.90      1255\n",
      "          1       0.29      0.32      0.30       165\n",
      "\n",
      "avg / total       0.84      0.83      0.83      1420\n",
      "\n",
      "Processing: geo-loc\n",
      "             precision    recall  f1-score   support\n",
      "\n",
      "          0       0.96      0.94      0.95      1297\n",
      "          1       0.48      0.61      0.54       123\n",
      "\n",
      "avg / total       0.92      0.91      0.91      1420\n",
      "\n",
      "Processing: facility\n",
      "             precision    recall  f1-score   support\n",
      "\n",
      "          0       0.98      0.96      0.97      1375\n",
      "          1       0.21      0.31      0.25        45\n",
      "\n",
      "avg / total       0.95      0.94      0.95      1420\n",
      "\n",
      "Processing: company\n",
      "             precision    recall  f1-score   support\n",
      "\n",
      "          0       0.97      0.95      0.96      1360\n",
      "          1       0.23      0.33      0.27        60\n",
      "\n",
      "avg / total       0.94      0.92      0.93      1420\n",
      "\n",
      "Processing: product\n",
      "             precision    recall  f1-score   support\n",
      "\n",
      "          0       0.98      0.96      0.97      1377\n",
      "          1       0.22      0.37      0.28        43\n",
      "\n",
      "avg / total       0.96      0.94      0.95      1420\n",
      "\n",
      "Processing: musicartist\n",
      "             precision    recall  f1-score   support\n",
      "\n",
      "          0       0.98      0.96      0.97      1383\n",
      "          1       0.10      0.19      0.13        37\n",
      "\n",
      "avg / total       0.96      0.94      0.95      1420\n",
      "\n",
      "Processing: movie\n",
      "             precision    recall  f1-score   support\n",
      "\n",
      "          0       0.99      0.98      0.99      1406\n",
      "          1       0.17      0.36      0.23        14\n",
      "\n",
      "avg / total       0.99      0.98      0.98      1420\n",
      "\n",
      "Processing: sportsteam\n",
      "             precision    recall  f1-score   support\n",
      "\n",
      "          0       0.97      0.99      0.98      1360\n",
      "          1       0.66      0.42      0.51        60\n",
      "\n",
      "avg / total       0.96      0.97      0.96      1420\n",
      "\n",
      "Processing: tvshow\n",
      "             precision    recall  f1-score   support\n",
      "\n",
      "          0       1.00      0.99      0.99      1412\n",
      "          1       0.11      0.25      0.15         8\n",
      "\n",
      "avg / total       0.99      0.98      0.99      1420\n",
      "\n"
     ]
    }
   ],
   "source": [
    "models = {}\n",
    "for cat_type in cat_names:\n",
    "    print \"Processing: %s\" % cat_type\n",
    "    y_train = np.array([is_tweet_type(sent, cat_type) for sent in train_sequences])\n",
    "    y_test = np.array([is_tweet_type(sent, cat_type) for sent in dev_sequences])\n",
    "    model = LogisticRegression(solver=\"lbfgs\", multi_class=\"multinomial\")\n",
    "    model.fit(tweet_X_train, y_train)\n",
    "    y_pred = model.predict(tweet_X_test)\n",
    "    print classification_report(y_test, y_pred)\n",
    "    models[cat_type] = model"
   ]
  },
  {
   "cell_type": "code",
   "execution_count": 118,
   "metadata": {
    "collapsed": false
   },
   "outputs": [
    {
     "data": {
      "text/plain": [
       "array([  3.42877844e-02,   1.41197353e-03,   1.61901138e-01,\n",
       "         9.96124170e-01,   1.80556124e-01,   3.81964705e-06,\n",
       "         1.16778507e-03,   2.03262332e-06,   2.05595303e-02,\n",
       "         4.32040855e-05])"
      ]
     },
     "execution_count": 118,
     "metadata": {},
     "output_type": "execute_result"
    }
   ],
   "source": [
    "model.predict_proba(tweet_X_test)[:10, 1]"
   ]
  },
  {
   "cell_type": "code",
   "execution_count": 119,
   "metadata": {
    "collapsed": false
   },
   "outputs": [
    {
     "data": {
      "text/plain": [
       "array([0, 0, 0, 1, 0, 0, 0, 0, 0, 0])"
      ]
     },
     "execution_count": 119,
     "metadata": {},
     "output_type": "execute_result"
    }
   ],
   "source": [
    "model.predict(tweet_X_test)[:10]"
   ]
  },
  {
   "cell_type": "markdown",
   "metadata": {},
   "source": [
    "## Model"
   ]
  },
  {
   "cell_type": "code",
   "execution_count": 57,
   "metadata": {
    "collapsed": false
   },
   "outputs": [],
   "source": [
    "def get_word_form(word, vocab=None, lower=False):\n",
    "    if lower:\n",
    "        word = word.lower()\n",
    "    if vocab:\n",
    "        vocab_search_word = word.lower() \n",
    "        word = \"OOV\" if vocab_search_word not in vocab else word\n",
    "    return word\n",
    "\n",
    "def get_clust_tag_value(lookup_key, cluster_vocab, cluster_tag,\n",
    "                       clust_values_tuple=False):\n",
    "    v = cluster_vocab[lookup_key]\n",
    "    if clust_values_tuple:\n",
    "        cluster_tag = \"{}={}\".format(cluster_tag, v[0])\n",
    "        v = v[1]\n",
    "    return (cluster_tag, v)    \n",
    "\n",
    "\n",
    "def gen_cluster_features(sent, widx, cid, lookup_key, cluster_vocab, WORD_IDX=0, \n",
    "                         cluster_tag=\"_CLUST_\", dropout=0, clust_values_tuple=False,\n",
    "                        interactions=False):\n",
    "    features = {}\n",
    "    if lookup_key in cluster_vocab:\n",
    "        center_word_f = get_clust_tag_value(lookup_key, cluster_vocab,\n",
    "                                            cluster_tag, clust_values_tuple=clust_values_tuple)\n",
    "        features.setdefault(*center_word_f)\n",
    "        ## Previous word\n",
    "        if widx > 0:\n",
    "            lookup_key_prev = preprocess_token(sent[widx-1][WORD_IDX], to_lower=True)\n",
    "            if lookup_key_prev in cluster_vocab:\n",
    "                prev_word_f = get_clust_tag_value(lookup_key_prev, cluster_vocab, \n",
    "                                                 \"{}[-1]\".format(cluster_tag),\n",
    "                                                  clust_values_tuple=clust_values_tuple)\n",
    "                features.setdefault(*prev_word_f)\n",
    "                if interactions:\n",
    "                    if np.random.rand() > dropout:\n",
    "                        if clust_values_tuple:\n",
    "                            features[\"{}|{}\".format(\n",
    "                                    center_word_f[0], prev_word_f[0]\n",
    "                                )] = (center_word_f[1]*prev_word_f[1])\n",
    "                        else:\n",
    "                            features[\"{}={}|{}={}\".format(*(center_word_f+prev_word_f))] = True\n",
    "        ## Next word\n",
    "        if widx < len(sent) -1:\n",
    "            lookup_key_next = preprocess_token(sent[widx+1][WORD_IDX], to_lower=True)\n",
    "            if lookup_key_next in cluster_vocab:\n",
    "                next_word_f = get_clust_tag_value(lookup_key_next, cluster_vocab, \n",
    "                                                 \"{}[+1]\".format(cluster_tag),\n",
    "                                                 clust_values_tuple=clust_values_tuple)\n",
    "                features.setdefault(*next_word_f)\n",
    "                if interactions:\n",
    "                    if np.random.rand() > dropout:\n",
    "                        if clust_values_tuple:\n",
    "                            features[\"{}|{}\".format(\n",
    "                                    next_word_f[0], center_word_f[0]\n",
    "                                )] = (next_word_f[1]*center_word_f[1])\n",
    "                        else:\n",
    "                            features[\"{}={}|{}={}\".format(*(next_word_f+center_word_f))] = True\n",
    "        \"\"\"\n",
    "        for k,v in features.iteritems():\n",
    "            if isinstance(v, float) or isinstance(v, bool) or isinstance(v, str) or isinstance(v,int):\n",
    "                continue\n",
    "            else:\n",
    "                print features\n",
    "                print k,v\n",
    "                raise\n",
    "        \"\"\"\n",
    "        return features\n",
    "    \n",
    "\n",
    "def word2features(sent, widx, WORD_IDX=0,\n",
    "                  extra_features={},\n",
    "                  vocab=None, dict_features=None,\n",
    "                  vocab_presence_only=False,\n",
    "                  dict_interactions=False,\n",
    "                  interactions=False,\n",
    "                  lowercase=True,\n",
    "                  window=0,\n",
    "                 verbose=False, dropout=0.5,\n",
    "                 word2vec_model=None,\n",
    "                 cluster_vocabs=None):\n",
    "    word = sent[widx][WORD_IDX]\n",
    "    features = {\n",
    "        'bias': True,\n",
    "        #'word_normed': word.lower(),\n",
    "        #'suffix_3': word[-3:].lower(),\n",
    "        #'suffix_2': word[-2:].lower(),\n",
    "        #'prefix_3': word[-3:].lower(),\n",
    "        #'prefix_2': word[-2:].lower(),\n",
    "    }\n",
    "    ## Word2Vec or Brown Cluster features\n",
    "    if word2vec_model or cluster_vocabs:\n",
    "        lookup_key = preprocess_token(word, to_lower=True)\n",
    "        ## Word2Vec features\n",
    "        if word2vec_model and lookup_key in word2vec_model:\n",
    "            word2vec_features = {\"_WORDVEC_%s\" % i: v for i,v in enumerate(word2vec_model[lookup_key])}\n",
    "            features.update(word2vec_features)\n",
    "        ## Brown cluster features\n",
    "        if cluster_vocabs:\n",
    "            if not isinstance(cluster_vocabs, list):\n",
    "                cluster_vocabs = [cluster_vocabs]\n",
    "            for cid, cluster_vocab in enumerate(cluster_vocabs):\n",
    "                cluster_type=\"BROWN\"\n",
    "                if cluster_vocab:\n",
    "                    clust_values_tuple=False\n",
    "                    if isinstance(cluster_vocab.itervalues().next(), tuple):\n",
    "                        clust_values_tuple = True\n",
    "                        cluster_type=\"CLARK\"\n",
    "                    cluster_tag = \"__{}_CLUSTER_{}__\".format(cluster_type, cid)\n",
    "                    clust_features = gen_cluster_features(\n",
    "                        sent, widx, cid, lookup_key, cluster_vocab, WORD_IDX=WORD_IDX,\n",
    "                        cluster_tag=cluster_tag, dropout=dropout, \n",
    "                        clust_values_tuple=clust_values_tuple, interactions=interactions)\n",
    "                    if clust_features:\n",
    "                        features.update(clust_features)\n",
    "\n",
    "    ## Vocab Feature\n",
    "    if vocab:\n",
    "        if vocab_presence_only:\n",
    "            features[\"word_normed\"] = word.lower() in vocab\n",
    "        else:\n",
    "            features[\"word_normed\"] = word.lower() if word.lower() in vocab else \"OOV\"\n",
    "    ## Regex Feature\n",
    "    regex_features = RegexFeatures.process(word)\n",
    "    features.update(regex_features)\n",
    "    if interactions:\n",
    "        if widx > 0:\n",
    "            regex_features_prev = RegexFeatures.process(sent[widx-1][WORD_IDX])\n",
    "            features.update((\"%s[-1]\" % k, v) for k,v in regex_features_prev.iteritems())\n",
    "            features.update({\n",
    "                    (\"%s[-1]|%s\" % (k1,k), True)\n",
    "                    for k, v in regex_features.iteritems()\n",
    "                    for k1, v1 in regex_features_prev.iteritems()\n",
    "                    if v & v1 & (np.random.rand() > dropout)\n",
    "                })\n",
    "        if widx < len(sent)-1:\n",
    "            regex_features_next = RegexFeatures.process(sent[widx+1][WORD_IDX])\n",
    "            features.update((\"%s[+1]\" % k, v) for k,v in regex_features_next.iteritems())\n",
    "            features.update({\n",
    "                    (\"%s|%s[+1]\" % (k,k1), True)\n",
    "                    for k, v in regex_features.iteritems()\n",
    "                    for k1, v1 in regex_features_next.iteritems()\n",
    "                    if v & v1 & (np.random.rand() > dropout)\n",
    "                })\n",
    "    ## Gazetteer Feature\n",
    "    if dict_features:\n",
    "        d_features = dict_features.GetDictFeatures([k[WORD_IDX] for k in sent], widx)\n",
    "        features.update({k: True for k in d_features})\n",
    "        d_features = sorted(d_features)\n",
    "        features.update({\"%s|%s\" % (k,k1): True for i, k in enumerate(d_features)\n",
    "                         for k1 in d_features[i+1:]\n",
    "                         if np.random.rand() > dropout})\n",
    "        d_hashtag_features = dict_features.GetHashtagDictFeatures(word)\n",
    "        features.update({k: True for k in d_hashtag_features})\n",
    "        d_hashtag_features = sorted(d_hashtag_features)\n",
    "        features.update({\"%s|%s\" % (k,k1): True for i, k in enumerate(d_hashtag_features)\n",
    "                         for k1 in d_hashtag_features[i+1:]\n",
    "                         if np.random.rand() > dropout})\n",
    "    ## Extra features\n",
    "    features.update(extra_features)\n",
    "    ## Start Feature\n",
    "    if widx == 0:\n",
    "        features['__BOS__'] = True\n",
    "    ## End Feature\n",
    "    if widx == len(sent)-1:\n",
    "        features['__EOS__'] = True\n",
    "    ## Word Feature\n",
    "    if not lowercase:\n",
    "        if np.random.rand() > dropout:\n",
    "            features[\"word_original\"] = word\n",
    "    curr_word_normed = get_word_form(word, lower=lowercase, vocab=vocab)\n",
    "    #features[\"normed_word\"] = curr_word_normed\n",
    "    \n",
    "    \"\"\"\n",
    "    if widx > 0:\n",
    "        prev_word = get_word_form(sent[widx-1][WORD_IDX], lower=lowercase)\n",
    "        features[\"word[-1]\"] = prev_word\n",
    "        if interactions:\n",
    "            if np.random.rand() > dropout:\n",
    "                features[\"word[-1]=%s|word=%s\" % (prev_word, curr_word_normed)] = True\n",
    "    if widx < len(sent) -1:\n",
    "        next_word = get_word_form(sent[widx+1][WORD_IDX], lower=lowercase)\n",
    "        features[\"word[+1]\"] = next_word\n",
    "        if interactions:\n",
    "            if np.random.rand() > dropout:\n",
    "                features[\"word[+1]=%s|word=%s\" % (next_word, curr_word_normed)] = True\n",
    "    \"\"\"\n",
    "    return features\n",
    "\n",
    "def sent2features(sent, extra_features=None, **kwargs):\n",
    "    if extra_features:\n",
    "        return [word2features(sent, i, extra_features=extra_features[i],\n",
    "                              **kwargs) for i in range(len(sent))]\n",
    "    return [word2features(sent, i, **kwargs) for i in range(len(sent))]\n",
    "\n",
    "def sent2labels(sent, lbl_id=1):\n",
    "    return [k[lbl_id] for k in sent]"
   ]
  },
  {
   "cell_type": "code",
   "execution_count": 58,
   "metadata": {
    "collapsed": false
   },
   "outputs": [],
   "source": [
    "def get_global_sequence_features(sent, word2vec_model=None, cluster_vocabs=None, WORD_IDX=0,\n",
    "                                 predictions=None):\n",
    "    features = {}\n",
    "    sent_length = len(sent) * 1.\n",
    "    for word in sent:\n",
    "        word = word[WORD_IDX]\n",
    "        lookup_key = preprocess_token(word, to_lower=True)\n",
    "        if word2vec_model and lookup_key in word2vec_model:\n",
    "            for i,v in enumerate(word2vec_model[lookup_key]):\n",
    "                features[\"_GLOBAL_WORDVEC_%s\" % i] = dict.get(features, \"_GLOBAL_WORDVEC_%s\" % i, 0) + v\n",
    "        if cluster_vocabs and lookup_key in cluster_vocabs:\n",
    "            v = dict.get(cluster_vocabs, lookup_key)\n",
    "            features[\"_GLOBAL_CLUSTER_=%s\" % v] = dict.get(features, \"_GLOBAL_CLUSTER_=%s\" % v, 0) + 1\n",
    "    features = {k: v / sent_length for k,v in features.iteritems()}\n",
    "    if predictions:\n",
    "        for k, prob in predictions.iteritems():\n",
    "            features[\"_MODEL_=%s\" % k] = prob\n",
    "    return [features for word in sent]\n",
    "    "
   ]
  },
  {
   "cell_type": "code",
   "execution_count": 59,
   "metadata": {
    "collapsed": true
   },
   "outputs": [],
   "source": [
    "def get_global_predictions(models, X_train):\n",
    "    predictions = {}\n",
    "    for k, model in models.iteritems():\n",
    "        y_pred = model.predict_proba(X_train)[:, 1]\n",
    "        predictions[k] = y_pred\n",
    "    keys = predictions.keys()\n",
    "    predictions = [dict(zip(keys, v)) for v in zip(*predictions.values())]\n",
    "    return predictions"
   ]
  },
  {
   "cell_type": "code",
   "execution_count": 120,
   "metadata": {
    "collapsed": false
   },
   "outputs": [],
   "source": [
    "predictions_train = get_global_predictions(models, tweet_X_train)\n",
    "predictions_dev = get_global_predictions(models, tweet_X_test)"
   ]
  },
  {
   "cell_type": "code",
   "execution_count": 73,
   "metadata": {
    "collapsed": true
   },
   "outputs": [],
   "source": [
    "del upsampled_training_data\n",
    "del upsampled_predictions_train"
   ]
  },
  {
   "cell_type": "code",
   "execution_count": 121,
   "metadata": {
    "collapsed": false
   },
   "outputs": [
    {
     "name": "stdout",
     "output_type": "stream",
     "text": [
      "2394 2394 1420 1420\n",
      "CPU times: user 24.3 s, sys: 832 ms, total: 25.2 s\n",
      "Wall time: 25.2 s\n"
     ]
    }
   ],
   "source": [
    "%%time\n",
    "#upsampled_training_data = train_sequences*5\n",
    "X_train = [sent2features(s, vocab=None,\n",
    "                         dict_features=dict_features, vocab_presence_only=False,\n",
    "                         window=2, interactions=True, dict_interactions=False,\n",
    "                         lowercase=True, dropout=0, word2vec_model=model_glove,\n",
    "                        cluster_vocabs=[\n",
    "            cluster_vocab,\n",
    "            cluster_vocab_clark,\n",
    "            cluster_vocab_wv\n",
    "        ],\n",
    "              #extra_features=get_global_sequence_features(\n",
    "            #s, cluster_vocabs=cluster_vocab, word2vec_model=model_glove,\n",
    "        #predictions=p\n",
    "        #)\n",
    "        )\n",
    "           for s, p in zip(train_sequences, predictions_train)]\n",
    "y_train = [sent2labels(s) for s in train_sequences]\n",
    "\n",
    "X_test = [sent2features(s, vocab=None,\n",
    "                         dict_features=dict_features, vocab_presence_only=False,\n",
    "                         window=2, interactions=True, dict_interactions=False,\n",
    "                         lowercase=True, dropout=0, word2vec_model=model_glove,\n",
    "                        cluster_vocabs=[\n",
    "            cluster_vocab,\n",
    "            cluster_vocab_clark,\n",
    "            cluster_vocab_wv\n",
    "        ],\n",
    "              #extra_features=get_global_sequence_features(\n",
    "            #s, cluster_vocabs=cluster_vocab, word2vec_model=model_glove,\n",
    "        #predictions=p\n",
    "        #)\n",
    "        )\n",
    "          for s, p in zip(dev_sequences, predictions_dev)]\n",
    "y_test = [sent2labels(s) for s in dev_sequences]\n",
    "print len(X_train), len(y_train), len(X_test), len(y_test)"
   ]
  },
  {
   "cell_type": "code",
   "execution_count": 285,
   "metadata": {
    "collapsed": false
   },
   "outputs": [
    {
     "name": "stdout",
     "output_type": "stream",
     "text": [
      "2394 2394 1420 1420\n",
      "CPU times: user 19.7 s, sys: 960 ms, total: 20.6 s\n",
      "Wall time: 20.6 s\n"
     ]
    }
   ],
   "source": [
    "%%time\n",
    "#upsampled_training_data = train_sequences*5\n",
    "X_train = [sent2features(s, vocab=None,\n",
    "                         dict_features=dict_features, vocab_presence_only=False,\n",
    "                         window=2, interactions=True, dict_interactions=False,\n",
    "                         lowercase=True, dropout=0, word2vec_model=model_glove,\n",
    "                        cluster_vocabs=None)\n",
    "           for s, p in zip(train_sequences, predictions_train)]\n",
    "y_train = [sent2labels(s) for s in train_sequences]\n",
    "\n",
    "X_test = [sent2features(s, vocab=None,\n",
    "                         dict_features=dict_features, vocab_presence_only=False,\n",
    "                         window=2, interactions=True, dict_interactions=False,\n",
    "                         lowercase=True, dropout=0, word2vec_model=model_glove,\n",
    "                        cluster_vocabs=None)\n",
    "          for s, p in zip(dev_sequences, predictions_dev)]\n",
    "y_test = [sent2labels(s) for s in dev_sequences]\n",
    "print len(X_train), len(y_train), len(X_test), len(y_test)"
   ]
  },
  {
   "cell_type": "markdown",
   "metadata": {},
   "source": [
    "## Upscaled sampling"
   ]
  },
  {
   "cell_type": "code",
   "execution_count": 61,
   "metadata": {
    "collapsed": false
   },
   "outputs": [
    {
     "name": "stdout",
     "output_type": "stream",
     "text": [
      "CPU times: user 44.8 s, sys: 1.44 s, total: 46.3 s\n",
      "Wall time: 46.3 s\n"
     ]
    }
   ],
   "source": [
    "%%time\n",
    "upsampled_training_data = train_sequences*1\n",
    "upsampled_predictions_train = predictions_train*1\n",
    "X_train = [sent2features(s, vocab=None,\n",
    "                         dict_features=dict_features, vocab_presence_only=False,\n",
    "                         window=2, interactions=True, dict_interactions=False,\n",
    "                         lowercase=True, dropout=0.5, word2vec_model=model_glove,\n",
    "                        cluster_vocabs=[\n",
    "            cluster_vocab,\n",
    "            cluster_vocab_clark,\n",
    "            cluster_vocab_wv\n",
    "        ],\n",
    "              extra_features=get_global_sequence_features(\n",
    "            s, cluster_vocabs=cluster_vocab, word2vec_model=model_glove,\n",
    "        predictions=p\n",
    "        ))\n",
    "           for s, p in zip(upsampled_training_data, upsampled_predictions_train)]\n",
    "y_train = [sent2labels(s) for s in upsampled_training_data]\n",
    "\n",
    "X_test = [sent2features(s, vocab=None,\n",
    "                         dict_features=dict_features, vocab_presence_only=False,\n",
    "                         window=2, interactions=True, dict_interactions=False,\n",
    "                         lowercase=True, dropout=0, word2vec_model=model_glove,\n",
    "                        cluster_vocabs=[\n",
    "            cluster_vocab,\n",
    "            cluster_vocab_clark,\n",
    "            cluster_vocab_wv\n",
    "        ],\n",
    "              extra_features=get_global_sequence_features(\n",
    "            s, cluster_vocabs=cluster_vocab, word2vec_model=model_glove,\n",
    "        predictions=p\n",
    "        ))\n",
    "          for s, p in zip(dev_sequences, predictions_dev)]\n",
    "y_test = [sent2labels(s) for s in dev_sequences]\n",
    "#print len(X_train), len(y_train), len(X_test), len(y_test)"
   ]
  },
  {
   "cell_type": "markdown",
   "metadata": {},
   "source": [
    "## Model training"
   ]
  },
  {
   "cell_type": "code",
   "execution_count": 122,
   "metadata": {
    "collapsed": false
   },
   "outputs": [
    {
     "name": "stdout",
     "output_type": "stream",
     "text": [
      "CPU times: user 3min 44s, sys: 212 ms, total: 3min 44s\n",
      "Wall time: 3min 44s\n"
     ]
    }
   ],
   "source": [
    "%%time\n",
    "crf = sklearn_crfsuite.CRF(\n",
    "    algorithm='l2sgd', \n",
    "    c2=1e-3,\n",
    "    #max_iterations=100,\n",
    "    #calibration_samples=20,\n",
    "    #all_possible_transitions=True,\n",
    "    #all_possible_states=True\n",
    ")\n",
    "crf.fit(X_train, y_train)"
   ]
  },
  {
   "cell_type": "code",
   "execution_count": 123,
   "metadata": {
    "collapsed": false
   },
   "outputs": [
    {
     "name": "stdout",
     "output_type": "stream",
     "text": [
      "Training accuracy:  0.991289503205\n"
     ]
    },
    {
     "data": {
      "text/html": [
       "<div>\n",
       "<table border=\"1\" class=\"dataframe\">\n",
       "  <thead>\n",
       "    <tr style=\"text-align: right;\">\n",
       "      <th></th>\n",
       "      <th>class</th>\n",
       "      <th>precision</th>\n",
       "      <th>recall</th>\n",
       "      <th>f1-score</th>\n",
       "      <th>support</th>\n",
       "    </tr>\n",
       "  </thead>\n",
       "  <tbody>\n",
       "    <tr>\n",
       "      <th>0</th>\n",
       "      <td>B-company</td>\n",
       "      <td>0.963</td>\n",
       "      <td>0.963</td>\n",
       "      <td>0.963</td>\n",
       "      <td>27</td>\n",
       "    </tr>\n",
       "    <tr>\n",
       "      <th>1</th>\n",
       "      <td>E-company</td>\n",
       "      <td>0.963</td>\n",
       "      <td>0.963</td>\n",
       "      <td>0.963</td>\n",
       "      <td>27</td>\n",
       "    </tr>\n",
       "    <tr>\n",
       "      <th>2</th>\n",
       "      <td>I-company</td>\n",
       "      <td>1.000</td>\n",
       "      <td>1.000</td>\n",
       "      <td>1.000</td>\n",
       "      <td>9</td>\n",
       "    </tr>\n",
       "    <tr>\n",
       "      <th>3</th>\n",
       "      <td>U-company</td>\n",
       "      <td>1.000</td>\n",
       "      <td>0.986</td>\n",
       "      <td>0.993</td>\n",
       "      <td>144</td>\n",
       "    </tr>\n",
       "    <tr>\n",
       "      <th>4</th>\n",
       "      <td>B-facility</td>\n",
       "      <td>0.987</td>\n",
       "      <td>0.975</td>\n",
       "      <td>0.981</td>\n",
       "      <td>79</td>\n",
       "    </tr>\n",
       "    <tr>\n",
       "      <th>5</th>\n",
       "      <td>E-facility</td>\n",
       "      <td>0.987</td>\n",
       "      <td>0.974</td>\n",
       "      <td>0.981</td>\n",
       "      <td>78</td>\n",
       "    </tr>\n",
       "    <tr>\n",
       "      <th>6</th>\n",
       "      <td>I-facility</td>\n",
       "      <td>1.000</td>\n",
       "      <td>1.000</td>\n",
       "      <td>1.000</td>\n",
       "      <td>26</td>\n",
       "    </tr>\n",
       "    <tr>\n",
       "      <th>7</th>\n",
       "      <td>U-facility</td>\n",
       "      <td>1.000</td>\n",
       "      <td>0.962</td>\n",
       "      <td>0.980</td>\n",
       "      <td>26</td>\n",
       "    </tr>\n",
       "    <tr>\n",
       "      <th>8</th>\n",
       "      <td>B-geo-loc</td>\n",
       "      <td>1.000</td>\n",
       "      <td>0.978</td>\n",
       "      <td>0.989</td>\n",
       "      <td>45</td>\n",
       "    </tr>\n",
       "    <tr>\n",
       "      <th>9</th>\n",
       "      <td>E-geo-loc</td>\n",
       "      <td>1.000</td>\n",
       "      <td>0.975</td>\n",
       "      <td>0.987</td>\n",
       "      <td>40</td>\n",
       "    </tr>\n",
       "    <tr>\n",
       "      <th>10</th>\n",
       "      <td>I-geo-loc</td>\n",
       "      <td>1.000</td>\n",
       "      <td>1.000</td>\n",
       "      <td>1.000</td>\n",
       "      <td>8</td>\n",
       "    </tr>\n",
       "    <tr>\n",
       "      <th>11</th>\n",
       "      <td>U-geo-loc</td>\n",
       "      <td>1.000</td>\n",
       "      <td>1.000</td>\n",
       "      <td>1.000</td>\n",
       "      <td>232</td>\n",
       "    </tr>\n",
       "    <tr>\n",
       "      <th>12</th>\n",
       "      <td>B-movie</td>\n",
       "      <td>1.000</td>\n",
       "      <td>1.000</td>\n",
       "      <td>1.000</td>\n",
       "      <td>29</td>\n",
       "    </tr>\n",
       "    <tr>\n",
       "      <th>13</th>\n",
       "      <td>E-movie</td>\n",
       "      <td>1.000</td>\n",
       "      <td>1.000</td>\n",
       "      <td>1.000</td>\n",
       "      <td>29</td>\n",
       "    </tr>\n",
       "    <tr>\n",
       "      <th>14</th>\n",
       "      <td>I-movie</td>\n",
       "      <td>1.000</td>\n",
       "      <td>1.000</td>\n",
       "      <td>1.000</td>\n",
       "      <td>17</td>\n",
       "    </tr>\n",
       "    <tr>\n",
       "      <th>15</th>\n",
       "      <td>U-movie</td>\n",
       "      <td>1.000</td>\n",
       "      <td>1.000</td>\n",
       "      <td>1.000</td>\n",
       "      <td>5</td>\n",
       "    </tr>\n",
       "    <tr>\n",
       "      <th>16</th>\n",
       "      <td>B-musicartist</td>\n",
       "      <td>1.000</td>\n",
       "      <td>1.000</td>\n",
       "      <td>1.000</td>\n",
       "      <td>37</td>\n",
       "    </tr>\n",
       "    <tr>\n",
       "      <th>17</th>\n",
       "      <td>E-musicartist</td>\n",
       "      <td>1.000</td>\n",
       "      <td>1.000</td>\n",
       "      <td>1.000</td>\n",
       "      <td>37</td>\n",
       "    </tr>\n",
       "    <tr>\n",
       "      <th>18</th>\n",
       "      <td>I-musicartist</td>\n",
       "      <td>1.000</td>\n",
       "      <td>1.000</td>\n",
       "      <td>1.000</td>\n",
       "      <td>24</td>\n",
       "    </tr>\n",
       "    <tr>\n",
       "      <th>19</th>\n",
       "      <td>U-musicartist</td>\n",
       "      <td>1.000</td>\n",
       "      <td>1.000</td>\n",
       "      <td>1.000</td>\n",
       "      <td>18</td>\n",
       "    </tr>\n",
       "    <tr>\n",
       "      <th>20</th>\n",
       "      <td>B-other</td>\n",
       "      <td>0.987</td>\n",
       "      <td>0.994</td>\n",
       "      <td>0.990</td>\n",
       "      <td>157</td>\n",
       "    </tr>\n",
       "    <tr>\n",
       "      <th>21</th>\n",
       "      <td>E-other</td>\n",
       "      <td>0.987</td>\n",
       "      <td>0.994</td>\n",
       "      <td>0.990</td>\n",
       "      <td>156</td>\n",
       "    </tr>\n",
       "    <tr>\n",
       "      <th>22</th>\n",
       "      <td>I-other</td>\n",
       "      <td>0.988</td>\n",
       "      <td>0.982</td>\n",
       "      <td>0.985</td>\n",
       "      <td>164</td>\n",
       "    </tr>\n",
       "    <tr>\n",
       "      <th>23</th>\n",
       "      <td>U-other</td>\n",
       "      <td>0.931</td>\n",
       "      <td>0.985</td>\n",
       "      <td>0.957</td>\n",
       "      <td>68</td>\n",
       "    </tr>\n",
       "    <tr>\n",
       "      <th>24</th>\n",
       "      <td>B-person</td>\n",
       "      <td>1.000</td>\n",
       "      <td>1.000</td>\n",
       "      <td>1.000</td>\n",
       "      <td>199</td>\n",
       "    </tr>\n",
       "    <tr>\n",
       "      <th>25</th>\n",
       "      <td>E-person</td>\n",
       "      <td>1.000</td>\n",
       "      <td>1.000</td>\n",
       "      <td>1.000</td>\n",
       "      <td>197</td>\n",
       "    </tr>\n",
       "    <tr>\n",
       "      <th>26</th>\n",
       "      <td>I-person</td>\n",
       "      <td>1.000</td>\n",
       "      <td>1.000</td>\n",
       "      <td>1.000</td>\n",
       "      <td>18</td>\n",
       "    </tr>\n",
       "    <tr>\n",
       "      <th>27</th>\n",
       "      <td>U-person</td>\n",
       "      <td>1.000</td>\n",
       "      <td>0.996</td>\n",
       "      <td>0.998</td>\n",
       "      <td>250</td>\n",
       "    </tr>\n",
       "    <tr>\n",
       "      <th>28</th>\n",
       "      <td>B-product</td>\n",
       "      <td>1.000</td>\n",
       "      <td>1.000</td>\n",
       "      <td>1.000</td>\n",
       "      <td>49</td>\n",
       "    </tr>\n",
       "    <tr>\n",
       "      <th>29</th>\n",
       "      <td>E-product</td>\n",
       "      <td>1.000</td>\n",
       "      <td>1.000</td>\n",
       "      <td>1.000</td>\n",
       "      <td>48</td>\n",
       "    </tr>\n",
       "    <tr>\n",
       "      <th>30</th>\n",
       "      <td>I-product</td>\n",
       "      <td>1.000</td>\n",
       "      <td>1.000</td>\n",
       "      <td>1.000</td>\n",
       "      <td>31</td>\n",
       "    </tr>\n",
       "    <tr>\n",
       "      <th>31</th>\n",
       "      <td>U-product</td>\n",
       "      <td>1.000</td>\n",
       "      <td>0.939</td>\n",
       "      <td>0.968</td>\n",
       "      <td>49</td>\n",
       "    </tr>\n",
       "    <tr>\n",
       "      <th>32</th>\n",
       "      <td>B-sportsteam</td>\n",
       "      <td>1.000</td>\n",
       "      <td>1.000</td>\n",
       "      <td>1.000</td>\n",
       "      <td>22</td>\n",
       "    </tr>\n",
       "    <tr>\n",
       "      <th>33</th>\n",
       "      <td>E-sportsteam</td>\n",
       "      <td>0.952</td>\n",
       "      <td>0.952</td>\n",
       "      <td>0.952</td>\n",
       "      <td>21</td>\n",
       "    </tr>\n",
       "    <tr>\n",
       "      <th>34</th>\n",
       "      <td>I-sportsteam</td>\n",
       "      <td>0.667</td>\n",
       "      <td>1.000</td>\n",
       "      <td>0.800</td>\n",
       "      <td>2</td>\n",
       "    </tr>\n",
       "    <tr>\n",
       "      <th>35</th>\n",
       "      <td>U-sportsteam</td>\n",
       "      <td>0.967</td>\n",
       "      <td>1.000</td>\n",
       "      <td>0.983</td>\n",
       "      <td>29</td>\n",
       "    </tr>\n",
       "    <tr>\n",
       "      <th>36</th>\n",
       "      <td>B-tvshow</td>\n",
       "      <td>1.000</td>\n",
       "      <td>0.955</td>\n",
       "      <td>0.977</td>\n",
       "      <td>22</td>\n",
       "    </tr>\n",
       "    <tr>\n",
       "      <th>37</th>\n",
       "      <td>E-tvshow</td>\n",
       "      <td>1.000</td>\n",
       "      <td>0.955</td>\n",
       "      <td>0.977</td>\n",
       "      <td>22</td>\n",
       "    </tr>\n",
       "    <tr>\n",
       "      <th>38</th>\n",
       "      <td>I-tvshow</td>\n",
       "      <td>1.000</td>\n",
       "      <td>1.000</td>\n",
       "      <td>1.000</td>\n",
       "      <td>9</td>\n",
       "    </tr>\n",
       "    <tr>\n",
       "      <th>39</th>\n",
       "      <td>U-tvshow</td>\n",
       "      <td>1.000</td>\n",
       "      <td>0.917</td>\n",
       "      <td>0.957</td>\n",
       "      <td>12</td>\n",
       "    </tr>\n",
       "    <tr>\n",
       "      <th>40</th>\n",
       "      <td>avg/total</td>\n",
       "      <td>0.993</td>\n",
       "      <td>0.990</td>\n",
       "      <td>0.991</td>\n",
       "      <td>2462</td>\n",
       "    </tr>\n",
       "  </tbody>\n",
       "</table>\n",
       "</div>"
      ],
      "text/plain": [
       "            class precision recall f1-score support\n",
       "0       B-company     0.963  0.963    0.963      27\n",
       "1       E-company     0.963  0.963    0.963      27\n",
       "2       I-company     1.000  1.000    1.000       9\n",
       "3       U-company     1.000  0.986    0.993     144\n",
       "4      B-facility     0.987  0.975    0.981      79\n",
       "5      E-facility     0.987  0.974    0.981      78\n",
       "6      I-facility     1.000  1.000    1.000      26\n",
       "7      U-facility     1.000  0.962    0.980      26\n",
       "8       B-geo-loc     1.000  0.978    0.989      45\n",
       "9       E-geo-loc     1.000  0.975    0.987      40\n",
       "10      I-geo-loc     1.000  1.000    1.000       8\n",
       "11      U-geo-loc     1.000  1.000    1.000     232\n",
       "12        B-movie     1.000  1.000    1.000      29\n",
       "13        E-movie     1.000  1.000    1.000      29\n",
       "14        I-movie     1.000  1.000    1.000      17\n",
       "15        U-movie     1.000  1.000    1.000       5\n",
       "16  B-musicartist     1.000  1.000    1.000      37\n",
       "17  E-musicartist     1.000  1.000    1.000      37\n",
       "18  I-musicartist     1.000  1.000    1.000      24\n",
       "19  U-musicartist     1.000  1.000    1.000      18\n",
       "20        B-other     0.987  0.994    0.990     157\n",
       "21        E-other     0.987  0.994    0.990     156\n",
       "22        I-other     0.988  0.982    0.985     164\n",
       "23        U-other     0.931  0.985    0.957      68\n",
       "24       B-person     1.000  1.000    1.000     199\n",
       "25       E-person     1.000  1.000    1.000     197\n",
       "26       I-person     1.000  1.000    1.000      18\n",
       "27       U-person     1.000  0.996    0.998     250\n",
       "28      B-product     1.000  1.000    1.000      49\n",
       "29      E-product     1.000  1.000    1.000      48\n",
       "30      I-product     1.000  1.000    1.000      31\n",
       "31      U-product     1.000  0.939    0.968      49\n",
       "32   B-sportsteam     1.000  1.000    1.000      22\n",
       "33   E-sportsteam     0.952  0.952    0.952      21\n",
       "34   I-sportsteam     0.667  1.000    0.800       2\n",
       "35   U-sportsteam     0.967  1.000    0.983      29\n",
       "36       B-tvshow     1.000  0.955    0.977      22\n",
       "37       E-tvshow     1.000  0.955    0.977      22\n",
       "38       I-tvshow     1.000  1.000    1.000       9\n",
       "39       U-tvshow     1.000  0.917    0.957      12\n",
       "40      avg/total     0.993  0.990    0.991    2462"
      ]
     },
     "metadata": {},
     "output_type": "display_data"
    }
   ],
   "source": [
    "labels = list(crf.classes_)\n",
    "labels.remove('O')\n",
    "\n",
    "# group B and I results\n",
    "sorted_labels = sorted(\n",
    "    labels, \n",
    "    key=lambda name: (name[1:], name[0])\n",
    ")\n",
    "\n",
    "y_pred = crf.predict(X_train)\n",
    "print \"Training accuracy: \", metrics.flat_f1_score(y_train, y_pred, \n",
    "                      average='weighted', labels=labels)\n",
    "\n",
    "report = metrics.flat_classification_report(\n",
    "    y_train, y_pred, labels=sorted_labels, digits=3\n",
    ")\n",
    "display(classification_report_to_df(report))"
   ]
  },
  {
   "cell_type": "code",
   "execution_count": 124,
   "metadata": {
    "collapsed": false
   },
   "outputs": [
    {
     "name": "stdout",
     "output_type": "stream",
     "text": [
      "Dev accuracy:  0.348275986788\n"
     ]
    },
    {
     "data": {
      "text/html": [
       "<div>\n",
       "<table border=\"1\" class=\"dataframe\">\n",
       "  <thead>\n",
       "    <tr style=\"text-align: right;\">\n",
       "      <th></th>\n",
       "      <th>class</th>\n",
       "      <th>precision</th>\n",
       "      <th>recall</th>\n",
       "      <th>f1-score</th>\n",
       "      <th>support</th>\n",
       "    </tr>\n",
       "  </thead>\n",
       "  <tbody>\n",
       "    <tr>\n",
       "      <th>0</th>\n",
       "      <td>B-company</td>\n",
       "      <td>0.000</td>\n",
       "      <td>0.000</td>\n",
       "      <td>0.000</td>\n",
       "      <td>27</td>\n",
       "    </tr>\n",
       "    <tr>\n",
       "      <th>1</th>\n",
       "      <td>E-company</td>\n",
       "      <td>0.000</td>\n",
       "      <td>0.000</td>\n",
       "      <td>0.000</td>\n",
       "      <td>27</td>\n",
       "    </tr>\n",
       "    <tr>\n",
       "      <th>2</th>\n",
       "      <td>I-company</td>\n",
       "      <td>0.000</td>\n",
       "      <td>0.000</td>\n",
       "      <td>0.000</td>\n",
       "      <td>14</td>\n",
       "    </tr>\n",
       "    <tr>\n",
       "      <th>3</th>\n",
       "      <td>U-company</td>\n",
       "      <td>0.409</td>\n",
       "      <td>0.400</td>\n",
       "      <td>0.404</td>\n",
       "      <td>45</td>\n",
       "    </tr>\n",
       "    <tr>\n",
       "      <th>4</th>\n",
       "      <td>B-facility</td>\n",
       "      <td>0.370</td>\n",
       "      <td>0.357</td>\n",
       "      <td>0.364</td>\n",
       "      <td>28</td>\n",
       "    </tr>\n",
       "    <tr>\n",
       "      <th>5</th>\n",
       "      <td>E-facility</td>\n",
       "      <td>0.393</td>\n",
       "      <td>0.407</td>\n",
       "      <td>0.400</td>\n",
       "      <td>27</td>\n",
       "    </tr>\n",
       "    <tr>\n",
       "      <th>6</th>\n",
       "      <td>I-facility</td>\n",
       "      <td>0.000</td>\n",
       "      <td>0.000</td>\n",
       "      <td>0.000</td>\n",
       "      <td>17</td>\n",
       "    </tr>\n",
       "    <tr>\n",
       "      <th>7</th>\n",
       "      <td>U-facility</td>\n",
       "      <td>0.000</td>\n",
       "      <td>0.000</td>\n",
       "      <td>0.000</td>\n",
       "      <td>18</td>\n",
       "    </tr>\n",
       "    <tr>\n",
       "      <th>8</th>\n",
       "      <td>B-geo-loc</td>\n",
       "      <td>0.500</td>\n",
       "      <td>0.390</td>\n",
       "      <td>0.438</td>\n",
       "      <td>41</td>\n",
       "    </tr>\n",
       "    <tr>\n",
       "      <th>9</th>\n",
       "      <td>E-geo-loc</td>\n",
       "      <td>0.531</td>\n",
       "      <td>0.472</td>\n",
       "      <td>0.500</td>\n",
       "      <td>36</td>\n",
       "    </tr>\n",
       "    <tr>\n",
       "      <th>10</th>\n",
       "      <td>I-geo-loc</td>\n",
       "      <td>0.667</td>\n",
       "      <td>0.091</td>\n",
       "      <td>0.160</td>\n",
       "      <td>22</td>\n",
       "    </tr>\n",
       "    <tr>\n",
       "      <th>11</th>\n",
       "      <td>U-geo-loc</td>\n",
       "      <td>0.512</td>\n",
       "      <td>0.711</td>\n",
       "      <td>0.595</td>\n",
       "      <td>121</td>\n",
       "    </tr>\n",
       "    <tr>\n",
       "      <th>12</th>\n",
       "      <td>B-movie</td>\n",
       "      <td>0.333</td>\n",
       "      <td>0.167</td>\n",
       "      <td>0.222</td>\n",
       "      <td>12</td>\n",
       "    </tr>\n",
       "    <tr>\n",
       "      <th>13</th>\n",
       "      <td>E-movie</td>\n",
       "      <td>0.286</td>\n",
       "      <td>0.167</td>\n",
       "      <td>0.211</td>\n",
       "      <td>12</td>\n",
       "    </tr>\n",
       "    <tr>\n",
       "      <th>14</th>\n",
       "      <td>I-movie</td>\n",
       "      <td>0.000</td>\n",
       "      <td>0.000</td>\n",
       "      <td>0.000</td>\n",
       "      <td>5</td>\n",
       "    </tr>\n",
       "    <tr>\n",
       "      <th>15</th>\n",
       "      <td>U-movie</td>\n",
       "      <td>0.000</td>\n",
       "      <td>0.000</td>\n",
       "      <td>0.000</td>\n",
       "      <td>6</td>\n",
       "    </tr>\n",
       "    <tr>\n",
       "      <th>16</th>\n",
       "      <td>B-musicartist</td>\n",
       "      <td>0.222</td>\n",
       "      <td>0.059</td>\n",
       "      <td>0.093</td>\n",
       "      <td>34</td>\n",
       "    </tr>\n",
       "    <tr>\n",
       "      <th>17</th>\n",
       "      <td>E-musicartist</td>\n",
       "      <td>0.286</td>\n",
       "      <td>0.067</td>\n",
       "      <td>0.108</td>\n",
       "      <td>30</td>\n",
       "    </tr>\n",
       "    <tr>\n",
       "      <th>18</th>\n",
       "      <td>I-musicartist</td>\n",
       "      <td>0.333</td>\n",
       "      <td>0.091</td>\n",
       "      <td>0.143</td>\n",
       "      <td>11</td>\n",
       "    </tr>\n",
       "    <tr>\n",
       "      <th>19</th>\n",
       "      <td>U-musicartist</td>\n",
       "      <td>1.000</td>\n",
       "      <td>0.130</td>\n",
       "      <td>0.231</td>\n",
       "      <td>23</td>\n",
       "    </tr>\n",
       "    <tr>\n",
       "      <th>20</th>\n",
       "      <td>B-other</td>\n",
       "      <td>0.206</td>\n",
       "      <td>0.182</td>\n",
       "      <td>0.193</td>\n",
       "      <td>77</td>\n",
       "    </tr>\n",
       "    <tr>\n",
       "      <th>21</th>\n",
       "      <td>E-other</td>\n",
       "      <td>0.243</td>\n",
       "      <td>0.224</td>\n",
       "      <td>0.233</td>\n",
       "      <td>76</td>\n",
       "    </tr>\n",
       "    <tr>\n",
       "      <th>22</th>\n",
       "      <td>I-other</td>\n",
       "      <td>0.163</td>\n",
       "      <td>0.108</td>\n",
       "      <td>0.130</td>\n",
       "      <td>65</td>\n",
       "    </tr>\n",
       "    <tr>\n",
       "      <th>23</th>\n",
       "      <td>U-other</td>\n",
       "      <td>0.431</td>\n",
       "      <td>0.245</td>\n",
       "      <td>0.312</td>\n",
       "      <td>102</td>\n",
       "    </tr>\n",
       "    <tr>\n",
       "      <th>24</th>\n",
       "      <td>B-person</td>\n",
       "      <td>0.729</td>\n",
       "      <td>0.857</td>\n",
       "      <td>0.788</td>\n",
       "      <td>119</td>\n",
       "    </tr>\n",
       "    <tr>\n",
       "      <th>25</th>\n",
       "      <td>E-person</td>\n",
       "      <td>0.724</td>\n",
       "      <td>0.815</td>\n",
       "      <td>0.767</td>\n",
       "      <td>119</td>\n",
       "    </tr>\n",
       "    <tr>\n",
       "      <th>26</th>\n",
       "      <td>I-person</td>\n",
       "      <td>0.000</td>\n",
       "      <td>0.000</td>\n",
       "      <td>0.000</td>\n",
       "      <td>16</td>\n",
       "    </tr>\n",
       "    <tr>\n",
       "      <th>27</th>\n",
       "      <td>U-person</td>\n",
       "      <td>0.634</td>\n",
       "      <td>0.512</td>\n",
       "      <td>0.566</td>\n",
       "      <td>125</td>\n",
       "    </tr>\n",
       "    <tr>\n",
       "      <th>28</th>\n",
       "      <td>B-product</td>\n",
       "      <td>0.231</td>\n",
       "      <td>0.094</td>\n",
       "      <td>0.133</td>\n",
       "      <td>32</td>\n",
       "    </tr>\n",
       "    <tr>\n",
       "      <th>29</th>\n",
       "      <td>E-product</td>\n",
       "      <td>0.143</td>\n",
       "      <td>0.031</td>\n",
       "      <td>0.051</td>\n",
       "      <td>32</td>\n",
       "    </tr>\n",
       "    <tr>\n",
       "      <th>30</th>\n",
       "      <td>I-product</td>\n",
       "      <td>1.000</td>\n",
       "      <td>0.011</td>\n",
       "      <td>0.021</td>\n",
       "      <td>95</td>\n",
       "    </tr>\n",
       "    <tr>\n",
       "      <th>31</th>\n",
       "      <td>U-product</td>\n",
       "      <td>0.300</td>\n",
       "      <td>0.429</td>\n",
       "      <td>0.353</td>\n",
       "      <td>14</td>\n",
       "    </tr>\n",
       "    <tr>\n",
       "      <th>32</th>\n",
       "      <td>B-sportsteam</td>\n",
       "      <td>0.286</td>\n",
       "      <td>0.100</td>\n",
       "      <td>0.148</td>\n",
       "      <td>20</td>\n",
       "    </tr>\n",
       "    <tr>\n",
       "      <th>33</th>\n",
       "      <td>E-sportsteam</td>\n",
       "      <td>0.400</td>\n",
       "      <td>0.105</td>\n",
       "      <td>0.167</td>\n",
       "      <td>19</td>\n",
       "    </tr>\n",
       "    <tr>\n",
       "      <th>34</th>\n",
       "      <td>I-sportsteam</td>\n",
       "      <td>0.000</td>\n",
       "      <td>0.000</td>\n",
       "      <td>0.000</td>\n",
       "      <td>5</td>\n",
       "    </tr>\n",
       "    <tr>\n",
       "      <th>35</th>\n",
       "      <td>U-sportsteam</td>\n",
       "      <td>0.810</td>\n",
       "      <td>0.200</td>\n",
       "      <td>0.321</td>\n",
       "      <td>85</td>\n",
       "    </tr>\n",
       "    <tr>\n",
       "      <th>36</th>\n",
       "      <td>B-tvshow</td>\n",
       "      <td>0.000</td>\n",
       "      <td>0.000</td>\n",
       "      <td>0.000</td>\n",
       "      <td>2</td>\n",
       "    </tr>\n",
       "    <tr>\n",
       "      <th>37</th>\n",
       "      <td>E-tvshow</td>\n",
       "      <td>0.000</td>\n",
       "      <td>0.000</td>\n",
       "      <td>0.000</td>\n",
       "      <td>2</td>\n",
       "    </tr>\n",
       "    <tr>\n",
       "      <th>38</th>\n",
       "      <td>I-tvshow</td>\n",
       "      <td>0.000</td>\n",
       "      <td>0.000</td>\n",
       "      <td>0.000</td>\n",
       "      <td>0</td>\n",
       "    </tr>\n",
       "    <tr>\n",
       "      <th>39</th>\n",
       "      <td>U-tvshow</td>\n",
       "      <td>1.000</td>\n",
       "      <td>0.167</td>\n",
       "      <td>0.286</td>\n",
       "      <td>6</td>\n",
       "    </tr>\n",
       "    <tr>\n",
       "      <th>40</th>\n",
       "      <td>avg/total</td>\n",
       "      <td>0.476</td>\n",
       "      <td>0.339</td>\n",
       "      <td>0.348</td>\n",
       "      <td>1567</td>\n",
       "    </tr>\n",
       "  </tbody>\n",
       "</table>\n",
       "</div>"
      ],
      "text/plain": [
       "            class precision recall f1-score support\n",
       "0       B-company     0.000  0.000    0.000      27\n",
       "1       E-company     0.000  0.000    0.000      27\n",
       "2       I-company     0.000  0.000    0.000      14\n",
       "3       U-company     0.409  0.400    0.404      45\n",
       "4      B-facility     0.370  0.357    0.364      28\n",
       "5      E-facility     0.393  0.407    0.400      27\n",
       "6      I-facility     0.000  0.000    0.000      17\n",
       "7      U-facility     0.000  0.000    0.000      18\n",
       "8       B-geo-loc     0.500  0.390    0.438      41\n",
       "9       E-geo-loc     0.531  0.472    0.500      36\n",
       "10      I-geo-loc     0.667  0.091    0.160      22\n",
       "11      U-geo-loc     0.512  0.711    0.595     121\n",
       "12        B-movie     0.333  0.167    0.222      12\n",
       "13        E-movie     0.286  0.167    0.211      12\n",
       "14        I-movie     0.000  0.000    0.000       5\n",
       "15        U-movie     0.000  0.000    0.000       6\n",
       "16  B-musicartist     0.222  0.059    0.093      34\n",
       "17  E-musicartist     0.286  0.067    0.108      30\n",
       "18  I-musicartist     0.333  0.091    0.143      11\n",
       "19  U-musicartist     1.000  0.130    0.231      23\n",
       "20        B-other     0.206  0.182    0.193      77\n",
       "21        E-other     0.243  0.224    0.233      76\n",
       "22        I-other     0.163  0.108    0.130      65\n",
       "23        U-other     0.431  0.245    0.312     102\n",
       "24       B-person     0.729  0.857    0.788     119\n",
       "25       E-person     0.724  0.815    0.767     119\n",
       "26       I-person     0.000  0.000    0.000      16\n",
       "27       U-person     0.634  0.512    0.566     125\n",
       "28      B-product     0.231  0.094    0.133      32\n",
       "29      E-product     0.143  0.031    0.051      32\n",
       "30      I-product     1.000  0.011    0.021      95\n",
       "31      U-product     0.300  0.429    0.353      14\n",
       "32   B-sportsteam     0.286  0.100    0.148      20\n",
       "33   E-sportsteam     0.400  0.105    0.167      19\n",
       "34   I-sportsteam     0.000  0.000    0.000       5\n",
       "35   U-sportsteam     0.810  0.200    0.321      85\n",
       "36       B-tvshow     0.000  0.000    0.000       2\n",
       "37       E-tvshow     0.000  0.000    0.000       2\n",
       "38       I-tvshow     0.000  0.000    0.000       0\n",
       "39       U-tvshow     1.000  0.167    0.286       6\n",
       "40      avg/total     0.476  0.339    0.348    1567"
      ]
     },
     "metadata": {},
     "output_type": "display_data"
    }
   ],
   "source": [
    "y_pred = crf.predict(X_test)\n",
    "print \"Dev accuracy: \", metrics.flat_f1_score(y_test, y_pred, \n",
    "                      average='weighted', labels=labels)\n",
    "\n",
    "report = metrics.flat_classification_report(\n",
    "    y_test, y_pred, labels=sorted_labels, digits=3\n",
    ")\n",
    "display(classification_report_to_df(report))"
   ]
  },
  {
   "cell_type": "code",
   "execution_count": 125,
   "metadata": {
    "collapsed": false
   },
   "outputs": [
    {
     "name": "stdout",
     "output_type": "stream",
     "text": [
      "Top likely transitions:\n",
      "I-other -> E-other 6.578999\n",
      "O      -> O       6.414301\n",
      "B-person -> E-person 6.218586\n",
      "B-other -> I-other 6.151907\n",
      "I-other -> I-other 6.135129\n",
      "B-other -> E-other 5.479364\n",
      "B-facility -> E-facility 5.370106\n",
      "B-product -> E-product 4.773548\n",
      "I-facility -> E-facility 4.315911\n",
      "B-facility -> I-facility 4.294455\n",
      "B-musicartist -> E-musicartist 4.258563\n",
      "B-geo-loc -> E-geo-loc 4.090446\n",
      "B-company -> E-company 3.928341\n",
      "E-person -> O       3.484763\n",
      "U-person -> O       3.452170\n",
      "I-product -> I-product 3.452126\n",
      "I-product -> E-product 3.114120\n",
      "O      -> U-person 3.104682\n",
      "B-sportsteam -> E-sportsteam 3.094835\n",
      "B-tvshow -> E-tvshow 3.079438\n",
      "B-movie -> E-movie 3.074772\n",
      "O      -> U-geo-loc 3.051529\n",
      "I-movie -> E-movie 3.029713\n",
      "I-person -> E-person 2.991248\n",
      "U-company -> O       2.984838\n"
     ]
    }
   ],
   "source": [
    "print(\"Top likely transitions:\")\n",
    "print_transitions(Counter(crf.transition_features_).most_common(25))"
   ]
  },
  {
   "cell_type": "code",
   "execution_count": 126,
   "metadata": {
    "collapsed": false
   },
   "outputs": [
    {
     "name": "stdout",
     "output_type": "stream",
     "text": [
      "['B-person', 'I-person', 'E-person', 'U-person', 'B-other', 'I-other', 'E-other', 'U-other', 'B-geo-loc', 'I-geo-loc', 'E-geo-loc', 'U-geo-loc', 'B-facility', 'I-facility', 'E-facility', 'U-facility', 'B-company', 'I-company', 'E-company', 'U-company', 'B-product', 'I-product', 'E-product', 'U-product', 'B-musicartist', 'I-musicartist', 'E-musicartist', 'U-musicartist', 'B-movie', 'I-movie', 'E-movie', 'U-movie', 'B-sportsteam', 'I-sportsteam', 'E-sportsteam', 'U-sportsteam', 'B-tvshow', 'I-tvshow', 'E-tvshow', 'U-tvshow', 'O']\n"
     ]
    }
   ],
   "source": [
    "possible_labels = [\"%s-%s\" % (k1,k) for k in cat_names\n",
    "    for k1 in [\"B\", \"I\", \"E\", \"U\"]] + [\"O\"]\n",
    "print possible_labels\n"
   ]
  },
  {
   "cell_type": "code",
   "execution_count": 127,
   "metadata": {
    "collapsed": false
   },
   "outputs": [
    {
     "data": {
      "text/plain": [
       "40"
      ]
     },
     "execution_count": 127,
     "metadata": {},
     "output_type": "execute_result"
    }
   ],
   "source": [
    "possible_labels.index(\"O\")"
   ]
  },
  {
   "cell_type": "code",
   "execution_count": 128,
   "metadata": {
    "collapsed": false
   },
   "outputs": [
    {
     "data": {
      "image/png": "[encoded data removed]",
      "text/plain": [
       "<matplotlib.figure.Figure at 0x7f9d0c847110>"
      ]
     },
     "metadata": {},
     "output_type": "display_data"
    }
   ],
   "source": [
    "transition_matrix = np.zeros((len(possible_labels), len(possible_labels)))\n",
    "for k in possible_labels:\n",
    "    for k1 in possible_labels:\n",
    "        if (k,k1) in crf.transition_features_:\n",
    "            i,j = possible_labels.index(k), possible_labels.index(k1)\n",
    "            transition_matrix[i,j] = crf.transition_features_[(k,k1)]\n",
    "\n",
    "with plt.rc_context(rc={'xtick.labelsize': 10, 'ytick.labelsize': 10,\n",
    "                        'font.size': 10,\n",
    "                       'figure.figsize': (10,8)}):        \n",
    "    sns.heatmap(data=transition_matrix,\n",
    "            xticklabels=possible_labels, yticklabels=possible_labels,\n",
    "           cmap=\"RdGy\")"
   ]
  },
  {
   "cell_type": "code",
   "execution_count": 129,
   "metadata": {
    "collapsed": false
   },
   "outputs": [
    {
     "name": "stdout",
     "output_type": "stream",
     "text": [
      "person\t__BOS__->U-person=1.492\t_WORDVEC_46->U-person=-1.248\n",
      "other\t__BROWN_CLUSTER_2__:1001000->U-other=1.713\tisAllSmallCase|isAlphaNumeric[+1]->U-other=-1.101\n",
      "geo-loc\t__BROWN_CLUSTER_0__:11100110101->U-geo-loc=2.829\tDICT=musicartist_names.unique.txt->U-geo-loc=-1.108\n",
      "facility\t__BROWN_CLUSTER_2__[-1]:1001111110->U-facility=1.940\t_WORDVEC_185->B-facility=-0.733\n",
      "company\tDICT=venture_capital.venture_funded_company->U-company=1.553\tsinglePunctuation[-1]|isInitCapitalWord->U-company=-0.944\n",
      "product\t_WORDVEC_199->U-product=1.351\tDICT=musicartist_namevariants.unique.txt->U-product=-1.414\n",
      "musicartist\t__BROWN_CLUSTER_2__[-1]:11110010->U-musicartist=1.583\tDICT=all_geonames.txt->U-musicartist=-0.999\n",
      "movie\t_WORDVEC_75->B-movie=0.967\tisAlphaNumeric[+1]->E-movie=-0.540\n",
      "sportsteam\t__BROWN_CLUSTER_2__[+1]:1111100->U-sportsteam=1.611\t_WORDVEC_30->U-sportsteam=-1.105\n",
      "tvshow\tisSpecialCharacter[-1]|containsDigit->U-tvshow=0.933\tisInitCapitalWord|singlePunctuation[+1]->E-tvshow=-0.477\n"
     ]
    },
    {
     "data": {
      "text/html": [
       "<div>\n",
       "<table border=\"1\" class=\"dataframe\">\n",
       "  <thead>\n",
       "    <tr style=\"text-align: right;\">\n",
       "      <th></th>\n",
       "      <th>type</th>\n",
       "      <th>best_feature-&gt;tag</th>\n",
       "      <th>best_weight</th>\n",
       "      <th>worst_feature-&gt;tag</th>\n",
       "      <th>worst_weight</th>\n",
       "    </tr>\n",
       "  </thead>\n",
       "  <tbody>\n",
       "    <tr>\n",
       "      <th>0</th>\n",
       "      <td>person</td>\n",
       "      <td>__BOS__-&gt;U-person</td>\n",
       "      <td>1.491766</td>\n",
       "      <td>_WORDVEC_46-&gt;U-person</td>\n",
       "      <td>-1.247518</td>\n",
       "    </tr>\n",
       "    <tr>\n",
       "      <th>1</th>\n",
       "      <td>other</td>\n",
       "      <td>__BROWN_CLUSTER_2__:1001000-&gt;U-other</td>\n",
       "      <td>1.712639</td>\n",
       "      <td>isAllSmallCase|isAlphaNumeric[+1]-&gt;U-other</td>\n",
       "      <td>-1.101389</td>\n",
       "    </tr>\n",
       "    <tr>\n",
       "      <th>2</th>\n",
       "      <td>geo-loc</td>\n",
       "      <td>__BROWN_CLUSTER_0__:11100110101-&gt;U-geo-loc</td>\n",
       "      <td>2.828832</td>\n",
       "      <td>DICT=musicartist_names.unique.txt-&gt;U-geo-loc</td>\n",
       "      <td>-1.108403</td>\n",
       "    </tr>\n",
       "    <tr>\n",
       "      <th>3</th>\n",
       "      <td>facility</td>\n",
       "      <td>__BROWN_CLUSTER_2__[-1]:1001111110-&gt;U-facility</td>\n",
       "      <td>1.939917</td>\n",
       "      <td>_WORDVEC_185-&gt;B-facility</td>\n",
       "      <td>-0.733019</td>\n",
       "    </tr>\n",
       "    <tr>\n",
       "      <th>4</th>\n",
       "      <td>company</td>\n",
       "      <td>DICT=venture_capital.venture_funded_company-&gt;U...</td>\n",
       "      <td>1.553188</td>\n",
       "      <td>singlePunctuation[-1]|isInitCapitalWord-&gt;U-com...</td>\n",
       "      <td>-0.944072</td>\n",
       "    </tr>\n",
       "    <tr>\n",
       "      <th>5</th>\n",
       "      <td>product</td>\n",
       "      <td>_WORDVEC_199-&gt;U-product</td>\n",
       "      <td>1.350849</td>\n",
       "      <td>DICT=musicartist_namevariants.unique.txt-&gt;U-pr...</td>\n",
       "      <td>-1.413890</td>\n",
       "    </tr>\n",
       "    <tr>\n",
       "      <th>6</th>\n",
       "      <td>musicartist</td>\n",
       "      <td>__BROWN_CLUSTER_2__[-1]:11110010-&gt;U-musicartist</td>\n",
       "      <td>1.582546</td>\n",
       "      <td>DICT=all_geonames.txt-&gt;U-musicartist</td>\n",
       "      <td>-0.998941</td>\n",
       "    </tr>\n",
       "    <tr>\n",
       "      <th>7</th>\n",
       "      <td>movie</td>\n",
       "      <td>_WORDVEC_75-&gt;B-movie</td>\n",
       "      <td>0.967402</td>\n",
       "      <td>isAlphaNumeric[+1]-&gt;E-movie</td>\n",
       "      <td>-0.540342</td>\n",
       "    </tr>\n",
       "    <tr>\n",
       "      <th>8</th>\n",
       "      <td>sportsteam</td>\n",
       "      <td>__BROWN_CLUSTER_2__[+1]:1111100-&gt;U-sportsteam</td>\n",
       "      <td>1.611277</td>\n",
       "      <td>_WORDVEC_30-&gt;U-sportsteam</td>\n",
       "      <td>-1.105138</td>\n",
       "    </tr>\n",
       "    <tr>\n",
       "      <th>9</th>\n",
       "      <td>tvshow</td>\n",
       "      <td>isSpecialCharacter[-1]|containsDigit-&gt;U-tvshow</td>\n",
       "      <td>0.933442</td>\n",
       "      <td>isInitCapitalWord|singlePunctuation[+1]-&gt;E-tvshow</td>\n",
       "      <td>-0.476997</td>\n",
       "    </tr>\n",
       "  </tbody>\n",
       "</table>\n",
       "</div>"
      ],
      "text/plain": [
       "          type                                  best_feature->tag  \\\n",
       "0       person                                  __BOS__->U-person   \n",
       "1        other               __BROWN_CLUSTER_2__:1001000->U-other   \n",
       "2      geo-loc         __BROWN_CLUSTER_0__:11100110101->U-geo-loc   \n",
       "3     facility     __BROWN_CLUSTER_2__[-1]:1001111110->U-facility   \n",
       "4      company  DICT=venture_capital.venture_funded_company->U...   \n",
       "5      product                            _WORDVEC_199->U-product   \n",
       "6  musicartist    __BROWN_CLUSTER_2__[-1]:11110010->U-musicartist   \n",
       "7        movie                               _WORDVEC_75->B-movie   \n",
       "8   sportsteam      __BROWN_CLUSTER_2__[+1]:1111100->U-sportsteam   \n",
       "9       tvshow     isSpecialCharacter[-1]|containsDigit->U-tvshow   \n",
       "\n",
       "   best_weight                                 worst_feature->tag  \\\n",
       "0     1.491766                              _WORDVEC_46->U-person   \n",
       "1     1.712639         isAllSmallCase|isAlphaNumeric[+1]->U-other   \n",
       "2     2.828832       DICT=musicartist_names.unique.txt->U-geo-loc   \n",
       "3     1.939917                           _WORDVEC_185->B-facility   \n",
       "4     1.553188  singlePunctuation[-1]|isInitCapitalWord->U-com...   \n",
       "5     1.350849  DICT=musicartist_namevariants.unique.txt->U-pr...   \n",
       "6     1.582546               DICT=all_geonames.txt->U-musicartist   \n",
       "7     0.967402                        isAlphaNumeric[+1]->E-movie   \n",
       "8     1.611277                          _WORDVEC_30->U-sportsteam   \n",
       "9     0.933442  isInitCapitalWord|singlePunctuation[+1]->E-tvshow   \n",
       "\n",
       "   worst_weight  \n",
       "0     -1.247518  \n",
       "1     -1.101389  \n",
       "2     -1.108403  \n",
       "3     -0.733019  \n",
       "4     -0.944072  \n",
       "5     -1.413890  \n",
       "6     -0.998941  \n",
       "7     -0.540342  \n",
       "8     -1.105138  \n",
       "9     -0.476997  "
      ]
     },
     "execution_count": 129,
     "metadata": {},
     "output_type": "execute_result"
    }
   ],
   "source": [
    "df_t=[]\n",
    "for k in cat_names:\n",
    "    t = max(filter(lambda t: t[0][1][0] != \"O\" and t[0][1][2:] == k, \n",
    "            crf.state_features_.iteritems()), \n",
    "        key=lambda x: x[1])\n",
    "    t1 = min(filter(lambda t: t[0][1][0] != \"O\" and t[0][1][2:] == k, \n",
    "            crf.state_features_.iteritems()), \n",
    "        key=lambda x: x[1])\n",
    "    df_t.append((k,\n",
    "                 \"%s->%s\" % (t[0][0], t[0][1]), t[1],\n",
    "                 \"%s->%s\" % (t1[0][0], t1[0][1]), t1[1],\n",
    "                ))\n",
    "    print(\"%s\\t%s=%.3f\\t%s=%.3f\" % df_t[-1])\n",
    "\n",
    "pd.DataFrame(df_t, columns=[\"type\", \"best_feature->tag\", \"best_weight\",\n",
    "                            \"worst_feature->tag\", \"worst_weight\"])"
   ]
  },
  {
   "cell_type": "code",
   "execution_count": 130,
   "metadata": {
    "collapsed": false
   },
   "outputs": [
    {
     "name": "stdout",
     "output_type": "stream",
     "text": [
      "Top positive:\n",
      "3.786660 O        __EOS__\n",
      "3.536302 O        __BOS__\n",
      "2.828832 U-geo-loc __BROWN_CLUSTER_0__:11100110101\n",
      "2.536453 O        DICT=lower.5000\n",
      "2.371215 U-geo-loc DICT=location\n",
      "2.266725 U-geo-loc __BROWN_CLUSTER_0__:11100110100\n",
      "1.939917 U-facility __BROWN_CLUSTER_2__[-1]:1001111110\n",
      "1.913118 O        bias\n",
      "1.860539 O        __BROWN_CLUSTER_0__:11100110110\n",
      "1.786457 U-geo-loc __BROWN_CLUSTER_2__[-1]:10001010\n",
      "1.775268 B-facility __BROWN_CLUSTER_2__[-1]:1001111110\n",
      "1.712639 U-other  __BROWN_CLUSTER_2__:1001000\n",
      "1.706160 O        DICT=english.stop\n",
      "1.655156 U-geo-loc __BROWN_CLUSTER_2__=11111101|__BROWN_CLUSTER_2__[-1]=10001010\n",
      "1.632619 O        isAllSmallCase\n",
      "1.611277 U-sportsteam __BROWN_CLUSTER_2__[+1]:1111100\n",
      "1.607031 B-facility __BROWN_CLUSTER_0__[-1]:10111100\n",
      "1.596375 U-other  _WORDVEC_17\n",
      "1.582546 U-musicartist __BROWN_CLUSTER_2__[-1]:11110010\n",
      "1.581618 O        isMention\n",
      "1.553188 U-company DICT=venture_capital.venture_funded_company\n",
      "1.543191 U-geo-loc __BROWN_CLUSTER_2__:11111101\n",
      "1.533413 U-company __BROWN_CLUSTER_0__:111001100001\n",
      "1.513689 B-sportsteam __BROWN_CLUSTER_0__[+1]:1111011010\n",
      "1.502573 U-geo-loc DICT=all_geonames.txt|DICT=location\n",
      "1.491766 U-person __BOS__\n",
      "1.491565 U-person __BROWN_CLUSTER_2__[+1]:10101100\n",
      "1.470914 U-other  DICT=sports.sports_league\n",
      "1.468977 U-facility __BROWN_CLUSTER_2__:11111101\n",
      "1.448021 U-person __BROWN_CLUSTER_0__:111001110\n",
      "1.441440 U-company _WORDVEC_184\n",
      "1.424733 U-company __BROWN_CLUSTER_2__:11111110\n",
      "1.422661 U-geo-loc _WORDVEC_114\n",
      "1.417986 U-musicartist __BROWN_CLUSTER_0__:11100110010\n",
      "1.414198 U-person _WORDVEC_90\n",
      "1.413974 U-company _WORDVEC_195\n",
      "1.411539 U-person __BROWN_CLUSTER_2__:10010011\n",
      "1.403473 O        __BROWN_CLUSTER_0__[+1]:100110111\n",
      "1.367365 U-company _WORDVEC_144\n",
      "1.362303 U-company _WORDVEC_147\n",
      "1.350849 U-product _WORDVEC_199\n",
      "1.340958 U-product __BROWN_CLUSTER_2__[+1]:1000111\n",
      "1.329779 U-person _WORDVEC_143\n",
      "1.314547 U-company _WORDVEC_194\n",
      "1.313997 U-facility _WORDVEC_195\n",
      "1.309794 U-product __BROWN_CLUSTER_2__[+1]:10001000\n",
      "1.297821 U-product __BROWN_CLUSTER_2__=11111010|__BROWN_CLUSTER_2__[-1]=1000111\n",
      "1.296382 E-other  _WORDVEC_157\n",
      "1.288658 U-person __BROWN_CLUSTER_2__[+1]:1011001\n",
      "1.287029 U-company __BOS__\n",
      "1.285272 U-other  __BROWN_CLUSTER_0__:1111010111100\n",
      "1.283992 U-product DICT=product\n",
      "1.269317 U-other  __BROWN_CLUSTER_0__:111101101101\n",
      "1.267557 U-company __BROWN_CLUSTER_2__:11111111\n",
      "1.259037 U-person __BROWN_CLUSTER_2__[+1]=1001011011|__BROWN_CLUSTER_2__=1111010\n",
      "1.258021 U-company __BROWN_CLUSTER_2__:011110\n",
      "1.257739 E-facility _WORDVEC_11\n",
      "1.256823 U-facility __BROWN_CLUSTER_2__=11111101|__BROWN_CLUSTER_2__[-1]=101110\n",
      "1.255843 O        __BROWN_CLUSTER_0__:111101011101\n",
      "1.254848 O        __BROWN_CLUSTER_0__:1110010100\n",
      "1.254037 E-musicartist DICTBCK[-1]=musicartist_names.unique.txt\n",
      "1.249248 U-musicartist isAllCapitalWord\n",
      "1.248768 U-person _WORDVEC_79\n",
      "1.248211 U-person __BROWN_CLUSTER_0__[+1]=1110100|__BROWN_CLUSTER_0__=111001111\n",
      "1.230789 U-other  DICT=all_geonames.txt|DICT=sports.sports_league\n",
      "1.230414 U-geo-loc _WORDVEC_67\n",
      "1.230345 O        __BROWN_CLUSTER_2__:100110101\n",
      "1.224602 U-other  _WORDVEC_73\n",
      "1.222268 U-person __BROWN_CLUSTER_2__[+1]:1001111110\n",
      "1.217008 U-facility _WORDVEC_28\n",
      "1.203858 U-company __BROWN_CLUSTER_0__:111101011000\n",
      "1.201907 U-product __BROWN_CLUSTER_0__:11110101101110\n",
      "1.201186 B-other  __BROWN_CLUSTER_2__[-1]:100110100\n",
      "1.186617 U-product _WORDVEC_164\n",
      "1.184845 U-geo-loc isAllCapitalWord\n",
      "1.183261 O        _WORDVEC_91\n",
      "1.178699 U-person __BROWN_CLUSTER_2__[+1]:10100100\n",
      "1.176789 U-sportsteam __BROWN_CLUSTER_2__[+1]=100000|__BROWN_CLUSTER_2__=100110110\n",
      "1.173862 U-other  __BROWN_CLUSTER_2__[-1]:10001000\n",
      "1.172190 O        isURL\n",
      "1.172102 U-facility __BROWN_CLUSTER_2__[-1]:101110\n",
      "1.170933 O        __CLARK_CLUSTER_1__[-1]=1\n",
      "1.159986 U-geo-loc _WORDVEC_185\n",
      "1.158365 U-company DICT=internet.website\n",
      "1.156636 U-other  __BROWN_CLUSTER_2__[-1]:1001111110\n",
      "1.154150 U-company _WORDVEC_93\n",
      "1.143864 U-person _WORDVEC_155\n",
      "1.141335 O        DICT=lastname.5000|DICT=people.family_name\n",
      "1.137571 U-other  _WORDVEC_7\n",
      "1.136092 U-company DICT=cvg.cvg_developer\n",
      "1.133643 I-other  _WORDVEC_6\n",
      "1.131435 U-product __BROWN_CLUSTER_2__[+1]:100110111\n",
      "1.129933 O        __CLARK_CLUSTER_1__[+1]=28\n",
      "1.126350 I-other  _WORDVEC_173\n",
      "1.123592 U-product __BROWN_CLUSTER_2__[+1]=10001000|__BROWN_CLUSTER_2__=11111010\n",
      "1.119720 U-other  __BROWN_CLUSTER_2__[+1]=1010101|__BROWN_CLUSTER_2__=00\n",
      "1.118890 U-geo-loc __BROWN_CLUSTER_2__[-1]:101110\n",
      "1.117930 U-geo-loc __BROWN_CLUSTER_0__[+1]=10010|__BROWN_CLUSTER_0__=11100110100\n",
      "1.116545 U-company __BROWN_CLUSTER_2__[+1]=100111110|__BROWN_CLUSTER_2__=100110110\n",
      "1.111092 U-geo-loc _WORDVEC_147\n",
      "\n",
      "Top negative:\n",
      "-1.323609 O        __BROWN_CLUSTER_0__:111001100001\n",
      "-1.329838 O        __BROWN_CLUSTER_2__:10110110\n",
      "-1.373993 O        DICT=venture_capital.venture_funded_company\n",
      "-1.377681 O        __BROWN_CLUSTER_2__:00\n",
      "-1.378181 O        __BROWN_CLUSTER_2__[-1]:10001001\n",
      "-1.413890 U-product DICT=musicartist_namevariants.unique.txt\n",
      "-1.633695 O        __BROWN_CLUSTER_0__:11100110101\n",
      "-1.759664 O        __BROWN_CLUSTER_2__=11111010|__BROWN_CLUSTER_2__[-1]=1000111\n",
      "-1.821886 O        __BROWN_CLUSTER_0__:1111010111100\n",
      "-1.949103 O        __BROWN_CLUSTER_0__:111001110\n"
     ]
    }
   ],
   "source": [
    "print(\"Top positive:\")\n",
    "print_state_features(Counter(crf.state_features_).most_common(100))\n",
    "\n",
    "print(\"\\nTop negative:\")\n",
    "print_state_features(Counter(crf.state_features_).most_common()[-10:])"
   ]
  },
  {
   "cell_type": "code",
   "execution_count": 131,
   "metadata": {
    "collapsed": false
   },
   "outputs": [
    {
     "name": "stdout",
     "output_type": "stream",
     "text": [
      "(41, 41)\n"
     ]
    },
    {
     "data": {
      "image/png": "[encoded data removed]",
      "text/plain": [
       "<matplotlib.figure.Figure at 0x7f9d2e981e10>"
      ]
     },
     "metadata": {},
     "output_type": "display_data"
    }
   ],
   "source": [
    "cm = plot_cm(y_test, y_pred, labels=sorted_labels + [\"O\"])"
   ]
  },
  {
   "cell_type": "code",
   "execution_count": 132,
   "metadata": {
    "collapsed": false
   },
   "outputs": [
    {
     "name": "stdout",
     "output_type": "stream",
     "text": [
      "(41, 41)\n"
     ]
    },
    {
     "data": {
      "image/png": "[encoded data removed]",
      "text/plain": [
       "<matplotlib.figure.Figure at 0x7f9debf1fe10>"
      ]
     },
     "metadata": {},
     "output_type": "display_data"
    }
   ],
   "source": [
    "cm = plot_cm(y_test, y_pred, labels=sorted_labels + [\"O\"], axis=0)"
   ]
  },
  {
   "cell_type": "code",
   "execution_count": 133,
   "metadata": {
    "collapsed": false
   },
   "outputs": [
    {
     "name": "stdout",
     "output_type": "stream",
     "text": [
      "Done\n"
     ]
    }
   ],
   "source": [
    "print_sequences(dev_sequences, y_pred, \"dev_wv.crf.bieou.tsv\")"
   ]
  },
  {
   "cell_type": "code",
   "execution_count": 134,
   "metadata": {
    "collapsed": false
   },
   "outputs": [
    {
     "name": "stdout",
     "output_type": "stream",
     "text": [
      "processed 23050 tokens with 937 phrases; found: 734 phrases; correct: 361.\r\n",
      "accuracy:  94.77%; precision:  49.18%; recall:  38.53%; FB1:  43.21\r\n",
      "          company: precision:  40.00%; recall:  25.00%; FB1:  30.77  45\r\n",
      "         facility: precision:  23.53%; recall:  17.39%; FB1:  20.00  34\r\n",
      "          geo-loc: precision:  51.00%; recall:  62.96%; FB1:  56.35  200\r\n",
      "            movie: precision:  28.57%; recall:  11.11%; FB1:  16.00  7\r\n",
      "      musicartist: precision:  41.67%; recall:   8.77%; FB1:  14.49  12\r\n",
      "            other: precision:  28.24%; recall:  20.67%; FB1:  23.87  131\r\n",
      "           person: precision:  66.53%; recall:  65.98%; FB1:  66.26  242\r\n",
      "          product: precision:  21.21%; recall:  15.22%; FB1:  17.72  33\r\n",
      "       sportsteam: precision:  71.43%; recall:  19.05%; FB1:  30.08  28\r\n",
      "           tvshow: precision:  50.00%; recall:  12.50%; FB1:  20.00  2\r\n"
     ]
    }
   ],
   "source": [
    "## FINAL MODEL\n",
    "! cat dev_wv.crf.bieou.tsv | tr '\\t' ' ' | perl -ne '{chomp;s/\\r//g;print $_,\"\\n\";}' | python data/conlleval.py"
   ]
  },
  {
   "cell_type": "code",
   "execution_count": 135,
   "metadata": {
    "collapsed": false
   },
   "outputs": [
    {
     "name": "stdout",
     "output_type": "stream",
     "text": [
      "Done\n"
     ]
    }
   ],
   "source": [
    "print_sequences(dev_sequences, y_pred, \"dev_wv.crf.bieou.notypes.tsv\", notypes=True)"
   ]
  },
  {
   "cell_type": "code",
   "execution_count": 136,
   "metadata": {
    "collapsed": false
   },
   "outputs": [
    {
     "name": "stdout",
     "output_type": "stream",
     "text": [
      "processed 23050 tokens with 937 phrases; found: 727 phrases; correct: 477.\r\n",
      "accuracy:  95.81%; precision:  65.61%; recall:  50.91%; FB1:  57.33\r\n",
      "                 : precision:  65.61%; recall:  50.91%; FB1:  57.33  727\r\n"
     ]
    }
   ],
   "source": [
    "## FINAL MODEL\n",
    "! cat dev_wv.crf.bieou.notypes.tsv | tr '\\t' ' ' | perl -ne '{chomp;s/\\r//g;print $_,\"\\n\";}' | python data/conlleval.py"
   ]
  },
  {
   "cell_type": "markdown",
   "metadata": {},
   "source": [
    "## Run this cell to get the no-types evaluation of the submitted solution\n",
    "\n",
    "\n",
    "```\n",
    "%%bash\n",
    "sed -s 's/\\([BI]\\)\\-[a-z\\-]\\+/\\1/g' dev.crf.bieou.tsv | tr '\\t' ' ' | perl -ne '{chomp;s/\\r//g;print $_,\"\\n\";}' | python data/conlleval.py\n",
    "```"
   ]
  },
  {
   "cell_type": "markdown",
   "metadata": {},
   "source": [
    "## Final Run\n",
    "\n",
    "Paper submission models are stored in `WNUT_NER_2016_IM_models.txt`\n",
    "\n",
    "\n",
    "### SGD + dictionary + word_vec + brown_clusters + clark_clusters + wv_clusters + regex\n",
    "\n",
    "\n",
    "```\n",
    "\n",
    "X_train = [sent2features(s, vocab=None,\n",
    "                         dict_features=dict_features, vocab_presence_only=False,\n",
    "                         window=2, interactions=True, dict_interactions=False,\n",
    "                         lowercase=True, dropout=0, word2vec_model=model_glove,\n",
    "                        cluster_vocabs=[\n",
    "            cluster_vocab,\n",
    "            cluster_vocab_clark,\n",
    "            cluster_vocab_wv\n",
    "        ],\n",
    "              extra_features=get_global_sequence_features(\n",
    "            s, #cluster_vocabs=cluster_vocab, word2vec_model=model_glove,\n",
    "        #predictions=p\n",
    "        ))\n",
    "           for s, p in zip(train_sequences, predictions_train)]\n",
    "\n",
    "\n",
    "processed 23050 tokens with 937 phrases; found: 749 phrases; correct: 354.\n",
    "accuracy:  94.60%; precision:  47.26%; recall:  37.78%; FB1:  41.99\n",
    "          company: precision:  38.00%; recall:  26.39%; FB1:  31.15  50\n",
    "         facility: precision:  20.00%; recall:   8.70%; FB1:  12.12  20\n",
    "          geo-loc: precision:  44.21%; recall:  66.05%; FB1:  52.97  242\n",
    "            movie: precision:  37.50%; recall:  16.67%; FB1:  23.08  8\n",
    "      musicartist: precision:   0.00%; recall:   0.00%; FB1:   0.00  3\n",
    "            other: precision:  27.64%; recall:  18.99%; FB1:  22.52  123\n",
    "           person: precision:  65.59%; recall:  66.39%; FB1:  65.99  247\n",
    "          product: precision:  25.00%; recall:  15.22%; FB1:  18.92  28\n",
    "       sportsteam: precision:  73.91%; recall:  16.19%; FB1:  26.56  23\n",
    "           tvshow: precision:  20.00%; recall:  12.50%; FB1:  15.38  5\n",
    "           \n",
    "           \n",
    "processed 23050 tokens with 937 phrases; found: 741 phrases; correct: 476.\n",
    "accuracy:  95.71%; precision:  64.24%; recall:  50.80%; FB1:  56.73\n",
    "                 : precision:  64.24%; recall:  50.80%; FB1:  56.73  741           \n",
    "```\n",
    "\n",
    "\n",
    "## Best performance\n",
    "\n",
    "### SGD: Brown clusters + Word embeddings (Glove + conditied to text) + Regex + Dict features\n",
    "```\n",
    "processed 23050 tokens with 937 phrases; found: 790 phrases; correct: 374.\n",
    "accuracy:  94.58%; precision:  47.34%; recall:  39.91%; FB1:  43.31\n",
    "          company: precision:  41.07%; recall:  31.94%; FB1:  35.94  56\n",
    "         facility: precision:  27.50%; recall:  23.91%; FB1:  25.58  40\n",
    "          geo-loc: precision:  46.90%; recall:  65.43%; FB1:  54.64  226\n",
    "            movie: precision:   0.00%; recall:   0.00%; FB1:   0.00  8\n",
    "      musicartist: precision:  10.00%; recall:   3.51%; FB1:   5.19  20\n",
    "            other: precision:  53.16%; recall:  23.46%; FB1:  32.56  79\n",
    "           person: precision:  56.34%; recall:  65.57%; FB1:  60.61  284\n",
    "          product: precision:  20.00%; recall:  17.39%; FB1:  18.60  40\n",
    "       sportsteam: precision:  84.00%; recall:  20.00%; FB1:  32.31  25\n",
    "           tvshow: precision:   8.33%; recall:  12.50%; FB1:  10.00  12\n",
    "\n",
    "```\n",
    "\n",
    "### SGD: Brown clusters (+ conditioned on tweets) + Clark clusters (only on tweets) + Word embeddings (Glove + conditied to text) + Regex + Dict features\n",
    "```\n",
    "processed 23050 tokens with 937 phrases; found: 798 phrases; correct: 366.\n",
    "accuracy:  94.25%; precision:  45.86%; recall:  39.06%; FB1:  42.19\n",
    "          company: precision:  35.59%; recall:  29.17%; FB1:  32.06  59\n",
    "         facility: precision:  26.32%; recall:  21.74%; FB1:  23.81  38\n",
    "          geo-loc: precision:  50.74%; recall:  63.58%; FB1:  56.44  203\n",
    "            movie: precision:   0.00%; recall:   0.00%; FB1:   0.00  5\n",
    "      musicartist: precision:   0.00%; recall:   0.00%; FB1:   0.00  8\n",
    "            other: precision:  34.90%; recall:  29.05%; FB1:  31.71  149\n",
    "           person: precision:  58.62%; recall:  62.70%; FB1:  60.59  261\n",
    "          product: precision:  16.67%; recall:  15.22%; FB1:  15.91  42\n",
    "       sportsteam: precision:  64.29%; recall:  17.14%; FB1:  27.07  28\n",
    "           tvshow: precision:  40.00%; recall:  25.00%; FB1:  30.77  5\n",
    "```\n",
    "\n",
    "### SGD: Brown clusters (+ conditioned on tweets) + Word embeddings (Glove + conditied to text) + Regex + Dict features\n",
    "```\n",
    "processed 23050 tokens with 937 phrases; found: 807 phrases; correct: 367.\n",
    "accuracy:  94.15%; precision:  45.48%; recall:  39.17%; FB1:  42.09\n",
    "          company: precision:  38.18%; recall:  29.17%; FB1:  33.07  55\n",
    "         facility: precision:  23.53%; recall:  17.39%; FB1:  20.00  34\n",
    "          geo-loc: precision:  51.76%; recall:  63.58%; FB1:  57.06  199\n",
    "            movie: precision:   0.00%; recall:   0.00%; FB1:   0.00  7\n",
    "      musicartist: precision:   0.00%; recall:   0.00%; FB1:   0.00  8\n",
    "            other: precision:  32.34%; recall:  30.17%; FB1:  31.21  167\n",
    "           person: precision:  59.30%; recall:  62.70%; FB1:  60.96  258\n",
    "          product: precision:  15.56%; recall:  15.22%; FB1:  15.38  45\n",
    "       sportsteam: precision:  65.52%; recall:  18.10%; FB1:  28.36  29\n",
    "           tvshow: precision:  40.00%; recall:  25.00%; FB1:  30.77  5\n",
    "```\n",
    "\n",
    "\n",
    "\n",
    "### SGD: Brown clusters + context words + Word embeddings (Glove + conditied to text) + Regex + Dict features\n",
    "\n",
    "```\n",
    "processed 23050 tokens with 937 phrases; found: 763 phrases; correct: 367.\n",
    "accuracy:  94.53%; precision:  48.10%; recall:  39.17%; FB1:  43.18\n",
    "          company: precision:  47.83%; recall:  30.56%; FB1:  37.29  46\n",
    "         facility: precision:  30.00%; recall:  26.09%; FB1:  27.91  40\n",
    "          geo-loc: precision:  48.17%; recall:  64.81%; FB1:  55.26  218\n",
    "            movie: precision:   0.00%; recall:   0.00%; FB1:   0.00  5\n",
    "      musicartist: precision:   0.00%; recall:   0.00%; FB1:   0.00  10\n",
    "            other: precision:  39.64%; recall:  24.58%; FB1:  30.34  111\n",
    "           person: precision:  60.70%; recall:  63.93%; FB1:  62.28  257\n",
    "          product: precision:  25.00%; recall:  17.39%; FB1:  20.51  32\n",
    "       sportsteam: precision:  60.00%; recall:  17.14%; FB1:  26.67  30\n",
    "           tvshow: precision:  14.29%; recall:  25.00%; FB1:  18.18  14\n",
    "```\n",
    "\n",
    "### second best\n",
    "\n",
    "```\n",
    "processed 23050 tokens with 937 phrases; found: 845 phrases; correct: 337.\n",
    "accuracy:  92.64%; precision:  39.88%; recall:  35.97%; FB1:  37.82\n",
    "          company: precision:  48.89%; recall:  30.56%; FB1:  37.61  45\n",
    "         facility: precision:  17.50%; recall:  15.22%; FB1:  16.28  40\n",
    "          geo-loc: precision:  50.52%; recall:  60.49%; FB1:  55.06  194\n",
    "            movie: precision:   0.00%; recall:   0.00%; FB1:   0.00  9\n",
    "      musicartist: precision:   0.00%; recall:   0.00%; FB1:   0.00  13\n",
    "            other: precision:  15.10%; recall:  20.67%; FB1:  17.45  245\n",
    "           person: precision:  65.47%; recall:  59.84%; FB1:  62.53  223\n",
    "          product: precision:  22.22%; recall:  17.39%; FB1:  19.51  36\n",
    "       sportsteam: precision:  65.52%; recall:  18.10%; FB1:  28.36  29\n",
    "           tvshow: precision:   0.00%; recall:   0.00%; FB1:   0.00  11\n",
    "```\n",
    "\n",
    "### LBFGS - only brown clusters + wordvec + regex + dict\n",
    "\n",
    "```\n",
    "processed 23050 tokens with 937 phrases; found: 972 phrases; correct: 348.\n",
    "accuracy:  93.26%; precision:  35.80%; recall:  37.14%; FB1:  36.46\n",
    "          company: precision:  28.95%; recall:  30.56%; FB1:  29.73  76\n",
    "         facility: precision:  19.64%; recall:  23.91%; FB1:  21.57  56\n",
    "          geo-loc: precision:  40.48%; recall:  62.96%; FB1:  49.28  252\n",
    "            movie: precision:   0.00%; recall:   0.00%; FB1:   0.00  12\n",
    "      musicartist: precision:   0.00%; recall:   0.00%; FB1:   0.00  21\n",
    "            other: precision:  25.00%; recall:  25.14%; FB1:  25.07  180\n",
    "           person: precision:  54.55%; recall:  56.56%; FB1:  55.53  253\n",
    "          product: precision:  11.11%; recall:  15.22%; FB1:  12.84  63\n",
    "       sportsteam: precision:  43.48%; recall:  19.05%; FB1:  26.49  46\n",
    "           tvshow: precision:  23.08%; recall:  37.50%; FB1:  28.57  13\n",
    "```\n"
   ]
  },
  {
   "cell_type": "code",
   "execution_count": null,
   "metadata": {
    "collapsed": true
   },
   "outputs": [],
   "source": []
  }
 ],
 "metadata": {
  "kernelspec": {
   "display_name": "Python 2",
   "language": "python",
   "name": "python2"
  },
  "language_info": {
   "codemirror_mode": {
    "name": "ipython",
    "version": 2
   },
   "file_extension": ".py",
   "mimetype": "text/x-python",
   "name": "python",
   "nbconvert_exporter": "python",
   "pygments_lexer": "ipython2",
   "version": "2.7.12"
  }
 },
 "nbformat": 4,
 "nbformat_minor": 1
}
