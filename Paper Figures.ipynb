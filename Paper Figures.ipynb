{
 "cells": [
  {
   "cell_type": "code",
   "execution_count": 1,
   "metadata": {
    "collapsed": true
   },
   "outputs": [],
   "source": [
    "%matplotlib inline\n",
    "import numpy as np\n",
    "import pandas as pd\n",
    "\n",
    "import matplotlib.pyplot as plt\n",
    "import seaborn as sns\n",
    "sns.set_context(\"poster\")\n",
    "sns.set_style(\"ticks\")\n",
    "\n",
    "from itertools import chain\n",
    "\n",
    "from sklearn.metrics import make_scorer\n",
    "from sklearn.cross_validation import cross_val_score\n",
    "from sklearn.grid_search import RandomizedSearchCV\n",
    "\n",
    "import sklearn_crfsuite\n",
    "from sklearn_crfsuite import scorers\n",
    "from sklearn_crfsuite import metrics\n",
    "from sklearn.cross_validation import cross_val_score\n",
    "from sklearn.grid_search import RandomizedSearchCV\n",
    "\n",
    "import regex as re\n",
    "from collections import namedtuple, defaultdict, Counter, OrderedDict\n",
    "from IPython.display import display\n",
    "from joblib import load, dump, Parallel, delayed\n",
    "\n",
    "import os, string, sys\n",
    "\n",
    "from gensim.models import word2vec"
   ]
  },
  {
   "cell_type": "code",
   "execution_count": 2,
   "metadata": {
    "collapsed": true
   },
   "outputs": [],
   "source": [
    "class RegexFeatures(object):\n",
    "    PATTERNS = {\n",
    "        \"isInitCapitalWord\": re.compile(r'^[A-Z][a-z]+'),\n",
    "        \"isAllCapitalWord\": re.compile(r'^[A-Z][A-Z]+$'),\n",
    "        \"isAllSmallCase\": re.compile(r'^[a-z]+$'),\n",
    "        \"isWord\": re.compile(r'^[a-zA-Z][a-zA-Z]+$'),\n",
    "        \"isAlphaNumeric\": re.compile(r'^\\p{Alnum}+$'),\n",
    "        \"isSingleCapLetter\": re.compile(r'^[A-Z]$'),\n",
    "        \"containsDashes\": re.compile(r'.*--.*'),\n",
    "        \"containsDash\": re.compile(r'.*\\-.*'),\n",
    "        \"singlePunctuation\": re.compile(r'^\\p{Punct}$'),\n",
    "        \"repeatedPunctuation\": re.compile(r'^[\\.\\,!\\?\"\\':;_\\-]{2,}$'),\n",
    "        \"singleDot\": re.compile(r'[.]'),\n",
    "        \"singleComma\": re.compile(r'[,]'),\n",
    "        \"singleQuote\": re.compile(r'[\\']'),\n",
    "        \"isSpecialCharacter\": re.compile(r'^[#;:\\-/<>\\'\\\"()&]$'),\n",
    "        \"fourDigits\": re.compile(r'^\\d\\d\\d\\d$'),\n",
    "        \"isDigits\": re.compile(r'^\\d+$'),\n",
    "        \"isNumber\": re.compile(r'^((\\p{N}{,2}([,]?\\p{N}{3})+)(\\.\\p{N}+)?)$'),\n",
    "        \"containsDigit\": re.compile(r'.*\\d+.*'),\n",
    "        \"endsWithDot\": re.compile(r'\\p{Alnum}+\\.$'),\n",
    "        \"isURL\": re.compile(r'^http[s]?://'),\n",
    "        \"isMention\": re.compile(r'^(RT)?@\\p{Alnum}+$'),\n",
    "        \"isHashtag\": re.compile(r'^#\\p{Alnum}+$'),\n",
    "        \"isMoney\": re.compile(r'^\\$((\\p{N}{,2}([,]?\\p{N}{3})+)(\\.\\p{N}+)?)$'),\n",
    "    }\n",
    "    def __init__(self):\n",
    "        print \"Initialized RegexFeature\"\n",
    "    @staticmethod\n",
    "    def process(word):\n",
    "        features = dict()\n",
    "        for k, p in RegexFeatures.PATTERNS.iteritems():\n",
    "            if p.match(word):\n",
    "                features[k] = True\n",
    "        return features\n",
    "    \n",
    "    \n",
    "def classification_report_to_df(report):\n",
    "    report_list = []\n",
    "    for i, line in enumerate(report.split(\"\\n\")):\n",
    "        if i == 0:\n",
    "            report_list.append([\"class\", \"precision\", \"recall\", \"f1-score\", \"support\"])\n",
    "        else:\n",
    "            line = line.strip()\n",
    "            if line:\n",
    "                if line.startswith(\"avg\"):\n",
    "                    line = line.replace(\"avg / total\", \"avg/total\")\n",
    "                line = re.split(r'\\s+', line)\n",
    "                report_list.append(tuple(line))\n",
    "    return pd.DataFrame(report_list[1:], columns=report_list[0])\n",
    "\n",
    "\n",
    "DATA_DIR=\"data/data/\"\n",
    "CLEANED_DIR=\"data/cleaned/\"\n",
    "\n",
    "Tag = namedtuple(\"Tag\", [\"token\", \"tag\"])\n",
    "\n",
    "def load_sequences(filename, sep=\"\\t\", notypes=False, test_data=False):\n",
    "    sequences = []\n",
    "    with open(filename) as fp:\n",
    "        seq = []\n",
    "        for line in fp:\n",
    "            line = line.strip()\n",
    "            if line:\n",
    "                line = line.split(sep)\n",
    "                if test_data:\n",
    "                    assert len(line) == 1\n",
    "                    line.append(\"?\")\n",
    "                if notypes:\n",
    "                    line[1] = line[1][0]\n",
    "                seq.append(Tag(*line))\n",
    "            else:\n",
    "                sequences.append(seq)\n",
    "                seq = []\n",
    "        if seq:\n",
    "            sequences.append(seq)\n",
    "    return sequences\n",
    "\n",
    "\n",
    "def load_vocab(filename):\n",
    "    vocab = set()\n",
    "    with open(filename) as fp:\n",
    "        for line in fp:\n",
    "            line = line.strip()\n",
    "            vocab.add(line)\n",
    "    return vocab      \n",
    "\n",
    "    \n",
    "def print_transitions(trans_features):\n",
    "    for (label_from, label_to), weight in trans_features:\n",
    "        print(\"%-6s -> %-7s %0.6f\" % (label_from, label_to, weight))\n",
    "        \n",
    "def print_state_features(state_features):\n",
    "    for (attr, label), weight in state_features:\n",
    "        print(\"%0.6f %-8s %s\" % (weight, label, attr)) \n",
    "        \n",
    "        \n",
    "def plot_cm(y_test, y_pred, labels=[]):\n",
    "    labels_s = dict((k,i) for i,k in enumerate(labels))\n",
    "    cm = np.zeros((len(labels), len(labels)))\n",
    "    for i,j in zip(sum(y_test, []), sum(y_pred, [])):\n",
    "        i = labels_s[i]\n",
    "        j = labels_s[j]\n",
    "        cm[i,j] += 1\n",
    "    with plt.rc_context(rc={'xtick.labelsize': 12, 'ytick.labelsize': 12,\n",
    "                       'figure.figsize': (16,14)}):\n",
    "        sns.heatmap(cm * 100/ cm.sum(axis=1, keepdims=True),\n",
    "                    #cmap=sns.cubehelix_palette(n_colors=100, rot=-.4, as_cmap=True),\n",
    "                    cmap=\"Greys_r\",\n",
    "                    xticklabels=labels,\n",
    "                    yticklabels=labels)\n",
    "        plt.ylabel(\"True labels\")\n",
    "        plt.xlabel(\"Predicted labels\")\n",
    "    print cm.shape\n",
    "    return cm\n",
    "\n",
    "\n",
    "def print_sequences(sequences, predictions, filename, test_data=False):\n",
    "    with open(filename, \"wb+\") as fp:\n",
    "        for seq, pred in zip(sequences, predictions):\n",
    "            for t, p in zip(seq, pred):\n",
    "                token, tag = t\n",
    "                if tag[0] == \"U\":\n",
    "                    tag = \"B%s\" % tag[1:]\n",
    "                if tag[0] == \"E\":\n",
    "                    tag = \"I%s\" % tag[1:]\n",
    "                if p[0] == \"U\":\n",
    "                    p = \"B%s\" % p[1:]\n",
    "                if p[0] == \"E\":\n",
    "                    p = \"I%s\" % p[1:]\n",
    "                if test_data:\n",
    "                    line = \"\\t\".join((token, p))\n",
    "                else:\n",
    "                    line = \"\\t\".join((token, tag, p))\n",
    "                print >> fp, line\n",
    "            print >> fp, \"\"\n",
    "    print \"Done\""
   ]
  },
  {
   "cell_type": "code",
   "execution_count": 3,
   "metadata": {
    "collapsed": true
   },
   "outputs": [],
   "source": [
    "WORD_SPLITTER = re.compile(r'[\\p{Punct}\\s]+')\n",
    "class DictionaryFeatures:\n",
    "    def __init__(self, dictDir):\n",
    "        self.word2dictionaries = {}\n",
    "        self.word2hashtagdictionaries = {}\n",
    "        self.dictionaries = []\n",
    "        i = 0\n",
    "        for d in os.listdir(dictDir):\n",
    "            print >> sys.stderr, \"read dict %s\"%d\n",
    "            self.dictionaries.append(d)\n",
    "            if d == '.svn':\n",
    "                continue\n",
    "            for line in open(dictDir + \"/\" + d):\n",
    "                word = line.rstrip('\\n')\n",
    "                word = word.strip(' ').lower()\n",
    "                word_hashtag = \"\".join(WORD_SPLITTER.split(word))\n",
    "                if not self.word2dictionaries.has_key(word):\n",
    "                    self.word2dictionaries[word] = str(i)\n",
    "                else:   \n",
    "                    self.word2dictionaries[word] += \"\\t%s\" % i\n",
    "                if not self.word2hashtagdictionaries.has_key(word_hashtag):\n",
    "                    self.word2hashtagdictionaries[word_hashtag] = str(i)\n",
    "                else:\n",
    "                    self.word2hashtagdictionaries[word_hashtag] += \"\\t%s\" % i\n",
    "            i += 1\n",
    "    \n",
    "    MAX_WINDOW_SIZE=6\n",
    "    def GetDictFeatures(self, words, i):\n",
    "        features = []\n",
    "        for window in range(1,self.MAX_WINDOW_SIZE):\n",
    "            start=max(i-window+1, 0)\n",
    "            end = start + window\n",
    "            phrase = ' '.join(words[start:end]).lower().strip(string.punctuation)\n",
    "            if self.word2dictionaries.has_key(phrase):\n",
    "                for j in self.word2dictionaries[phrase].split('\\t'):\n",
    "                    features.append('DICT=%s' % self.dictionaries[int(j)])\n",
    "                if window > 1:\n",
    "                    features.append('DICTWIN=%s' % window)\n",
    "        return list(set(features))\n",
    "    \n",
    "    def GetHashtagDictFeatures(self, word):\n",
    "        features = []\n",
    "        if len(word) < 2 or word[0] != \"#\":\n",
    "            return features\n",
    "        word = word[1:].lower().strip(string.punctuation)\n",
    "        if self.word2hashtagdictionaries.has_key(word):\n",
    "            for j in self.word2hashtagdictionaries[word].split('\\t'):\n",
    "                features.append('DICT_HASHTAG=%s' % self.dictionaries[int(j)])\n",
    "        return list(set(features))\n"
   ]
  },
  {
   "cell_type": "code",
   "execution_count": 4,
   "metadata": {
    "collapsed": false
   },
   "outputs": [
    {
     "name": "stdout",
     "output_type": "stream",
     "text": [
      "8023\n"
     ]
    }
   ],
   "source": [
    "train_sequences = load_sequences(\"data/cleaned/train.BIEOU.tsv\", sep=\"\\t\", notypes=False)\n",
    "dev_sequences = (load_sequences(\"data/cleaned/dev.BIEOU.tsv\", sep=\"\\t\", notypes=False) \n",
    "                 + load_sequences(\"data/cleaned/dev_2015.BIEOU.tsv\", sep=\"\\t\", notypes=False))\n",
    "\n",
    "vocab = load_vocab(\"vocab.no_extras.txt\")\n",
    "print len(vocab)"
   ]
  },
  {
   "cell_type": "code",
   "execution_count": 5,
   "metadata": {
    "collapsed": false
   },
   "outputs": [
    {
     "name": "stdout",
     "output_type": "stream",
     "text": [
      "{'product': 6, 'facility': 5, 'movie': 8, 'company': 3, 'sportsteam': 4, 'musicartist': 7, 'person': 0, 'other': 2, 'geo-loc': 1, 'tvshow': 9}\n",
      "Counter({'person': 693, 'geo-loc': 439, 'other': 404, 'company': 243, 'sportsteam': 156, 'facility': 151, 'product': 144, 'musicartist': 112, 'movie': 52, 'tvshow': 42})\n"
     ]
    },
    {
     "data": {
      "image/png": "[encoded data removed]",
      "text/plain": [
       "<matplotlib.figure.Figure at 0x7fd96c3662d0>"
      ]
     },
     "metadata": {},
     "output_type": "display_data"
    }
   ],
   "source": [
    "label_co_occurences = [[t[1][2:] for t in seq if t[1][0] in [\"B\", \"U\"]] for seq in (train_sequences+dev_sequences)]\n",
    "\n",
    "cat_types = Counter(t for seq in label_co_occurences for t in seq)\n",
    "cat_ids = {k[0]: i for i, k in enumerate(cat_types.most_common())}\n",
    "cat_names = [k[0] for k in cat_types.most_common()]\n",
    "print cat_ids\n",
    "print cat_types\n",
    "co_occur_matrix = np.zeros((len(cat_ids), len(cat_ids)))\n",
    "for seq in label_co_occurences:\n",
    "    for i, t in enumerate(seq):\n",
    "        for j, t1 in enumerate(seq):\n",
    "            if i != j:\n",
    "                co_occur_matrix[cat_ids[t], cat_ids[t1]] += 1\n",
    "for k,i in cat_ids.iteritems():\n",
    "    co_occur_matrix[cat_ids[k]] /= co_occur_matrix[cat_ids[k]].sum()\n",
    "    \n",
    "#print co_occur_matrix\n",
    "    \n",
    "with plt.rc_context(rc={'xtick.labelsize': 10, 'ytick.labelsize': 10,\n",
    "                        'font.size': 8,\n",
    "                       'figure.figsize': (8,6)}):\n",
    "    sns.heatmap(co_occur_matrix, xticklabels=cat_names, yticklabels=cat_names, annot=True, cmap=\"Greys\")"
   ]
  },
  {
   "cell_type": "code",
   "execution_count": 6,
   "metadata": {
    "collapsed": false
   },
   "outputs": [
    {
     "name": "stdout",
     "output_type": "stream",
     "text": [
      "['person', 'geo-loc', 'other', 'company', 'facility', 'product', 'musicartist', 'sportsteam', 'movie', 'tvshow']\n",
      "Training sequences: 2394\n",
      "Development sequences: 1420\n"
     ]
    },
    {
     "data": {
      "text/plain": [
       "training    1499\n",
       "dev          937\n",
       "Name: data, dtype: int64"
      ]
     },
     "execution_count": 6,
     "metadata": {},
     "output_type": "execute_result"
    },
    {
     "data": {
      "image/png": "[encoded data removed]",
      "text/plain": [
       "<matplotlib.figure.Figure at 0x7fd96c366190>"
      ]
     },
     "metadata": {},
     "output_type": "display_data"
    }
   ],
   "source": [
    "phrase_types_training = [(t[1][2:], \"training\") for seq in (train_sequences) for t in seq if t[1][0] in [\"B\", \"U\"]]\n",
    "phrase_types_dev = [(t[1][2:], \"dev\") for seq in (dev_sequences) for t in seq if t[1][0] in [\"B\", \"U\"]]\n",
    "df_t = pd.DataFrame(phrase_types_training+phrase_types_dev, columns=[\"phrase_type\", \"data\"])\n",
    "cat_names = [k[0] for k,v in Counter(phrase_types_training).most_common()]\n",
    "print cat_names\n",
    "with plt.rc_context(rc={'xtick.labelsize': 10, 'ytick.labelsize': 10,\n",
    "                        'font.size': 10,\n",
    "                       'figure.figsize': (10,8)}):\n",
    "    ax = sns.countplot(x=\"phrase_type\", hue=\"data\", data=df_t, palette=[\"0.2\", \"0.5\"], order=cat_names)\n",
    "    plt.xlabel(\"Entity Types\")\n",
    "    plt.ylabel(\"Frequency\")\n",
    "    plt.margins(0.01)\n",
    "    sns.despine(offset=2)\n",
    "    for p in ax.patches:\n",
    "        height = p.get_height()\n",
    "        ax.text(p.get_x(), height+3, '%.0f'%(height))\n",
    "        \n",
    "print \"Training sequences: {}\".format(len(train_sequences))\n",
    "print \"Development sequences: {}\".format(len(dev_sequences))\n",
    "df_t.data.value_counts()"
   ]
  },
  {
   "cell_type": "code",
   "execution_count": 7,
   "metadata": {
    "collapsed": false
   },
   "outputs": [
    {
     "name": "stdout",
     "output_type": "stream",
     "text": [
      "Training lengths: 19.4 +/- 7.6\n",
      "Development lengths: 16.2 +/- 6.8\n"
     ]
    }
   ],
   "source": [
    "train_lens = [len(seq) for seq in train_sequences]\n",
    "dev_lens = [len(seq) for seq in dev_sequences]\n",
    "print \"Training lengths: {0:.1f} +/- {1:.1f}\".format(np.mean(train_lens),\n",
    "                                                   np.std(train_lens))\n",
    "print \"Development lengths: {0:.1f} +/- {1:.1f}\".format(np.mean(dev_lens),\n",
    "                                                   np.std(dev_lens))"
   ]
  },
  {
   "cell_type": "code",
   "execution_count": 8,
   "metadata": {
    "collapsed": false
   },
   "outputs": [
    {
     "name": "stdout",
     "output_type": "stream",
     "text": [
      "Training phrase counts: 0 - 6\n",
      "Development phrase counts: 0 - 9\n"
     ]
    }
   ],
   "source": [
    "train_phrase_counts = [len([t[1][2:] for t in seq if t[1][0] in [\"B\", \"U\"]])\n",
    "                       for seq in (train_sequences)]\n",
    "dev_phrase_counts = [len([t[1][2:] for t in seq if t[1][0] in [\"B\", \"U\"]])\n",
    "                       for seq in (dev_sequences)]\n",
    "\n",
    "print \"Training phrase counts: {} - {}\".format(\n",
    "    np.min(train_phrase_counts), np.max(train_phrase_counts))\n",
    "print \"Development phrase counts: {} - {}\".format(\n",
    "    np.min(dev_phrase_counts), np.max(dev_phrase_counts))"
   ]
  },
  {
   "cell_type": "code",
   "execution_count": 9,
   "metadata": {
    "collapsed": false
   },
   "outputs": [
    {
     "data": {
      "text/plain": [
       "<matplotlib.legend.Legend at 0x7fd9740ef350>"
      ]
     },
     "execution_count": 9,
     "metadata": {},
     "output_type": "execute_result"
    },
    {
     "data": {
      "image/png": "[encoded data removed]",
      "text/plain": [
       "<matplotlib.figure.Figure at 0x7fd934094590>"
      ]
     },
     "metadata": {},
     "output_type": "display_data"
    }
   ],
   "source": [
    "plt.hist(train_phrase_counts, bins=range(10), color=\"0.5\", alpha=0.5, label=\"training\")\n",
    "plt.hist(dev_phrase_counts, bins=range(10), color=\"red\", alpha=0.5, label=\"dev\")\n",
    "plt.legend()"
   ]
  },
  {
   "cell_type": "code",
   "execution_count": 10,
   "metadata": {
    "collapsed": false
   },
   "outputs": [
    {
     "data": {
      "text/plain": [
       "445"
      ]
     },
     "execution_count": 10,
     "metadata": {},
     "output_type": "execute_result"
    }
   ],
   "source": [
    "train_phrase_counts.index(6)"
   ]
  },
  {
   "cell_type": "code",
   "execution_count": 11,
   "metadata": {
    "collapsed": false
   },
   "outputs": [
    {
     "data": {
      "text/plain": [
       "[Tag(token='Yahoo', tag='U-company'),\n",
       " Tag(token=':', tag='O'),\n",
       " Tag(token='Jackie', tag='U-person'),\n",
       " Tag(token='joins', tag='O'),\n",
       " Tag(token='Twitter', tag='U-company'),\n",
       " Tag(token='50', tag='O'),\n",
       " Tag(token='years', tag='O'),\n",
       " Tag(token='after', tag='O'),\n",
       " Tag(token='JFK', tag='U-person'),\n",
       " Tag(token='campaign', tag='O'),\n",
       " Tag(token=':', tag='O'),\n",
       " Tag(token='Had', tag='O'),\n",
       " Tag(token='Twitter', tag='U-company'),\n",
       " Tag(token='been', tag='O'),\n",
       " Tag(token='an', tag='O'),\n",
       " Tag(token='option', tag='O'),\n",
       " Tag(token='in', tag='O'),\n",
       " Tag(token='1960', tag='O'),\n",
       " Tag(token=',', tag='O'),\n",
       " Tag(token='a', tag='O'),\n",
       " Tag(token='pregnant', tag='O'),\n",
       " Tag(token='Jacquelin', tag='U-person'),\n",
       " Tag(token='...', tag='O'),\n",
       " Tag(token='http://yhoo.it/9VAD4A', tag='O')]"
      ]
     },
     "execution_count": 11,
     "metadata": {},
     "output_type": "execute_result"
    }
   ],
   "source": [
    "train_sequences[445]"
   ]
  },
  {
   "cell_type": "code",
   "execution_count": 19,
   "metadata": {
    "collapsed": true
   },
   "outputs": [],
   "source": [
    "data = \"\"\"F\tMF\t+GZ\t+WRG\t+WCBPT\t+WCCC\t+WRFTC\t+GF\t+RSFD\tST\tBL\n",
    "10-types\t5.32\t34.8\t36.66\t41.59\t41.04\t43.3\t40.94\t\t36.22\t35.1\n",
    "company\t0\t30\t34.53\t33.33\t35.2\t33.33\t32\t\t27.72\t26.17\n",
    "facility\t0\t12.35\t9.62\t20.78\t18.56\t17.91\t14.49\t\t30.38\t19.15\n",
    "geo-loc\t5.24\t47.21\t48.06\t53.83\t54.4\t55.93\t56.73\t\t49.71\t48.36\n",
    "movie\t8\t7.41\t6.45\t8.33\t7.69\t9.52\t23.53\t\t8.33\t0\n",
    "musicartist\t0\t6.56\t8.45\t9.09\t9.52\t12.7\t6.45\t\t0\t0\n",
    "other\t5.79\t18.56\t18.69\t22.54\t20.85\t26.63\t22.11\t\t24.16\t27.74\n",
    "person\t11.37\t55.07\t58.51\t63.39\t63.81\t64.82\t64.96\t\t53.36\t50.18\n",
    "product\t2.92\t12.66\t20\t16.67\t18.18\t15.38\t10.75\t\t8.96\t11.9\n",
    "sportsteam\t0\t12.9\t27.94\t30.53\t29.01\t28.13\t27.69\t\t12.8\t13.11\n",
    "tvshow\t0\t0\t0\t16.67\t16.67\t16.67\t18.18\t\t0\t14.29\n",
    "No-types\t13.13\t48.31\t52.51\t56.73\t56.41\t57.38\t53.67\t\t50.53\t51.71\"\"\""
   ]
  },
  {
   "cell_type": "code",
   "execution_count": 50,
   "metadata": {
    "collapsed": false
   },
   "outputs": [
    {
     "data": {
      "text/plain": [
       "RangeIndex(start=0, stop=11, step=1)"
      ]
     },
     "execution_count": 50,
     "metadata": {},
     "output_type": "execute_result"
    }
   ],
   "source": [
    "df_t = pd.DataFrame([[t.strip() for t in line.split(\"\\t\")] for line in data.split(\"\\n\")[1:]])\n",
    "#df_t.columns = data.split(\"\\n\")[0].split()\n",
    "df_t.columns"
   ]
  },
  {
   "cell_type": "code",
   "execution_count": 51,
   "metadata": {
    "collapsed": false
   },
   "outputs": [
    {
     "data": {
      "text/plain": [
       "11"
      ]
     },
     "execution_count": 51,
     "metadata": {},
     "output_type": "execute_result"
    }
   ],
   "source": [
    "len(data.split(\"\\n\")[0].split(\"\\t\"))"
   ]
  },
  {
   "cell_type": "code",
   "execution_count": 52,
   "metadata": {
    "collapsed": false
   },
   "outputs": [
    {
     "data": {
      "text/plain": [
       "(12, 11)"
      ]
     },
     "execution_count": 52,
     "metadata": {},
     "output_type": "execute_result"
    }
   ],
   "source": [
    "df_t.shape"
   ]
  },
  {
   "cell_type": "code",
   "execution_count": 53,
   "metadata": {
    "collapsed": false
   },
   "outputs": [
    {
     "data": {
      "text/html": [
       "<div>\n",
       "<table border=\"1\" class=\"dataframe\">\n",
       "  <thead>\n",
       "    <tr style=\"text-align: right;\">\n",
       "      <th></th>\n",
       "      <th>F</th>\n",
       "      <th>MF</th>\n",
       "      <th>+GZ</th>\n",
       "      <th>+WRG</th>\n",
       "      <th>+WCBPT</th>\n",
       "      <th>+WCCC</th>\n",
       "      <th>+WRFTC</th>\n",
       "      <th>+GF</th>\n",
       "      <th>+RSFD</th>\n",
       "      <th>ST</th>\n",
       "      <th>BL</th>\n",
       "    </tr>\n",
       "  </thead>\n",
       "  <tbody>\n",
       "    <tr>\n",
       "      <th>0</th>\n",
       "      <td>10-types</td>\n",
       "      <td>5.32</td>\n",
       "      <td>34.8</td>\n",
       "      <td>36.66</td>\n",
       "      <td>41.59</td>\n",
       "      <td>41.04</td>\n",
       "      <td>43.3</td>\n",
       "      <td>40.94</td>\n",
       "      <td></td>\n",
       "      <td>36.22</td>\n",
       "      <td>35.1</td>\n",
       "    </tr>\n",
       "    <tr>\n",
       "      <th>1</th>\n",
       "      <td>company</td>\n",
       "      <td>0</td>\n",
       "      <td>30</td>\n",
       "      <td>34.53</td>\n",
       "      <td>33.33</td>\n",
       "      <td>35.2</td>\n",
       "      <td>33.33</td>\n",
       "      <td>32</td>\n",
       "      <td></td>\n",
       "      <td>27.72</td>\n",
       "      <td>26.17</td>\n",
       "    </tr>\n",
       "    <tr>\n",
       "      <th>2</th>\n",
       "      <td>facility</td>\n",
       "      <td>0</td>\n",
       "      <td>12.35</td>\n",
       "      <td>9.62</td>\n",
       "      <td>20.78</td>\n",
       "      <td>18.56</td>\n",
       "      <td>17.91</td>\n",
       "      <td>14.49</td>\n",
       "      <td></td>\n",
       "      <td>30.38</td>\n",
       "      <td>19.15</td>\n",
       "    </tr>\n",
       "    <tr>\n",
       "      <th>3</th>\n",
       "      <td>geo-loc</td>\n",
       "      <td>5.24</td>\n",
       "      <td>47.21</td>\n",
       "      <td>48.06</td>\n",
       "      <td>53.83</td>\n",
       "      <td>54.4</td>\n",
       "      <td>55.93</td>\n",
       "      <td>56.73</td>\n",
       "      <td></td>\n",
       "      <td>49.71</td>\n",
       "      <td>48.36</td>\n",
       "    </tr>\n",
       "    <tr>\n",
       "      <th>4</th>\n",
       "      <td>movie</td>\n",
       "      <td>8</td>\n",
       "      <td>7.41</td>\n",
       "      <td>6.45</td>\n",
       "      <td>8.33</td>\n",
       "      <td>7.69</td>\n",
       "      <td>9.52</td>\n",
       "      <td>23.53</td>\n",
       "      <td></td>\n",
       "      <td>8.33</td>\n",
       "      <td>0</td>\n",
       "    </tr>\n",
       "    <tr>\n",
       "      <th>5</th>\n",
       "      <td>musicartist</td>\n",
       "      <td>0</td>\n",
       "      <td>6.56</td>\n",
       "      <td>8.45</td>\n",
       "      <td>9.09</td>\n",
       "      <td>9.52</td>\n",
       "      <td>12.7</td>\n",
       "      <td>6.45</td>\n",
       "      <td></td>\n",
       "      <td>0</td>\n",
       "      <td>0</td>\n",
       "    </tr>\n",
       "    <tr>\n",
       "      <th>6</th>\n",
       "      <td>other</td>\n",
       "      <td>5.79</td>\n",
       "      <td>18.56</td>\n",
       "      <td>18.69</td>\n",
       "      <td>22.54</td>\n",
       "      <td>20.85</td>\n",
       "      <td>26.63</td>\n",
       "      <td>22.11</td>\n",
       "      <td></td>\n",
       "      <td>24.16</td>\n",
       "      <td>27.74</td>\n",
       "    </tr>\n",
       "    <tr>\n",
       "      <th>7</th>\n",
       "      <td>person</td>\n",
       "      <td>11.37</td>\n",
       "      <td>55.07</td>\n",
       "      <td>58.51</td>\n",
       "      <td>63.39</td>\n",
       "      <td>63.81</td>\n",
       "      <td>64.82</td>\n",
       "      <td>64.96</td>\n",
       "      <td></td>\n",
       "      <td>53.36</td>\n",
       "      <td>50.18</td>\n",
       "    </tr>\n",
       "    <tr>\n",
       "      <th>8</th>\n",
       "      <td>product</td>\n",
       "      <td>2.92</td>\n",
       "      <td>12.66</td>\n",
       "      <td>20</td>\n",
       "      <td>16.67</td>\n",
       "      <td>18.18</td>\n",
       "      <td>15.38</td>\n",
       "      <td>10.75</td>\n",
       "      <td></td>\n",
       "      <td>8.96</td>\n",
       "      <td>11.9</td>\n",
       "    </tr>\n",
       "    <tr>\n",
       "      <th>9</th>\n",
       "      <td>sportsteam</td>\n",
       "      <td>0</td>\n",
       "      <td>12.9</td>\n",
       "      <td>27.94</td>\n",
       "      <td>30.53</td>\n",
       "      <td>29.01</td>\n",
       "      <td>28.13</td>\n",
       "      <td>27.69</td>\n",
       "      <td></td>\n",
       "      <td>12.8</td>\n",
       "      <td>13.11</td>\n",
       "    </tr>\n",
       "    <tr>\n",
       "      <th>10</th>\n",
       "      <td>tvshow</td>\n",
       "      <td>0</td>\n",
       "      <td>0</td>\n",
       "      <td>0</td>\n",
       "      <td>16.67</td>\n",
       "      <td>16.67</td>\n",
       "      <td>16.67</td>\n",
       "      <td>18.18</td>\n",
       "      <td></td>\n",
       "      <td>0</td>\n",
       "      <td>14.29</td>\n",
       "    </tr>\n",
       "    <tr>\n",
       "      <th>11</th>\n",
       "      <td>No-types</td>\n",
       "      <td>13.13</td>\n",
       "      <td>48.31</td>\n",
       "      <td>52.51</td>\n",
       "      <td>56.73</td>\n",
       "      <td>56.41</td>\n",
       "      <td>57.38</td>\n",
       "      <td>53.67</td>\n",
       "      <td></td>\n",
       "      <td>50.53</td>\n",
       "      <td>51.71</td>\n",
       "    </tr>\n",
       "  </tbody>\n",
       "</table>\n",
       "</div>"
      ],
      "text/plain": [
       "              F     MF    +GZ   +WRG +WCBPT  +WCCC +WRFTC    +GF +RSFD     ST  \\\n",
       "0      10-types   5.32   34.8  36.66  41.59  41.04   43.3  40.94        36.22   \n",
       "1       company      0     30  34.53  33.33   35.2  33.33     32        27.72   \n",
       "2      facility      0  12.35   9.62  20.78  18.56  17.91  14.49        30.38   \n",
       "3       geo-loc   5.24  47.21  48.06  53.83   54.4  55.93  56.73        49.71   \n",
       "4         movie      8   7.41   6.45   8.33   7.69   9.52  23.53         8.33   \n",
       "5   musicartist      0   6.56   8.45   9.09   9.52   12.7   6.45            0   \n",
       "6         other   5.79  18.56  18.69  22.54  20.85  26.63  22.11        24.16   \n",
       "7        person  11.37  55.07  58.51  63.39  63.81  64.82  64.96        53.36   \n",
       "8       product   2.92  12.66     20  16.67  18.18  15.38  10.75         8.96   \n",
       "9    sportsteam      0   12.9  27.94  30.53  29.01  28.13  27.69         12.8   \n",
       "10       tvshow      0      0      0  16.67  16.67  16.67  18.18            0   \n",
       "11     No-types  13.13  48.31  52.51  56.73  56.41  57.38  53.67        50.53   \n",
       "\n",
       "       BL  \n",
       "0    35.1  \n",
       "1   26.17  \n",
       "2   19.15  \n",
       "3   48.36  \n",
       "4       0  \n",
       "5       0  \n",
       "6   27.74  \n",
       "7   50.18  \n",
       "8    11.9  \n",
       "9   13.11  \n",
       "10  14.29  \n",
       "11  51.71  "
      ]
     },
     "execution_count": 53,
     "metadata": {},
     "output_type": "execute_result"
    }
   ],
   "source": [
    "df_t.columns = data.split(\"\\n\")[0].split(\"\\t\")\n",
    "df_t"
   ]
  },
  {
   "cell_type": "code",
   "execution_count": 54,
   "metadata": {
    "collapsed": false
   },
   "outputs": [
    {
     "data": {
      "text/html": [
       "<div>\n",
       "<table border=\"1\" class=\"dataframe\">\n",
       "  <thead>\n",
       "    <tr style=\"text-align: right;\">\n",
       "      <th></th>\n",
       "      <th>F</th>\n",
       "      <th>MF</th>\n",
       "      <th>+GZ</th>\n",
       "      <th>+WRG</th>\n",
       "      <th>+WCBPT</th>\n",
       "      <th>+WCCC</th>\n",
       "      <th>+WRFTC</th>\n",
       "      <th>+GF</th>\n",
       "      <th>+RSFD</th>\n",
       "      <th>ST</th>\n",
       "      <th>BL</th>\n",
       "    </tr>\n",
       "  </thead>\n",
       "  <tbody>\n",
       "    <tr>\n",
       "      <th>0</th>\n",
       "      <td>10-types</td>\n",
       "      <td>5.32</td>\n",
       "      <td>34.8</td>\n",
       "      <td>36.66</td>\n",
       "      <td>41.59</td>\n",
       "      <td>41.04</td>\n",
       "      <td>43.3</td>\n",
       "      <td>40.94</td>\n",
       "      <td></td>\n",
       "      <td>36.22</td>\n",
       "      <td>35.1</td>\n",
       "    </tr>\n",
       "  </tbody>\n",
       "</table>\n",
       "</div>"
      ],
      "text/plain": [
       "          F    MF   +GZ   +WRG +WCBPT  +WCCC +WRFTC    +GF +RSFD     ST    BL\n",
       "0  10-types  5.32  34.8  36.66  41.59  41.04   43.3  40.94        36.22  35.1"
      ]
     },
     "execution_count": 54,
     "metadata": {},
     "output_type": "execute_result"
    }
   ],
   "source": [
    "df_t[df_t[\"F\"] == \"10-types\"]"
   ]
  },
  {
   "cell_type": "code",
   "execution_count": 57,
   "metadata": {
    "collapsed": false
   },
   "outputs": [
    {
     "data": {
      "text/html": [
       "<div>\n",
       "<table border=\"1\" class=\"dataframe\">\n",
       "  <thead>\n",
       "    <tr style=\"text-align: right;\">\n",
       "      <th></th>\n",
       "      <th>MF</th>\n",
       "      <th>+GZ</th>\n",
       "      <th>+WRG</th>\n",
       "      <th>+WCBPT</th>\n",
       "      <th>+WCCC</th>\n",
       "      <th>+WRFTC</th>\n",
       "      <th>+GF</th>\n",
       "      <th>+RSFD</th>\n",
       "      <th>ST</th>\n",
       "      <th>BL</th>\n",
       "    </tr>\n",
       "    <tr>\n",
       "      <th>F</th>\n",
       "      <th></th>\n",
       "      <th></th>\n",
       "      <th></th>\n",
       "      <th></th>\n",
       "      <th></th>\n",
       "      <th></th>\n",
       "      <th></th>\n",
       "      <th></th>\n",
       "      <th></th>\n",
       "      <th></th>\n",
       "    </tr>\n",
       "  </thead>\n",
       "  <tbody>\n",
       "    <tr>\n",
       "      <th>10-types</th>\n",
       "      <td>5.32</td>\n",
       "      <td>34.8</td>\n",
       "      <td>36.66</td>\n",
       "      <td>41.59</td>\n",
       "      <td>41.04</td>\n",
       "      <td>43.3</td>\n",
       "      <td>40.94</td>\n",
       "      <td></td>\n",
       "      <td>36.22</td>\n",
       "      <td>35.1</td>\n",
       "    </tr>\n",
       "    <tr>\n",
       "      <th>company</th>\n",
       "      <td>0</td>\n",
       "      <td>30</td>\n",
       "      <td>34.53</td>\n",
       "      <td>33.33</td>\n",
       "      <td>35.2</td>\n",
       "      <td>33.33</td>\n",
       "      <td>32</td>\n",
       "      <td></td>\n",
       "      <td>27.72</td>\n",
       "      <td>26.17</td>\n",
       "    </tr>\n",
       "    <tr>\n",
       "      <th>facility</th>\n",
       "      <td>0</td>\n",
       "      <td>12.35</td>\n",
       "      <td>9.62</td>\n",
       "      <td>20.78</td>\n",
       "      <td>18.56</td>\n",
       "      <td>17.91</td>\n",
       "      <td>14.49</td>\n",
       "      <td></td>\n",
       "      <td>30.38</td>\n",
       "      <td>19.15</td>\n",
       "    </tr>\n",
       "    <tr>\n",
       "      <th>geo-loc</th>\n",
       "      <td>5.24</td>\n",
       "      <td>47.21</td>\n",
       "      <td>48.06</td>\n",
       "      <td>53.83</td>\n",
       "      <td>54.4</td>\n",
       "      <td>55.93</td>\n",
       "      <td>56.73</td>\n",
       "      <td></td>\n",
       "      <td>49.71</td>\n",
       "      <td>48.36</td>\n",
       "    </tr>\n",
       "    <tr>\n",
       "      <th>movie</th>\n",
       "      <td>8</td>\n",
       "      <td>7.41</td>\n",
       "      <td>6.45</td>\n",
       "      <td>8.33</td>\n",
       "      <td>7.69</td>\n",
       "      <td>9.52</td>\n",
       "      <td>23.53</td>\n",
       "      <td></td>\n",
       "      <td>8.33</td>\n",
       "      <td>0</td>\n",
       "    </tr>\n",
       "    <tr>\n",
       "      <th>musicartist</th>\n",
       "      <td>0</td>\n",
       "      <td>6.56</td>\n",
       "      <td>8.45</td>\n",
       "      <td>9.09</td>\n",
       "      <td>9.52</td>\n",
       "      <td>12.7</td>\n",
       "      <td>6.45</td>\n",
       "      <td></td>\n",
       "      <td>0</td>\n",
       "      <td>0</td>\n",
       "    </tr>\n",
       "    <tr>\n",
       "      <th>other</th>\n",
       "      <td>5.79</td>\n",
       "      <td>18.56</td>\n",
       "      <td>18.69</td>\n",
       "      <td>22.54</td>\n",
       "      <td>20.85</td>\n",
       "      <td>26.63</td>\n",
       "      <td>22.11</td>\n",
       "      <td></td>\n",
       "      <td>24.16</td>\n",
       "      <td>27.74</td>\n",
       "    </tr>\n",
       "    <tr>\n",
       "      <th>person</th>\n",
       "      <td>11.37</td>\n",
       "      <td>55.07</td>\n",
       "      <td>58.51</td>\n",
       "      <td>63.39</td>\n",
       "      <td>63.81</td>\n",
       "      <td>64.82</td>\n",
       "      <td>64.96</td>\n",
       "      <td></td>\n",
       "      <td>53.36</td>\n",
       "      <td>50.18</td>\n",
       "    </tr>\n",
       "    <tr>\n",
       "      <th>product</th>\n",
       "      <td>2.92</td>\n",
       "      <td>12.66</td>\n",
       "      <td>20</td>\n",
       "      <td>16.67</td>\n",
       "      <td>18.18</td>\n",
       "      <td>15.38</td>\n",
       "      <td>10.75</td>\n",
       "      <td></td>\n",
       "      <td>8.96</td>\n",
       "      <td>11.9</td>\n",
       "    </tr>\n",
       "    <tr>\n",
       "      <th>sportsteam</th>\n",
       "      <td>0</td>\n",
       "      <td>12.9</td>\n",
       "      <td>27.94</td>\n",
       "      <td>30.53</td>\n",
       "      <td>29.01</td>\n",
       "      <td>28.13</td>\n",
       "      <td>27.69</td>\n",
       "      <td></td>\n",
       "      <td>12.8</td>\n",
       "      <td>13.11</td>\n",
       "    </tr>\n",
       "    <tr>\n",
       "      <th>tvshow</th>\n",
       "      <td>0</td>\n",
       "      <td>0</td>\n",
       "      <td>0</td>\n",
       "      <td>16.67</td>\n",
       "      <td>16.67</td>\n",
       "      <td>16.67</td>\n",
       "      <td>18.18</td>\n",
       "      <td></td>\n",
       "      <td>0</td>\n",
       "      <td>14.29</td>\n",
       "    </tr>\n",
       "    <tr>\n",
       "      <th>No-types</th>\n",
       "      <td>13.13</td>\n",
       "      <td>48.31</td>\n",
       "      <td>52.51</td>\n",
       "      <td>56.73</td>\n",
       "      <td>56.41</td>\n",
       "      <td>57.38</td>\n",
       "      <td>53.67</td>\n",
       "      <td></td>\n",
       "      <td>50.53</td>\n",
       "      <td>51.71</td>\n",
       "    </tr>\n",
       "  </tbody>\n",
       "</table>\n",
       "</div>"
      ],
      "text/plain": [
       "                MF    +GZ   +WRG +WCBPT  +WCCC +WRFTC    +GF +RSFD     ST  \\\n",
       "F                                                                           \n",
       "10-types      5.32   34.8  36.66  41.59  41.04   43.3  40.94        36.22   \n",
       "company          0     30  34.53  33.33   35.2  33.33     32        27.72   \n",
       "facility         0  12.35   9.62  20.78  18.56  17.91  14.49        30.38   \n",
       "geo-loc       5.24  47.21  48.06  53.83   54.4  55.93  56.73        49.71   \n",
       "movie            8   7.41   6.45   8.33   7.69   9.52  23.53         8.33   \n",
       "musicartist      0   6.56   8.45   9.09   9.52   12.7   6.45            0   \n",
       "other         5.79  18.56  18.69  22.54  20.85  26.63  22.11        24.16   \n",
       "person       11.37  55.07  58.51  63.39  63.81  64.82  64.96        53.36   \n",
       "product       2.92  12.66     20  16.67  18.18  15.38  10.75         8.96   \n",
       "sportsteam       0   12.9  27.94  30.53  29.01  28.13  27.69         12.8   \n",
       "tvshow           0      0      0  16.67  16.67  16.67  18.18            0   \n",
       "No-types     13.13  48.31  52.51  56.73  56.41  57.38  53.67        50.53   \n",
       "\n",
       "                BL  \n",
       "F                   \n",
       "10-types      35.1  \n",
       "company      26.17  \n",
       "facility     19.15  \n",
       "geo-loc      48.36  \n",
       "movie            0  \n",
       "musicartist      0  \n",
       "other        27.74  \n",
       "person       50.18  \n",
       "product       11.9  \n",
       "sportsteam   13.11  \n",
       "tvshow       14.29  \n",
       "No-types     51.71  "
      ]
     },
     "execution_count": 57,
     "metadata": {},
     "output_type": "execute_result"
    }
   ],
   "source": [
    "df_t=df_t.set_index(\"F\")\n",
    "df_t"
   ]
  },
  {
   "cell_type": "code",
   "execution_count": 62,
   "metadata": {
    "collapsed": false
   },
   "outputs": [
    {
     "data": {
      "text/html": [
       "<div>\n",
       "<table border=\"1\" class=\"dataframe\">\n",
       "  <thead>\n",
       "    <tr style=\"text-align: right;\">\n",
       "      <th></th>\n",
       "      <th>MF</th>\n",
       "      <th>+GZ</th>\n",
       "      <th>+WRG</th>\n",
       "      <th>+WCBPT</th>\n",
       "      <th>+WCCC</th>\n",
       "      <th>+WRFTC</th>\n",
       "      <th>+GF</th>\n",
       "      <th>ST</th>\n",
       "      <th>BL</th>\n",
       "    </tr>\n",
       "    <tr>\n",
       "      <th>F</th>\n",
       "      <th></th>\n",
       "      <th></th>\n",
       "      <th></th>\n",
       "      <th></th>\n",
       "      <th></th>\n",
       "      <th></th>\n",
       "      <th></th>\n",
       "      <th></th>\n",
       "      <th></th>\n",
       "    </tr>\n",
       "  </thead>\n",
       "  <tbody>\n",
       "    <tr>\n",
       "      <th>10-types</th>\n",
       "      <td>5.32</td>\n",
       "      <td>34.8</td>\n",
       "      <td>36.66</td>\n",
       "      <td>41.59</td>\n",
       "      <td>41.04</td>\n",
       "      <td>43.3</td>\n",
       "      <td>40.94</td>\n",
       "      <td>36.22</td>\n",
       "      <td>35.1</td>\n",
       "    </tr>\n",
       "    <tr>\n",
       "      <th>company</th>\n",
       "      <td>0</td>\n",
       "      <td>30</td>\n",
       "      <td>34.53</td>\n",
       "      <td>33.33</td>\n",
       "      <td>35.2</td>\n",
       "      <td>33.33</td>\n",
       "      <td>32</td>\n",
       "      <td>27.72</td>\n",
       "      <td>26.17</td>\n",
       "    </tr>\n",
       "    <tr>\n",
       "      <th>facility</th>\n",
       "      <td>0</td>\n",
       "      <td>12.35</td>\n",
       "      <td>9.62</td>\n",
       "      <td>20.78</td>\n",
       "      <td>18.56</td>\n",
       "      <td>17.91</td>\n",
       "      <td>14.49</td>\n",
       "      <td>30.38</td>\n",
       "      <td>19.15</td>\n",
       "    </tr>\n",
       "    <tr>\n",
       "      <th>geo-loc</th>\n",
       "      <td>5.24</td>\n",
       "      <td>47.21</td>\n",
       "      <td>48.06</td>\n",
       "      <td>53.83</td>\n",
       "      <td>54.4</td>\n",
       "      <td>55.93</td>\n",
       "      <td>56.73</td>\n",
       "      <td>49.71</td>\n",
       "      <td>48.36</td>\n",
       "    </tr>\n",
       "    <tr>\n",
       "      <th>movie</th>\n",
       "      <td>8</td>\n",
       "      <td>7.41</td>\n",
       "      <td>6.45</td>\n",
       "      <td>8.33</td>\n",
       "      <td>7.69</td>\n",
       "      <td>9.52</td>\n",
       "      <td>23.53</td>\n",
       "      <td>8.33</td>\n",
       "      <td>0</td>\n",
       "    </tr>\n",
       "    <tr>\n",
       "      <th>musicartist</th>\n",
       "      <td>0</td>\n",
       "      <td>6.56</td>\n",
       "      <td>8.45</td>\n",
       "      <td>9.09</td>\n",
       "      <td>9.52</td>\n",
       "      <td>12.7</td>\n",
       "      <td>6.45</td>\n",
       "      <td>0</td>\n",
       "      <td>0</td>\n",
       "    </tr>\n",
       "    <tr>\n",
       "      <th>other</th>\n",
       "      <td>5.79</td>\n",
       "      <td>18.56</td>\n",
       "      <td>18.69</td>\n",
       "      <td>22.54</td>\n",
       "      <td>20.85</td>\n",
       "      <td>26.63</td>\n",
       "      <td>22.11</td>\n",
       "      <td>24.16</td>\n",
       "      <td>27.74</td>\n",
       "    </tr>\n",
       "    <tr>\n",
       "      <th>person</th>\n",
       "      <td>11.37</td>\n",
       "      <td>55.07</td>\n",
       "      <td>58.51</td>\n",
       "      <td>63.39</td>\n",
       "      <td>63.81</td>\n",
       "      <td>64.82</td>\n",
       "      <td>64.96</td>\n",
       "      <td>53.36</td>\n",
       "      <td>50.18</td>\n",
       "    </tr>\n",
       "    <tr>\n",
       "      <th>product</th>\n",
       "      <td>2.92</td>\n",
       "      <td>12.66</td>\n",
       "      <td>20</td>\n",
       "      <td>16.67</td>\n",
       "      <td>18.18</td>\n",
       "      <td>15.38</td>\n",
       "      <td>10.75</td>\n",
       "      <td>8.96</td>\n",
       "      <td>11.9</td>\n",
       "    </tr>\n",
       "    <tr>\n",
       "      <th>sportsteam</th>\n",
       "      <td>0</td>\n",
       "      <td>12.9</td>\n",
       "      <td>27.94</td>\n",
       "      <td>30.53</td>\n",
       "      <td>29.01</td>\n",
       "      <td>28.13</td>\n",
       "      <td>27.69</td>\n",
       "      <td>12.8</td>\n",
       "      <td>13.11</td>\n",
       "    </tr>\n",
       "    <tr>\n",
       "      <th>tvshow</th>\n",
       "      <td>0</td>\n",
       "      <td>0</td>\n",
       "      <td>0</td>\n",
       "      <td>16.67</td>\n",
       "      <td>16.67</td>\n",
       "      <td>16.67</td>\n",
       "      <td>18.18</td>\n",
       "      <td>0</td>\n",
       "      <td>14.29</td>\n",
       "    </tr>\n",
       "    <tr>\n",
       "      <th>No-types</th>\n",
       "      <td>13.13</td>\n",
       "      <td>48.31</td>\n",
       "      <td>52.51</td>\n",
       "      <td>56.73</td>\n",
       "      <td>56.41</td>\n",
       "      <td>57.38</td>\n",
       "      <td>53.67</td>\n",
       "      <td>50.53</td>\n",
       "      <td>51.71</td>\n",
       "    </tr>\n",
       "  </tbody>\n",
       "</table>\n",
       "</div>"
      ],
      "text/plain": [
       "                MF    +GZ   +WRG +WCBPT  +WCCC +WRFTC    +GF     ST     BL\n",
       "F                                                                         \n",
       "10-types      5.32   34.8  36.66  41.59  41.04   43.3  40.94  36.22   35.1\n",
       "company          0     30  34.53  33.33   35.2  33.33     32  27.72  26.17\n",
       "facility         0  12.35   9.62  20.78  18.56  17.91  14.49  30.38  19.15\n",
       "geo-loc       5.24  47.21  48.06  53.83   54.4  55.93  56.73  49.71  48.36\n",
       "movie            8   7.41   6.45   8.33   7.69   9.52  23.53   8.33      0\n",
       "musicartist      0   6.56   8.45   9.09   9.52   12.7   6.45      0      0\n",
       "other         5.79  18.56  18.69  22.54  20.85  26.63  22.11  24.16  27.74\n",
       "person       11.37  55.07  58.51  63.39  63.81  64.82  64.96  53.36  50.18\n",
       "product       2.92  12.66     20  16.67  18.18  15.38  10.75   8.96   11.9\n",
       "sportsteam       0   12.9  27.94  30.53  29.01  28.13  27.69   12.8  13.11\n",
       "tvshow           0      0      0  16.67  16.67  16.67  18.18      0  14.29\n",
       "No-types     13.13  48.31  52.51  56.73  56.41  57.38  53.67  50.53  51.71"
      ]
     },
     "execution_count": 62,
     "metadata": {},
     "output_type": "execute_result"
    }
   ],
   "source": [
    "df_t = df_t.drop(\"+RSFD\", axis=1)\n",
    "df_t"
   ]
  },
  {
   "cell_type": "code",
   "execution_count": 64,
   "metadata": {
    "collapsed": false
   },
   "outputs": [],
   "source": [
    "df_t = df_t.astype(\"float\")"
   ]
  },
  {
   "cell_type": "code",
   "execution_count": 67,
   "metadata": {
    "collapsed": false
   },
   "outputs": [
    {
     "data": {
      "text/html": [
       "<div>\n",
       "<table border=\"1\" class=\"dataframe\">\n",
       "  <thead>\n",
       "    <tr style=\"text-align: right;\">\n",
       "      <th></th>\n",
       "      <th>10-types</th>\n",
       "    </tr>\n",
       "  </thead>\n",
       "  <tbody>\n",
       "    <tr>\n",
       "      <th>MF</th>\n",
       "      <td>5.32</td>\n",
       "    </tr>\n",
       "    <tr>\n",
       "      <th>+GZ</th>\n",
       "      <td>34.80</td>\n",
       "    </tr>\n",
       "    <tr>\n",
       "      <th>+WRG</th>\n",
       "      <td>36.66</td>\n",
       "    </tr>\n",
       "    <tr>\n",
       "      <th>+WCBPT</th>\n",
       "      <td>41.59</td>\n",
       "    </tr>\n",
       "    <tr>\n",
       "      <th>+WCCC</th>\n",
       "      <td>41.04</td>\n",
       "    </tr>\n",
       "    <tr>\n",
       "      <th>+WRFTC</th>\n",
       "      <td>43.30</td>\n",
       "    </tr>\n",
       "    <tr>\n",
       "      <th>+GF</th>\n",
       "      <td>40.94</td>\n",
       "    </tr>\n",
       "    <tr>\n",
       "      <th>ST</th>\n",
       "      <td>36.22</td>\n",
       "    </tr>\n",
       "    <tr>\n",
       "      <th>BL</th>\n",
       "      <td>35.10</td>\n",
       "    </tr>\n",
       "  </tbody>\n",
       "</table>\n",
       "</div>"
      ],
      "text/plain": [
       "        10-types\n",
       "MF          5.32\n",
       "+GZ        34.80\n",
       "+WRG       36.66\n",
       "+WCBPT     41.59\n",
       "+WCCC      41.04\n",
       "+WRFTC     43.30\n",
       "+GF        40.94\n",
       "ST         36.22\n",
       "BL         35.10"
      ]
     },
     "execution_count": 67,
     "metadata": {},
     "output_type": "execute_result"
    }
   ],
   "source": [
    "pd.DataFrame(df_t.ix[\"10-types\"])"
   ]
  },
  {
   "cell_type": "code",
   "execution_count": 71,
   "metadata": {
    "collapsed": true
   },
   "outputs": [],
   "source": [
    "df_tt = pd.DataFrame(df_t.ix[\"10-types\"])"
   ]
  },
  {
   "cell_type": "code",
   "execution_count": 102,
   "metadata": {
    "collapsed": false
   },
   "outputs": [
    {
     "data": {
      "text/plain": [
       "<matplotlib.text.Text at 0x7fd9322f9190>"
      ]
     },
     "execution_count": 102,
     "metadata": {},
     "output_type": "execute_result"
    },
    {
     "data": {
      "image/png": "[encoded data removed]",
      "text/plain": [
       "<matplotlib.figure.Figure at 0x7fd932110c90>"
      ]
     },
     "metadata": {},
     "output_type": "display_data"
    }
   ],
   "source": [
    "ax = sns.barplot(y=\"10-types\", x=df_tt.index, data=df_tt, color=\"red\")\n",
    "sns.despine(offset=2)\n",
    "for p in ax.patches:\n",
    "        height = p.get_height()\n",
    "        ax.text(p.get_x(), height+1, '%.2f'%(height))\n",
    "        \n",
    "ax.patches[-2].set_color(\"0.4\")\n",
    "p.set_color(\"0.2\")\n",
    "ax.set_ylabel(\"Overall FB=1 score on 10-types\")\n",
    "\n",
    "        "
   ]
  },
  {
   "cell_type": "code",
   "execution_count": 47,
   "metadata": {
    "collapsed": false
   },
   "outputs": [
    {
     "ename": "TypeError",
     "evalue": "unsupported operand type(s) for /: 'str' and 'int'",
     "output_type": "error",
     "traceback": [
      "\u001b[0;31m---------------------------------------------------------------------------\u001b[0m",
      "\u001b[0;31mTypeError\u001b[0m                                 Traceback (most recent call last)",
      "\u001b[0;32m<ipython-input-47-f21ee61e5dfc>\u001b[0m in \u001b[0;36m<module>\u001b[0;34m()\u001b[0m\n\u001b[0;32m----> 1\u001b[0;31m \u001b[0msns\u001b[0m\u001b[0;34m.\u001b[0m\u001b[0mbarplot\u001b[0m\u001b[0;34m(\u001b[0m\u001b[0mdata\u001b[0m\u001b[0;34m=\u001b[0m\u001b[0mpd\u001b[0m\u001b[0;34m.\u001b[0m\u001b[0mDataFrame\u001b[0m\u001b[0;34m(\u001b[0m\u001b[0mdf_t\u001b[0m\u001b[0;34m.\u001b[0m\u001b[0mix\u001b[0m\u001b[0;34m[\u001b[0m\u001b[0;34m\"10-types\"\u001b[0m\u001b[0;34m,\u001b[0m \u001b[0;34m:\u001b[0m\u001b[0;34m]\u001b[0m\u001b[0;34m)\u001b[0m\u001b[0;34m,\u001b[0m \u001b[0my\u001b[0m\u001b[0;34m=\u001b[0m\u001b[0;34m\"10-types\"\u001b[0m\u001b[0;34m)\u001b[0m\u001b[0;34m\u001b[0m\u001b[0m\n\u001b[0m",
      "\u001b[0;32m/home/entity/anaconda2/lib/python2.7/site-packages/seaborn/categorical.pyc\u001b[0m in \u001b[0;36mbarplot\u001b[0;34m(x, y, hue, data, order, hue_order, estimator, ci, n_boot, units, orient, color, palette, saturation, errcolor, errwidth, capsize, ax, **kwargs)\u001b[0m\n\u001b[1;32m   2897\u001b[0m                           \u001b[0mestimator\u001b[0m\u001b[0;34m,\u001b[0m \u001b[0mci\u001b[0m\u001b[0;34m,\u001b[0m \u001b[0mn_boot\u001b[0m\u001b[0;34m,\u001b[0m \u001b[0munits\u001b[0m\u001b[0;34m,\u001b[0m\u001b[0;34m\u001b[0m\u001b[0m\n\u001b[1;32m   2898\u001b[0m                           \u001b[0morient\u001b[0m\u001b[0;34m,\u001b[0m \u001b[0mcolor\u001b[0m\u001b[0;34m,\u001b[0m \u001b[0mpalette\u001b[0m\u001b[0;34m,\u001b[0m \u001b[0msaturation\u001b[0m\u001b[0;34m,\u001b[0m\u001b[0;34m\u001b[0m\u001b[0m\n\u001b[0;32m-> 2899\u001b[0;31m                           errcolor, errwidth, capsize)\n\u001b[0m\u001b[1;32m   2900\u001b[0m \u001b[0;34m\u001b[0m\u001b[0m\n\u001b[1;32m   2901\u001b[0m     \u001b[0;32mif\u001b[0m \u001b[0max\u001b[0m \u001b[0;32mis\u001b[0m \u001b[0mNone\u001b[0m\u001b[0;34m:\u001b[0m\u001b[0;34m\u001b[0m\u001b[0m\n",
      "\u001b[0;32m/home/entity/anaconda2/lib/python2.7/site-packages/seaborn/categorical.pyc\u001b[0m in \u001b[0;36m__init__\u001b[0;34m(self, x, y, hue, data, order, hue_order, estimator, ci, n_boot, units, orient, color, palette, saturation, errcolor, errwidth, capsize)\u001b[0m\n\u001b[1;32m   1543\u001b[0m                                  order, hue_order, units)\n\u001b[1;32m   1544\u001b[0m         \u001b[0mself\u001b[0m\u001b[0;34m.\u001b[0m\u001b[0mestablish_colors\u001b[0m\u001b[0;34m(\u001b[0m\u001b[0mcolor\u001b[0m\u001b[0;34m,\u001b[0m \u001b[0mpalette\u001b[0m\u001b[0;34m,\u001b[0m \u001b[0msaturation\u001b[0m\u001b[0;34m)\u001b[0m\u001b[0;34m\u001b[0m\u001b[0m\n\u001b[0;32m-> 1545\u001b[0;31m         \u001b[0mself\u001b[0m\u001b[0;34m.\u001b[0m\u001b[0mestimate_statistic\u001b[0m\u001b[0;34m(\u001b[0m\u001b[0mestimator\u001b[0m\u001b[0;34m,\u001b[0m \u001b[0mci\u001b[0m\u001b[0;34m,\u001b[0m \u001b[0mn_boot\u001b[0m\u001b[0;34m)\u001b[0m\u001b[0;34m\u001b[0m\u001b[0m\n\u001b[0m\u001b[1;32m   1546\u001b[0m \u001b[0;34m\u001b[0m\u001b[0m\n\u001b[1;32m   1547\u001b[0m         \u001b[0mself\u001b[0m\u001b[0;34m.\u001b[0m\u001b[0merrcolor\u001b[0m \u001b[0;34m=\u001b[0m \u001b[0merrcolor\u001b[0m\u001b[0;34m\u001b[0m\u001b[0m\n",
      "\u001b[0;32m/home/entity/anaconda2/lib/python2.7/site-packages/seaborn/categorical.pyc\u001b[0m in \u001b[0;36mestimate_statistic\u001b[0;34m(self, estimator, ci, n_boot)\u001b[0m\n\u001b[1;32m   1438\u001b[0m                     \u001b[0mstatistic\u001b[0m\u001b[0;34m.\u001b[0m\u001b[0mappend\u001b[0m\u001b[0;34m(\u001b[0m\u001b[0mnp\u001b[0m\u001b[0;34m.\u001b[0m\u001b[0mnan\u001b[0m\u001b[0;34m)\u001b[0m\u001b[0;34m\u001b[0m\u001b[0m\n\u001b[1;32m   1439\u001b[0m                 \u001b[0;32melse\u001b[0m\u001b[0;34m:\u001b[0m\u001b[0;34m\u001b[0m\u001b[0m\n\u001b[0;32m-> 1440\u001b[0;31m                     \u001b[0mstatistic\u001b[0m\u001b[0;34m.\u001b[0m\u001b[0mappend\u001b[0m\u001b[0;34m(\u001b[0m\u001b[0mestimator\u001b[0m\u001b[0;34m(\u001b[0m\u001b[0mstat_data\u001b[0m\u001b[0;34m)\u001b[0m\u001b[0;34m)\u001b[0m\u001b[0;34m\u001b[0m\u001b[0m\n\u001b[0m\u001b[1;32m   1441\u001b[0m \u001b[0;34m\u001b[0m\u001b[0m\n\u001b[1;32m   1442\u001b[0m                 \u001b[0;31m# Get a confidence interval for this estimate\u001b[0m\u001b[0;34m\u001b[0m\u001b[0;34m\u001b[0m\u001b[0m\n",
      "\u001b[0;32m/home/entity/anaconda2/lib/python2.7/site-packages/numpy/core/fromnumeric.pyc\u001b[0m in \u001b[0;36mmean\u001b[0;34m(a, axis, dtype, out, keepdims)\u001b[0m\n\u001b[1;32m   2883\u001b[0m \u001b[0;34m\u001b[0m\u001b[0m\n\u001b[1;32m   2884\u001b[0m     return _methods._mean(a, axis=axis, dtype=dtype,\n\u001b[0;32m-> 2885\u001b[0;31m                           out=out, keepdims=keepdims)\n\u001b[0m\u001b[1;32m   2886\u001b[0m \u001b[0;34m\u001b[0m\u001b[0m\n\u001b[1;32m   2887\u001b[0m \u001b[0;34m\u001b[0m\u001b[0m\n",
      "\u001b[0;32m/home/entity/anaconda2/lib/python2.7/site-packages/numpy/core/_methods.pyc\u001b[0m in \u001b[0;36m_mean\u001b[0;34m(a, axis, dtype, out, keepdims)\u001b[0m\n\u001b[1;32m     70\u001b[0m         \u001b[0mret\u001b[0m \u001b[0;34m=\u001b[0m \u001b[0mret\u001b[0m\u001b[0;34m.\u001b[0m\u001b[0mdtype\u001b[0m\u001b[0;34m.\u001b[0m\u001b[0mtype\u001b[0m\u001b[0;34m(\u001b[0m\u001b[0mret\u001b[0m \u001b[0;34m/\u001b[0m \u001b[0mrcount\u001b[0m\u001b[0;34m)\u001b[0m\u001b[0;34m\u001b[0m\u001b[0m\n\u001b[1;32m     71\u001b[0m     \u001b[0;32melse\u001b[0m\u001b[0;34m:\u001b[0m\u001b[0;34m\u001b[0m\u001b[0m\n\u001b[0;32m---> 72\u001b[0;31m         \u001b[0mret\u001b[0m \u001b[0;34m=\u001b[0m \u001b[0mret\u001b[0m \u001b[0;34m/\u001b[0m \u001b[0mrcount\u001b[0m\u001b[0;34m\u001b[0m\u001b[0m\n\u001b[0m\u001b[1;32m     73\u001b[0m \u001b[0;34m\u001b[0m\u001b[0m\n\u001b[1;32m     74\u001b[0m     \u001b[0;32mreturn\u001b[0m \u001b[0mret\u001b[0m\u001b[0;34m\u001b[0m\u001b[0m\n",
      "\u001b[0;31mTypeError\u001b[0m: unsupported operand type(s) for /: 'str' and 'int'"
     ]
    }
   ],
   "source": [
    "sns.barplot(data=pd.DataFrame(df_t.ix[\"10-types\", :]), y=\"10-types\")"
   ]
  },
  {
   "cell_type": "code",
   "execution_count": null,
   "metadata": {
    "collapsed": true
   },
   "outputs": [],
   "source": []
  }
 ],
 "metadata": {
  "kernelspec": {
   "display_name": "Python 2",
   "language": "python",
   "name": "python2"
  },
  "language_info": {
   "codemirror_mode": {
    "name": "ipython",
    "version": 2
   },
   "file_extension": ".py",
   "mimetype": "text/x-python",
   "name": "python",
   "nbconvert_exporter": "python",
   "pygments_lexer": "ipython2",
   "version": "2.7.12"
  }
 },
 "nbformat": 4,
 "nbformat_minor": 1
}
